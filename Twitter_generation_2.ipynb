{
  "nbformat": 4,
  "nbformat_minor": 0,
  "metadata": {
    "kernelspec": {
      "display_name": "Python 3",
      "language": "python",
      "name": "python3"
    },
    "language_info": {
      "codemirror_mode": {
        "name": "ipython",
        "version": 3
      },
      "file_extension": ".py",
      "mimetype": "text/x-python",
      "name": "python",
      "nbconvert_exporter": "python",
      "pygments_lexer": "ipython3",
      "version": "3.7.3"
    },
    "colab": {
      "name": "Twitter-generation-2.ipynb",
      "provenance": [],
      "machine_shape": "hm"
    },
    "accelerator": "GPU"
  },
  "cells": [
    {
      "cell_type": "code",
      "metadata": {
        "id": "dD0kkdTz1_x4",
        "colab_type": "code",
        "colab": {
          "base_uri": "https://localhost:8080/",
          "height": 55
        },
        "outputId": "939e1a08-8cd5-40fc-e520-3584abd5c9ed"
      },
      "source": [
        "import numpy as np # linear algebra\n",
        "import pandas as pd # data processing, CSV file I/O (e.g. pd.read_csv)\n",
        "\n",
        "# Input data files are available in the \"../input/\" directory.\n",
        "# For example, running this (by clicking run or pressing Shift+Enter) will list the files in the input directory\n",
        "\n",
        "import os\n",
        "print(os.listdir(\"../\"))"
      ],
      "execution_count": 3,
      "outputs": [
        {
          "output_type": "stream",
          "text": [
            "['proc', 'run', 'var', 'lib', 'tmp', 'mnt', 'root', 'opt', 'boot', 'bin', 'home', 'usr', 'media', 'lib64', 'etc', 'srv', 'dev', 'sys', 'sbin', 'train.csv', 'test.csv', '.dockerenv', 'tools', 'datalab', 'swift', 'tensorflow-1.15.2', 'content', 'dlib-19.18.0-cp36-cp36m-linux_x86_64.whl', 'dlib-19.18.0-cp27-cp27mu-linux_x86_64.whl', 'lib32']\n"
          ],
          "name": "stdout"
        }
      ]
    },
    {
      "cell_type": "code",
      "metadata": {
        "id": "HoKHS3Ms1_x-",
        "colab_type": "code",
        "colab": {
          "base_uri": "https://localhost:8080/",
          "height": 220
        },
        "outputId": "110b3b2f-e13d-47d6-d39a-cf861f7006eb"
      },
      "source": [
        "from __future__ import print_function\n",
        "from keras.callbacks import LambdaCallback\n",
        "from keras.models import Sequential\n",
        "from keras.layers import Dense\n",
        "from keras.layers import LSTM\n",
        "from keras.layers import Dropout\n",
        "from keras.optimizers import RMSprop\n",
        "from keras.optimizers import Adam\n",
        "from keras.utils.data_utils import get_file\n",
        "import numpy as np\n",
        "import random\n",
        "import sys\n",
        "import io-\n",
        "\n",
        "df_train = pd.read_csv('../train.csv')\n",
        "df_test = pd.read_csv('../test.csv')\n",
        "df = pd.concat([df_train, df_test])\n",
        "df = df[df['target'] == 0]\n",
        "print(df.shape)\n",
        "df.head()"
      ],
      "execution_count": 4,
      "outputs": [
        {
          "output_type": "stream",
          "text": [
            "(4342, 5)\n"
          ],
          "name": "stdout"
        },
        {
          "output_type": "execute_result",
          "data": {
            "text/html": [
              "<div>\n",
              "<style scoped>\n",
              "    .dataframe tbody tr th:only-of-type {\n",
              "        vertical-align: middle;\n",
              "    }\n",
              "\n",
              "    .dataframe tbody tr th {\n",
              "        vertical-align: top;\n",
              "    }\n",
              "\n",
              "    .dataframe thead th {\n",
              "        text-align: right;\n",
              "    }\n",
              "</style>\n",
              "<table border=\"1\" class=\"dataframe\">\n",
              "  <thead>\n",
              "    <tr style=\"text-align: right;\">\n",
              "      <th></th>\n",
              "      <th>id</th>\n",
              "      <th>keyword</th>\n",
              "      <th>location</th>\n",
              "      <th>text</th>\n",
              "      <th>target</th>\n",
              "    </tr>\n",
              "  </thead>\n",
              "  <tbody>\n",
              "    <tr>\n",
              "      <th>15</th>\n",
              "      <td>23</td>\n",
              "      <td>NaN</td>\n",
              "      <td>NaN</td>\n",
              "      <td>What's up man?</td>\n",
              "      <td>0.0</td>\n",
              "    </tr>\n",
              "    <tr>\n",
              "      <th>16</th>\n",
              "      <td>24</td>\n",
              "      <td>NaN</td>\n",
              "      <td>NaN</td>\n",
              "      <td>I love fruits</td>\n",
              "      <td>0.0</td>\n",
              "    </tr>\n",
              "    <tr>\n",
              "      <th>17</th>\n",
              "      <td>25</td>\n",
              "      <td>NaN</td>\n",
              "      <td>NaN</td>\n",
              "      <td>Summer is lovely</td>\n",
              "      <td>0.0</td>\n",
              "    </tr>\n",
              "    <tr>\n",
              "      <th>18</th>\n",
              "      <td>26</td>\n",
              "      <td>NaN</td>\n",
              "      <td>NaN</td>\n",
              "      <td>My car is so fast</td>\n",
              "      <td>0.0</td>\n",
              "    </tr>\n",
              "    <tr>\n",
              "      <th>19</th>\n",
              "      <td>28</td>\n",
              "      <td>NaN</td>\n",
              "      <td>NaN</td>\n",
              "      <td>What a goooooooaaaaaal!!!!!!</td>\n",
              "      <td>0.0</td>\n",
              "    </tr>\n",
              "  </tbody>\n",
              "</table>\n",
              "</div>"
            ],
            "text/plain": [
              "    id keyword location                          text  target\n",
              "15  23     NaN      NaN                What's up man?     0.0\n",
              "16  24     NaN      NaN                 I love fruits     0.0\n",
              "17  25     NaN      NaN              Summer is lovely     0.0\n",
              "18  26     NaN      NaN             My car is so fast     0.0\n",
              "19  28     NaN      NaN  What a goooooooaaaaaal!!!!!!     0.0"
            ]
          },
          "metadata": {
            "tags": []
          },
          "execution_count": 4
        }
      ]
    },
    {
      "cell_type": "markdown",
      "metadata": {
        "id": "r4ib-ZOB1_yB",
        "colab_type": "text"
      },
      "source": [
        "## inspect text"
      ]
    },
    {
      "cell_type": "code",
      "metadata": {
        "id": "Qesx00871_yB",
        "colab_type": "code",
        "colab": {}
      },
      "source": [
        "# lowercase all\n",
        "text = df['text'].str.lower()"
      ],
      "execution_count": 0,
      "outputs": []
    },
    {
      "cell_type": "markdown",
      "metadata": {
        "id": "O0IIYDUI1_yF",
        "colab_type": "text"
      },
      "source": [
        "we probably want to keep the hashtags, but if there are for example random characters (like links), we want to drop them so they won't affct the precictions"
      ]
    },
    {
      "cell_type": "code",
      "metadata": {
        "id": "UpWiUh_u1_yG",
        "colab_type": "code",
        "colab": {
          "base_uri": "https://localhost:8080/",
          "height": 211
        },
        "outputId": "60180ed1-5c4e-4dbf-c3cd-f8583a36111e"
      },
      "source": [
        "np.random.seed(12345)\n",
        "np.random.choice(text,10)"
      ],
      "execution_count": 6,
      "outputs": [
        {
          "output_type": "execute_result",
          "data": {
            "text/plain": [
              "array(['i just made a weird high pitched noise and then i heard a siren ofnsixjks ??????',\n",
              "       'i added a video to a @youtube playlist http://t.co/o7qogmoegu s@x 109 - sws | fatality (captain falcon) vs. snow (fox) ssb4 losers',\n",
              "       '@wisdc &amp; obama supports  death2usa .. http://t.co/serarcnrby',\n",
              "       '@hebrooon u better learn derivative of formula seismic rather than thinking about things like that or you are a things like that? haha',\n",
              "       'ancient mayan tablet found via http://t.co/lmumzkltln http://t.co/yebxxarybf http://t.co/srruqfffr6 http://t.co/cadzxagmsi',\n",
              "       'i just screamed what the fuck is a hond',\n",
              "       '@fairx818x @playoverwatch @blizzardcs please blizzard we love you',\n",
              "       'reddit will now quarantine offensive content: reddit co-founder and ceo steve huffman has unveiled more specif... http://t.co/tdeukjzzii',\n",
              "       'lhh silent screaming was mastered  https://t.co/biexwdldwc',\n",
              "       'episcopal priests on road trip with interracial family shares harrowing story of police harassment http://t.co/rg4jishybs via @dailykos'],\n",
              "      dtype=object)"
            ]
          },
          "metadata": {
            "tags": []
          },
          "execution_count": 6
        }
      ]
    },
    {
      "cell_type": "code",
      "metadata": {
        "id": "xymUr9yG1_yJ",
        "colab_type": "code",
        "colab": {
          "base_uri": "https://localhost:8080/",
          "height": 87
        },
        "outputId": "18a1a8a9-77d3-4d25-c22a-69c9134b8d09"
      },
      "source": [
        "print('BEFORE:')\n",
        "print(text[36])\n",
        "text = text.map(lambda s: ' '.join([x for x in s.split() if 'http' not in x]))\n",
        "print('AFTER:')\n",
        "print(text[36])"
      ],
      "execution_count": 7,
      "outputs": [
        {
          "output_type": "stream",
          "text": [
            "BEFORE:\n",
            "@phdsquares #mufc they've built so much hype around new acquisitions but i doubt they will set the epl ablaze this season.\n",
            "AFTER:\n",
            "@phdsquares #mufc they've built so much hype around new acquisitions but i doubt they will set the epl ablaze this season.\n"
          ],
          "name": "stdout"
        }
      ]
    },
    {
      "cell_type": "markdown",
      "metadata": {
        "id": "SCsrcenC1_yM",
        "colab_type": "text"
      },
      "source": [
        "any super short tweets?"
      ]
    },
    {
      "cell_type": "code",
      "metadata": {
        "id": "4xSeZ3yi1_yM",
        "colab_type": "code",
        "colab": {
          "base_uri": "https://localhost:8080/",
          "height": 318
        },
        "outputId": "8d388962-6453-44ab-e3e7-e3b28547b8c8"
      },
      "source": [
        "print('max tweet len:',text.map(len).max())\n",
        "print('min tweet len:',text.map(len).min())\n",
        "print(text.map(len).hist())"
      ],
      "execution_count": 8,
      "outputs": [
        {
          "output_type": "stream",
          "text": [
            "max tweet len: 157\n",
            "min tweet len: 5\n",
            "AxesSubplot(0.125,0.125;0.775x0.755)\n"
          ],
          "name": "stdout"
        },
        {
          "output_type": "display_data",
          "data": {
            "image/png": "[encoded data removed]",
            "text/plain": [
              "<Figure size 432x288 with 1 Axes>"
            ]
          },
          "metadata": {
            "tags": [],
            "needs_background": "light"
          }
        }
      ]
    },
    {
      "cell_type": "code",
      "metadata": {
        "id": "rK0VB-7H1_yQ",
        "colab_type": "code",
        "colab": {
          "base_uri": "https://localhost:8080/",
          "height": 35
        },
        "outputId": "747d8e97-3c1a-4053-ddd2-7f4f777af4b9"
      },
      "source": [
        "text = text[text.map(len)>60]\n",
        "len(text)"
      ],
      "execution_count": 9,
      "outputs": [
        {
          "output_type": "execute_result",
          "data": {
            "text/plain": [
              "3122"
            ]
          },
          "metadata": {
            "tags": []
          },
          "execution_count": 9
        }
      ]
    },
    {
      "cell_type": "markdown",
      "metadata": {
        "id": "XMnl8YcJ1_yT",
        "colab_type": "text"
      },
      "source": [
        "## Get Chars Dictionary"
      ]
    },
    {
      "cell_type": "code",
      "metadata": {
        "id": "Ftmj_6j31_yT",
        "colab_type": "code",
        "colab": {
          "base_uri": "https://localhost:8080/",
          "height": 35
        },
        "outputId": "d3a661d6-38d4-4ac0-8fa3-83cd3785e4b1"
      },
      "source": [
        "chars = sorted(list(set(''.join(text))))\n",
        "print('total chars:', len(chars))\n",
        "char_indices = dict((c, i) for i, c in enumerate(chars))\n",
        "indices_char = dict((i, c) for i, c in enumerate(chars))"
      ],
      "execution_count": 10,
      "outputs": [
        {
          "output_type": "stream",
          "text": [
            "total chars: 88\n"
          ],
          "name": "stdout"
        }
      ]
    },
    {
      "cell_type": "markdown",
      "metadata": {
        "id": "Zo6unaOO1_yW",
        "colab_type": "text"
      },
      "source": [
        "Inspect Chars"
      ]
    },
    {
      "cell_type": "code",
      "metadata": {
        "id": "RNlqm8ay1_yX",
        "colab_type": "code",
        "colab": {
          "base_uri": "https://localhost:8080/",
          "height": 55
        },
        "outputId": "6c2ce3e0-4dc8-4772-dff7-d0807e05cb07"
      },
      "source": [
        "print(chars)"
      ],
      "execution_count": 11,
      "outputs": [
        {
          "output_type": "stream",
          "text": [
            "[' ', '!', '#', '$', '%', '&', \"'\", '(', ')', '*', '+', '-', '.', '/', '0', '1', '2', '3', '4', '5', '6', '7', '8', '9', ':', ';', '=', '?', '@', '[', '\\\\', ']', '^', '_', '`', 'a', 'b', 'c', 'd', 'e', 'f', 'g', 'h', 'i', 'j', 'k', 'l', 'm', 'n', 'o', 'p', 'q', 'r', 's', 't', 'u', 'v', 'w', 'x', 'y', 'z', '{', '|', '}', '~', '\\x89', '\\x9d', '¡', '¢', '£', '¤', '¨', '©', 'ª', '«', '´', '¼', 'å', 'ç', 'è', 'ê', 'ì', 'ï', 'ò', 'ó', '÷', 'û', 'ü']\n"
          ],
          "name": "stdout"
        }
      ]
    },
    {
      "cell_type": "markdown",
      "metadata": {
        "id": "fZnFl1QH1_ya",
        "colab_type": "text"
      },
      "source": [
        "maybe last ones are emojis?\n",
        "Let's take a look at sentences with the weird chars."
      ]
    },
    {
      "cell_type": "code",
      "metadata": {
        "id": "wvO9SQaR1_yb",
        "colab_type": "code",
        "colab": {
          "base_uri": "https://localhost:8080/",
          "height": 1000
        },
        "outputId": "a5b29451-f094-4cd4-de95-571f9da30100"
      },
      "source": [
        "for c in chars[-27:]:\n",
        "    print('\\nCHAR:', c)\n",
        "    smple = [x for x in text if c in x]\n",
        "    print(random.sample(smple,min(3,len(smple))))"
      ],
      "execution_count": 12,
      "outputs": [
        {
          "output_type": "stream",
          "text": [
            "\n",
            "CHAR: {\n",
            "['{info} baekhyun and suho will be attending the idol sports championship on august 10th cr: syjexo']\n",
            "\n",
            "CHAR: |\n",
            "[\"#pbban (temporary:300) russaky89 @'armageddon | do not kill | flags only | fast xp' for reason\", '320 [ir] icemoon [aftershock] | | @djicemoon | #dubstep #trapmusic #dnb #edm #dance #ices\\x89û_', 'owner of chicago-area gay bar admits to arson scheme via @theadvocatemag #lgbt |']\n",
            "\n",
            "CHAR: }\n",
            "['{info} baekhyun and suho will be attending the idol sports championship on august 10th cr: syjexo', 'å¤} new ladies shoulder tote #handbag faux leather hobo purse cross body bag #womens rt en\\x89û_']\n",
            "\n",
            "CHAR: ~\n",
            "['the tragedy of life is not that it ends so soon but that we wait so long to begin it. ~ w.m. lewis #quotes', \"@himeruisu i'm going to ram your ass so hard i'll have to shove your face on the pillows to muffle your screams of pain and pleasure~\", \"'i eat because it makes my mouth explode with joy and my soul rise upwards.' ~\"]\n",
            "\n",
            "CHAR: \n",
            "['å¤} new ladies shoulder tote #handbag faux leather hobo purse cross body bag #womens rt en\\x89û_', 'know them recognize them......then obliterate them! #gym #gymflow #gymtime #team #assassins\\x89û_', \"'by replacing fear of the unknown with curiosity we open ourselves up to\\x89û_\"]\n",
            "\n",
            "CHAR: \n",
            "['\\x89ûïparties and body bags go together like drinking and driving.\\x89û\\x9d', 'i liked a @youtube video from @sqwizzix call of duty: \\x89ûïthe piano entertainer\\x89û\\x9d ep. 9 \\x89ûò musicians collide!', 'ted cruz fires back at jeb &amp; bush: \\x89ûïwe lose because of republicans like jeb &amp; mitt.\\x89û\\x9d [video] -']\n",
            "\n",
            "CHAR: ¡\n",
            "['\\x89û¢\\x89û¢if your lost &amp; alone or your sinking like a stone carry onå¡å¡']\n",
            "\n",
            "CHAR: ¢\n",
            "[\"general news \\x89û¢åê'demolition of houses on waterways begins at achimota mile 7 ' via @233liveonline. full story at\", '\\x89û¢\\x89û¢if your lost &amp; alone or your sinking like a stone carry onå¡å¡', \"general news \\x89û¢åê'demolition of houses on waterways begins at achimota mile 7 ' via @233liveonline. full story at\"]\n",
            "\n",
            "CHAR: £\n",
            "['get å£150 free bets when you register at boylesports casino #luck #destroy', \"unions say they are supportive of 'london' yet are prepared to damage it economically? (å£300m last time)\", '@ellenfromnowon 7-speed nexus shifter å£9! (for community cargo bike?)']\n",
            "\n",
            "CHAR: ¤\n",
            "['å¤} new ladies shoulder tote #handbag faux leather hobo purse cross body bag #womens rt en\\x89û_']\n",
            "\n",
            "CHAR: ¨\n",
            "['official kinesiology tape of ironmanå¨ long-lasting durability effectiveness on common injuries', 'åèmgn-africaå¨ pin:263789f4 åè correction: tent collapse story: correction: tent collapse story åè @wizkidayo', '@accionempresa the u.s. department of commerce has been deluged the last two months with com... @gerenciatodos å¨']\n",
            "\n",
            "CHAR: ©\n",
            "[\"@ladyfleur the example i used is even worse in that it's a cafì© trying to market itself w/hashtag hijacking.\"]\n",
            "\n",
            "CHAR: ª\n",
            "[\"'we\\x89ûªre blown away by this extension. nothing we\\x89ûªve seen has as many options as this one.'\", 'catastrophic-fallen-angel: reveillertm: macabrelolita: i was supposed to write \\x89û÷amino acids\\x89ûª and i nearly...', 'if you\\x89ûªre not paying attention to your influencers you\\x89ûªre burning money | socialtimes']\n",
            "\n",
            "CHAR: «\n",
            "['people donå«t want to hear the truth because they donå«t want their illusions destroyed. #fn.']\n",
            "\n",
            "CHAR: ´\n",
            "['i love the body shop\\x89ûªs bags?? #cutekitten #catsofinstagram #summerinsweden #katt #katterpì´instagram #dumle #dagens\\x89û_']\n",
            "\n",
            "CHAR: ¼\n",
            "['ranking #artectura #pop2015 #nå¼36 florence + the machine - ship to wreck #music #playlist #youtube']\n",
            "\n",
            "CHAR: å\n",
            "['åèmgn-africaå¨ pin:263789f4 åè correction: tent collapse story: correction: tent collapse story åè @wizkidayo', \"general news \\x89û¢åê'demolition of houses on waterways begins at achimota mile 7 ' via @233liveonline. full story at\", '@syringetoanger åç and probably even more. but some disagreements with general ross and the catastrophic occurrence made something clear. åè']\n",
            "\n",
            "CHAR: ç\n",
            "['@syringetoanger åç and probably even more. but some disagreements with general ross and the catastrophic occurrence made something clear. åè', '@skarletan åç the storm. a violent swell of emotions then nothing.']\n",
            "\n",
            "CHAR: è\n",
            "['åèmgn-africaå¨ pin:263789f4 åè correction: tent collapse story: correction: tent collapse story åè @wizkidayo', '@syringetoanger åç and probably even more. but some disagreements with general ross and the catastrophic occurrence made something clear. åè']\n",
            "\n",
            "CHAR: ê\n",
            "['disaster averted: police kill gunman with \\x89û÷hoax device\\x89ûª atåêcinema', 'its the best time of day!! åê @siren_voice is #liveonstreamate!', \"photoset: littlebitofbass: silinski: ed sheeran onåê'the hobbit: the desolation of smaug' german premiere...\"]\n",
            "\n",
            "CHAR: ì\n",
            "['i love the body shop\\x89ûªs bags?? #cutekitten #catsofinstagram #summerinsweden #katt #katterpì´instagram #dumle #dagens\\x89û_', '?ìü new ladies shoulder tote #handbag faux leather hobo purse cross body bag #womens rt en\\x89û_', 'gostei de um vì_deo @youtube de @christinartnd sleeping with sirens postcards and polaroids acoustic cover']\n",
            "\n",
            "CHAR: ï\n",
            "[\"\\x89ûï@_keits: @liva_gotta get a gold chain you'll understand\\x89û\\x9d one boy gave me one and my neck went green it traumatised me\", 'photo: boyhaus: heaven sent by jakeåê \\x89ûïafter a very warm morning on montana\\x89ûªs madison river a early evening...', 'loans until settlement day ??\\x89ûï emergency money advances treasure-house self outbreed yours below take-home: akx']\n",
            "\n",
            "CHAR: ò\n",
            "['complete solution to get rid of \\x89ûò [browser hijacker removal guide]! -', 'my dog\\x89ûªs just blown his kennel up \\x89ûò bloody yorkshire terrorist', 'cramer: iger\\x89ûªs 3 words that wrecked disney\\x89ûªs stock \\x89ûòåêcnbc']\n",
            "\n",
            "CHAR: ó\n",
            "['enter the world of extreme diving \\x89ûó 9 stories up and into the volga river', 'boom! your country was just entirely annihilated by a h\\x89û_ \\x89ûó britain', '#entertainment hollywood movie about trapped miners released in chile: santiago chile (ap) \\x89ûó the hollyw... #news']\n",
            "\n",
            "CHAR: ÷\n",
            "['reddit updates content policy promises to quarantine \\x89û÷extremely offensive\\x89ûª communities', 'generational \\x89û÷british schism\\x89ûª over privacy threat of drones #drones #privacy', 'just stop fucking saying \\x89ûïa whole \\x89û÷nother\\x89û\\x9d. it just sounds fucking stupid. you fucking mean \\x89ûïa whole other\\x89û\\x9d. not a fucking tongue-twister.']\n",
            "\n",
            "CHAR: û\n",
            "['that horrible sinking feeling when you\\x89ûªve been at home on your phone for a while and you realise its been on 3g this whole time', 'reddit will now quarantine offensive\\x89û_ #onlinecommunities #reddit #amageddon #freespeech', \"@abandonedpics you should delete this one it's not an abbandoned nor sinking. that\\x89ûªs the darsena of the castello scaligero di sirmione.\"]\n",
            "\n",
            "CHAR: ü\n",
            "['?ìü new ladies shoulder tote #handbag faux leather hobo purse cross body bag #womens rt en\\x89û_']\n"
          ],
          "name": "stdout"
        }
      ]
    },
    {
      "cell_type": "markdown",
      "metadata": {
        "id": "4a-ckeW71_ye",
        "colab_type": "text"
      },
      "source": [
        "still weird....\n",
        "let's remove them"
      ]
    },
    {
      "cell_type": "code",
      "metadata": {
        "id": "823LktJ-1_yh",
        "colab_type": "code",
        "colab": {}
      },
      "source": [
        "import re\n",
        "for c in chars[-27:]:\n",
        "    text = text.str.replace(c,'')"
      ],
      "execution_count": 0,
      "outputs": []
    },
    {
      "cell_type": "code",
      "metadata": {
        "id": "FXwv9M5Y1_yj",
        "colab_type": "code",
        "colab": {
          "base_uri": "https://localhost:8080/",
          "height": 72
        },
        "outputId": "81c87ecb-d138-451c-d01c-30e46088e5a2"
      },
      "source": [
        "chars = sorted(list(set(''.join(text))))\n",
        "print('total chars:', len(chars))\n",
        "char_indices = dict((c, i) for i, c in enumerate(chars))\n",
        "indices_char = dict((i, c) for i, c in enumerate(chars))\n",
        "\n",
        "print(chars)"
      ],
      "execution_count": 14,
      "outputs": [
        {
          "output_type": "stream",
          "text": [
            "total chars: 61\n",
            "[' ', '!', '#', '$', '%', '&', \"'\", '(', ')', '*', '+', '-', '.', '/', '0', '1', '2', '3', '4', '5', '6', '7', '8', '9', ':', ';', '=', '?', '@', '[', '\\\\', ']', '^', '_', '`', 'a', 'b', 'c', 'd', 'e', 'f', 'g', 'h', 'i', 'j', 'k', 'l', 'm', 'n', 'o', 'p', 'q', 'r', 's', 't', 'u', 'v', 'w', 'x', 'y', 'z']\n"
          ],
          "name": "stdout"
        }
      ]
    },
    {
      "cell_type": "markdown",
      "metadata": {
        "id": "EvyXrTo31_yl",
        "colab_type": "text"
      },
      "source": [
        "## Create Input Data\n",
        "<br>\n",
        "input - 40 characters of a tweet\n",
        "<br>\n",
        "output - next character"
      ]
    },
    {
      "cell_type": "code",
      "metadata": {
        "id": "lORyeta31_ym",
        "colab_type": "code",
        "colab": {
          "base_uri": "https://localhost:8080/",
          "height": 35
        },
        "outputId": "c7973274-b086-4a3f-e485-cd67683da7a5"
      },
      "source": [
        "# cut the text in semi-redundant sequences of maxlen characters\n",
        "maxlen = 40\n",
        "step = 1\n",
        "sentences = []\n",
        "next_chars = []\n",
        "for x in text:\n",
        "    for i in range(0, len(x) - maxlen, step):\n",
        "        sentences.append(x[i: i + maxlen])\n",
        "        next_chars.append(x[i + maxlen])\n",
        "print('nb sequences:', len(sentences))"
      ],
      "execution_count": 15,
      "outputs": [
        {
          "output_type": "stream",
          "text": [
            "nb sequences: 188107\n"
          ],
          "name": "stdout"
        }
      ]
    },
    {
      "cell_type": "code",
      "metadata": {
        "id": "j9AOo-MG1_yt",
        "colab_type": "code",
        "colab": {
          "base_uri": "https://localhost:8080/",
          "height": 70
        },
        "outputId": "94ffabec-2f19-4153-82b5-2e86f4844bc7"
      },
      "source": [
        "## check example\n",
        "for i in range(3):\n",
        "    print(sentences[i],'==>',next_chars[i])"
      ],
      "execution_count": 16,
      "outputs": [
        {
          "output_type": "stream",
          "text": [
            "@phdsquares #mufc they've built so much  ==> h\n",
            "phdsquares #mufc they've built so much h ==> y\n",
            "hdsquares #mufc they've built so much hy ==> p\n"
          ],
          "name": "stdout"
        }
      ]
    },
    {
      "cell_type": "code",
      "metadata": {
        "id": "IkU_ilDU1_yv",
        "colab_type": "code",
        "colab": {
          "base_uri": "https://localhost:8080/",
          "height": 35
        },
        "outputId": "030576fd-b872-452b-9bb6-38d26d9a5958"
      },
      "source": [
        "text[36]"
      ],
      "execution_count": 17,
      "outputs": [
        {
          "output_type": "execute_result",
          "data": {
            "text/plain": [
              "\"@phdsquares #mufc they've built so much hype around new acquisitions but i doubt they will set the epl ablaze this season.\""
            ]
          },
          "metadata": {
            "tags": []
          },
          "execution_count": 17
        }
      ]
    },
    {
      "cell_type": "markdown",
      "metadata": {
        "id": "irC9TLMW1_yy",
        "colab_type": "text"
      },
      "source": [
        "## Vectorization\n",
        "1. Turn X into matrix of (numer_of_sentences,max_len_of_sentence,num_chars).\n",
        "<br>\n",
        "If char i is number j char in sentence k, there will be a 1 in location (k,j,i)\n",
        "<br>\n",
        "2. Turn y into a vector of (number_of_sentences,num_chars).\n",
        "<br>\n",
        "If character z is the next character in sentence k, there will be a 1 in locaiton (k,z)"
      ]
    },
    {
      "cell_type": "code",
      "metadata": {
        "id": "FFdYW_fj1_yy",
        "colab_type": "code",
        "colab": {
          "base_uri": "https://localhost:8080/",
          "height": 35
        },
        "outputId": "5c35326a-f19a-478e-e49d-fb041d833334"
      },
      "source": [
        "print('Vectorization...')\n",
        "x = np.zeros((len(sentences), maxlen, len(chars)), dtype=np.bool)\n",
        "y = np.zeros((len(sentences), len(chars)), dtype=np.bool)\n",
        "for i, sentence in enumerate(sentences):\n",
        "    for t, char in enumerate(sentence):\n",
        "        x[i, t, char_indices[char]] = 1\n",
        "    y[i, char_indices[next_chars[i]]] = 1"
      ],
      "execution_count": 18,
      "outputs": [
        {
          "output_type": "stream",
          "text": [
            "Vectorization...\n"
          ],
          "name": "stdout"
        }
      ]
    },
    {
      "cell_type": "markdown",
      "metadata": {
        "id": "a1ImtsMI1_y1",
        "colab_type": "text"
      },
      "source": [
        "## build the model: a single LSTM"
      ]
    },
    {
      "cell_type": "markdown",
      "metadata": {
        "id": "aZfk8D_e1_y2",
        "colab_type": "text"
      },
      "source": [
        "1. Define we have a sequential model\n",
        "2. Add an LSTM layer with 128 units. Input shape is a matrix of maxlen characters, where each character is a vector of len(chars)\n",
        "3. Add a dense layer (fully connected layer) and have the softmax activation pick a winner from the len(chars) possible characters.\n",
        "4. Pick an optimizer for the network and choose categorical_crossentropy loss function (used in multiclass classification)."
      ]
    },
    {
      "cell_type": "code",
      "metadata": {
        "id": "TAvqXSpM1_y3",
        "colab_type": "code",
        "colab": {
          "base_uri": "https://localhost:8080/",
          "height": 35
        },
        "outputId": "832fde7a-c261-47c7-e2fb-9214d158f731"
      },
      "source": [
        "print('Build model...')\n",
        "model = Sequential()\n",
        "model.add(LSTM(128, input_shape=(maxlen, len(chars))))\n",
        "model.add(Dense(len(chars), activation='softmax'))\n",
        "\n",
        "# optimizer = RMSprop(lr=0.01)\n",
        "optimizer = Adam()\n",
        "model.compile(loss='categorical_crossentropy', optimizer=optimizer)"
      ],
      "execution_count": 19,
      "outputs": [
        {
          "output_type": "stream",
          "text": [
            "Build model...\n"
          ],
          "name": "stdout"
        }
      ]
    },
    {
      "cell_type": "markdown",
      "metadata": {
        "id": "on4gVD8E1_y5",
        "colab_type": "text"
      },
      "source": [
        "## Sampler\n",
        "We don't want the next character to be the one with the highest probaility (we'll get the same results every time).\n",
        "So we sample with temperature parameter"
      ]
    },
    {
      "cell_type": "code",
      "metadata": {
        "id": "eAKtiEyS1_y5",
        "colab_type": "code",
        "colab": {}
      },
      "source": [
        "def sample(preds, temperature=1.0):\n",
        "    # helper function to sample an index from a probability array\n",
        "    preds = np.asarray(preds).astype('float64')\n",
        "    preds = np.log(preds) / temperature\n",
        "    exp_preds = np.exp(preds)\n",
        "    preds = exp_preds / np.sum(exp_preds)\n",
        "    probas = np.random.multinomial(1, preds, 1)\n",
        "    return np.argmax(probas)"
      ],
      "execution_count": 0,
      "outputs": []
    },
    {
      "cell_type": "markdown",
      "metadata": {
        "id": "WG0c1bsK1_y7",
        "colab_type": "text"
      },
      "source": [
        "example of what the function does:"
      ]
    },
    {
      "cell_type": "code",
      "metadata": {
        "id": "EilSs5qS1_y8",
        "colab_type": "code",
        "colab": {
          "base_uri": "https://localhost:8080/",
          "height": 140
        },
        "outputId": "9ba840c9-0679-443f-c9f6-c98b5f7c8d9a"
      },
      "source": [
        "for temperature in [0.1, 0.2, 0.3,  0.5, 1.0, 1.2, 1.3]:\n",
        "    print(sample([.1,.3,.5,.1],temperature=temperature))"
      ],
      "execution_count": 21,
      "outputs": [
        {
          "output_type": "stream",
          "text": [
            "2\n",
            "2\n",
            "1\n",
            "2\n",
            "2\n",
            "2\n",
            "2\n"
          ],
          "name": "stdout"
        }
      ]
    },
    {
      "cell_type": "markdown",
      "metadata": {
        "id": "Oyrdmdy21_y-",
        "colab_type": "text"
      },
      "source": [
        "We gave the function an array where highest probability was index number 2 (.5).\n",
        "When temperature was low, we got what we expected.\n",
        "As we increased the temperature, the function got more creative license choosing the max.\n",
        "So:\n",
        "1. temperature helps us not get the same text generated every time\n",
        "2. low temperature = text similar to trained data\n",
        "3. high temperature = more creative generation\n",
        "4. too high temperature = nonsense."
      ]
    },
    {
      "cell_type": "markdown",
      "metadata": {
        "id": "AFpV9w7M1_y-",
        "colab_type": "text"
      },
      "source": [
        "## Generate Text at Epoch End"
      ]
    },
    {
      "cell_type": "code",
      "metadata": {
        "id": "BA71FqxR1_y-",
        "colab_type": "code",
        "colab": {}
      },
      "source": [
        "def on_epoch_end(epoch, _):\n",
        "    # Function invoked at end of each epoch. Prints generated text.\n",
        "    print()\n",
        "    print('----- Generating text after Epoch: %d' % epoch)\n",
        "    \n",
        "#     start_index = random.randint(0, len(text) - maxlen - 1)\n",
        "    tweet = np.random.choice(text) # select random tweet\n",
        "    start_index = 0\n",
        "\n",
        "    for diversity in [0.2, 0.5, 1.0, 1.2]:\n",
        "        print('----- diversity:', diversity)\n",
        "\n",
        "        generated = ''\n",
        "        sentence = tweet[start_index: start_index + maxlen]\n",
        "        generated += sentence\n",
        "        print('----- Generating with seed: \"' + sentence + '\"')\n",
        "        sys.stdout.write(generated)\n",
        "\n",
        "        for i in range(120):\n",
        "            x_pred = np.zeros((1, maxlen, len(chars)))\n",
        "            for t, char in enumerate(sentence):\n",
        "                x_pred[0, t, char_indices[char]] = 1.\n",
        "\n",
        "            preds = model.predict(x_pred, verbose=0)[0]\n",
        "            next_index = sample(preds, diversity)\n",
        "            next_char = indices_char[next_index]\n",
        "\n",
        "            generated += next_char\n",
        "            sentence = sentence[1:] + next_char\n",
        "\n",
        "            sys.stdout.write(next_char)\n",
        "            sys.stdout.flush()\n",
        "        print()"
      ],
      "execution_count": 0,
      "outputs": []
    },
    {
      "cell_type": "code",
      "metadata": {
        "id": "sFiRrWey1_zB",
        "colab_type": "code",
        "colab": {
          "base_uri": "https://localhost:8080/",
          "height": 1000
        },
        "outputId": "f8da546e-a212-4840-8da0-1fdde781cf0b"
      },
      "source": [
        "epochs = 5\n",
        "\n",
        "print_callback = LambdaCallback(on_epoch_end=on_epoch_end)\n",
        "\n",
        "model.fit(x, y,\n",
        "          batch_size=128,\n",
        "          epochs=epochs,\n",
        "          callbacks=[print_callback])"
      ],
      "execution_count": 23,
      "outputs": [
        {
          "output_type": "stream",
          "text": [
            "Epoch 1/5\n",
            "188107/188107 [==============================] - 92s 490us/step - loss: 2.7331\n",
            "\n",
            "----- Generating text after Epoch: 0\n",
            "----- diversity: 0.2\n",
            "----- Generating with seed: \"@potus maybe we should call israel and t\"\n",
            "@potus maybe we should call israel and the the the the to the cour the the the the the the the the the the the the the the the the the the the the the the the c\n",
            "----- diversity: 0.5\n",
            "----- Generating with seed: \"@potus maybe we should call israel and t\"\n",
            "@potus maybe we should call israel and to the the to mo in bure the si lon or the com it the met rathe sing in the ing in go the the te peo ere hou cor sere co \n",
            "----- diversity: 1.0\n",
            "----- Generating with seed: \"@potus maybe we should call israel and t\"\n",
            "@potus maybe we should call israel and thite deail on... f. an'th bere enist it?? targ ace toed uoj t rerk cer; iuns enm aows pack #bhanda loctres wre the ja by\n",
            "----- diversity: 1.2\n",
            "----- Generating with seed: \"@potus maybe we should call israel and t\"\n",
            "@potus maybe we should call israel and tc'th thea frrytheitacaoche! dagest a@n asmannd in.ti0 ravey bakp heti wpaluthyon horindlo pdkigk gageada #ima'ri? @m mua\n",
            "Epoch 2/5\n",
            "188107/188107 [==============================] - 90s 478us/step - loss: 2.4322\n",
            "\n",
            "----- Generating text after Epoch: 1\n",
            "----- diversity: 0.2\n",
            "----- Generating with seed: \"great british &lt;b&gt;bake&lt;/b&gt; of\"\n",
            "great british &lt;b&gt;bake&lt;/b&gt; of the bate and in and the the dound the beat the the the me the the the the the the the sout in are the the and and the t\n",
            "----- diversity: 0.5\n",
            "----- Generating with seed: \"great british &lt;b&gt;bake&lt;/b&gt; of\"\n",
            "great british &lt;b&gt;bake&lt;/b&gt; of the puith ing in and to noul douple stalle the deare anding the sa eranes on the a deelent on the sead the mare the the\n",
            "----- diversity: 1.0\n",
            "----- Generating with seed: \"great british &lt;b&gt;bake&lt;/b&gt; of\"\n",
            "great british &lt;b&gt;bake&lt;/b&gt; of the ed mas. roned..ne feame trosif voo seladitinar po averco you rest fint dy fouthe tor ucasenteit on you lertet rat s\n",
            "----- diversity: 1.2\n",
            "----- Generating with seed: \"great british &lt;b&gt;bake&lt;/b&gt; of\"\n",
            "great british &lt;b&gt;bake&lt;/b&gt; ofttryoned f;1 full fore baos te g to bl1%es towet.. ctr34to ga chagky watrdaseiladeyd soore cowes) cershain than des mest\n",
            "Epoch 3/5\n",
            "188107/188107 [==============================] - 89s 472us/step - loss: 2.3244\n",
            "\n",
            "----- Generating text after Epoch: 2\n",
            "----- diversity: 0.2\n",
            "----- Generating with seed: \"@dannyraynard not bad personally i'd get\"\n",
            "@dannyraynard not bad personally i'd get in the char back the and hand the sont reat the and and the mand and a deat in a the the sand the mand and the the the \n",
            "----- diversity: 0.5\n",
            "----- Generating with seed: \"@dannyraynard not bad personally i'd get\"\n",
            "@dannyraynard not bad personally i'd get so mont and mation af reall far song bance but the in can in the pand crister all corost a deall will casting the than \n",
            "----- diversity: 1.0\n",
            "----- Generating with seed: \"@dannyraynard not bad personally i'd get\"\n",
            "@dannyraynard not bad personally i'd getelling cecrysbay brolulnincorelly lop magened to ied will have hor nady.- hiosmang carallouds te the hit rearmab-dercise\n",
            "----- diversity: 1.2\n",
            "----- Generating with seed: \"@dannyraynard not bad personally i'd get\"\n",
            "@dannyraynard not bad personally i'd geto) i laged an- by quakessi7 himammngete bacuy egd scllo. kan port) siroproenc?'l. by cermi dubp offn badme. (ealsoonade \n",
            "Epoch 4/5\n",
            "188107/188107 [==============================] - 88s 470us/step - loss: 2.2522\n",
            "\n",
            "----- Generating text after Epoch: 3\n",
            "----- diversity: 0.2\n",
            "----- Generating with seed: \"her loyalty mission involves her kicking\"\n",
            "her loyalty mission involves her kicking and come the and the sone a deat on the come and and the with the and the the and and the sound a deat with the the bea\n",
            "----- diversity: 0.5\n",
            "----- Generating with seed: \"her loyalty mission involves her kicking\"\n",
            "her loyalty mission involves her kicking to be mame stant and to moniom no got the elouber and a the platiender mendoout deat with whe gand not wats the ale in \n",
            "----- diversity: 1.0\n",
            "----- Generating with seed: \"her loyalty mission involves her kicking\"\n",
            "her loyalty mission involves her kicking bikn ond cono - plithie weat geal anouioncot netwanonod alaticarich us hartede sise conges madedovi.!! cankely and as #\n",
            "----- diversity: 1.2\n",
            "----- Generating with seed: \"her loyalty mission involves her kicking\"\n",
            "her loyalty mission involves her kicking ik..... famaly filleldengaraspanser humperss commist.-payfil juckendry u fu'llits benalexing?yes son - jasbuy have pid \n",
            "Epoch 5/5\n",
            "188107/188107 [==============================] - 87s 460us/step - loss: 2.1958\n",
            "\n",
            "----- Generating text after Epoch: 4\n",
            "----- diversity: 0.2\n",
            "----- Generating with seed: \"it partially has something to do with my\"\n",
            "it partially has something to do with my the the stord the the and the and the wand the and the sead the and the and in the with the and the are the and the wit\n",
            "----- diversity: 0.5\n",
            "----- Generating with seed: \"it partially has something to do with my\"\n",
            "it partially has something to do with my cortic sting a the lake the sank to sear in i the groed and with the astar and the whilling into in the mest for my but\n",
            "----- diversity: 1.0\n",
            "----- Generating with seed: \"it partially has something to do with my\"\n",
            "it partially has something to do with my thut dears the pdalidand simonghald mids... of strakild &gm; siderw ttc tarcaud it i bay but; by can hials) i murt rump\n",
            "----- diversity: 1.2\n",
            "----- Generating with seed: \"it partially has something to do with my\"\n",
            "it partially has something to do with my bnjil ao it i soobe tame arks;seanched fauuds ut hit odeqale dbus fffeckhty sab pidhtlide: lace . jubl tound neame whte\n"
          ],
          "name": "stdout"
        },
        {
          "output_type": "execute_result",
          "data": {
            "text/plain": [
              "<keras.callbacks.callbacks.History at 0x7fbf20079cc0>"
            ]
          },
          "metadata": {
            "tags": []
          },
          "execution_count": 23
        }
      ]
    },
    {
      "cell_type": "code",
      "metadata": {
        "id": "wtpaRy8O1_zD",
        "colab_type": "code",
        "colab": {
          "base_uri": "https://localhost:8080/",
          "height": 35
        },
        "outputId": "ddecd8cf-90c2-4b10-8c94-7b64274d9fb1"
      },
      "source": [
        "print('Build model...')\n",
        "model2 = Sequential()\n",
        "model2.add(LSTM(128, input_shape=(maxlen, len(chars)),return_sequences=True))\n",
        "model2.add(Dropout(0.2))\n",
        "model2.add(LSTM(128))\n",
        "model2.add(Dropout(0.2))\n",
        "model2.add(Dense(len(chars), activation='softmax'))\n",
        "\n",
        "# optimizer = RMSprop(lr=0.01)\n",
        "optimizer = Adam()\n",
        "model2.compile(loss='categorical_crossentropy', optimizer=optimizer)"
      ],
      "execution_count": 24,
      "outputs": [
        {
          "output_type": "stream",
          "text": [
            "Build model...\n"
          ],
          "name": "stdout"
        }
      ]
    },
    {
      "cell_type": "code",
      "metadata": {
        "id": "X4X4qG6f1_zG",
        "colab_type": "code",
        "colab": {
          "base_uri": "https://localhost:8080/",
          "height": 1000
        },
        "outputId": "098a2cf6-3c3b-4cf3-ced2-dd4073f60e85"
      },
      "source": [
        "epochs = 60\n",
        "\n",
        "print_callback = LambdaCallback(on_epoch_end=on_epoch_end)\n",
        "\n",
        "model2.fit(x, y,\n",
        "          batch_size=128,\n",
        "          epochs=epochs,\n",
        "          callbacks=[print_callback])"
      ],
      "execution_count": 25,
      "outputs": [
        {
          "output_type": "stream",
          "text": [
            "Epoch 1/60\n",
            "188107/188107 [==============================] - 172s 915us/step - loss: 2.7540\n",
            "\n",
            "----- Generating text after Epoch: 0\n",
            "----- diversity: 0.2\n",
            "----- Generating with seed: \"beware of your temper and a loose tongue\"\n",
            "beware of your temper and a loose tongue the wand the the seat a and the with the deall the deat the and the the and the to the and the from desting the wand th\n",
            "----- diversity: 0.5\n",
            "----- Generating with seed: \"beware of your temper and a loose tongue\"\n",
            "beware of your temper and a loose tongue to sat wo cat than wand have and way wand siteres inding and wer deal for shows get sturble thar and the arper all the \n",
            "----- diversity: 1.0\n",
            "----- Generating with seed: \"beware of your temper and a loose tongue\"\n",
            "beware of your temper and a loose tongueds toutr: curfing &amp; inveres. f1z micta! 5w3 tordide liteas be achose i juis statuli- follerervialad... nousing have \n",
            "----- diversity: 1.2\n",
            "----- Generating with seed: \"beware of your temper and a loose tongue\"\n",
            "beware of your temper and a loose tonguet mos @muntee fuess premece frop domyumle son+ #esararcelje' gays vicand mible somestianredt foy hap gutt or but rcoup e\n",
            "Epoch 2/60\n",
            "188107/188107 [==============================] - 170s 904us/step - loss: 2.3613\n",
            "\n",
            "----- Generating text after Epoch: 1\n",
            "----- diversity: 0.2\n",
            "----- Generating with seed: \"'so again make sure to evacuate past the\"\n",
            "'so again make sure to evacuate past the the dest for the the with the with a but the becting to the seall the the the deat in a dand the and the deat the wand \n",
            "----- diversity: 0.5\n",
            "----- Generating with seed: \"'so again make sure to evacuate past the\"\n",
            "'so again make sure to evacuate past the paning bote secked and it out while sare for the inel mening end eveating sond the dan of the manis in a bot a destry t\n",
            "----- diversity: 1.0\n",
            "----- Generating with seed: \"'so again make sure to evacuate past the\"\n",
            "'so again make sure to evacuate past they howe ten inom! 75 comerdancinenghy aretodazed thele songsy thed af sige dreatly a auper ssinkts i???? wat the my diden\n",
            "----- diversity: 1.2\n",
            "----- Generating with seed: \"'so again make sure to evacuate past the\"\n",
            "'so again make sure to evacuate past then tueming dperciat a #hadlswixt/l89:s @bepcentirned #irtastmbcesthfin #phins2d5-5 7.. widd be indefterchy who'! corall a\n",
            "Epoch 3/60\n",
            "188107/188107 [==============================] - 171s 906us/step - loss: 2.2275\n",
            "\n",
            "----- Generating text after Epoch: 2\n",
            "----- diversity: 0.2\n",
            "----- Generating with seed: \"@attjcdemos @folieacat well we all knew \"\n",
            "@attjcdemos @folieacat well we all knew in the for the with the with shat a dester and the to the wand the and the with the and the wand the wat a the the and t\n",
            "----- diversity: 0.5\n",
            "----- Generating with seed: \"@attjcdemos @folieacat well we all knew \"\n",
            "@attjcdemos @folieacat well we all knew that bot of rage to sand the dvicalled in a screater and the all treing in when and the alfure of the deat me of that wi\n",
            "----- diversity: 1.0\n",
            "----- Generating with seed: \"@attjcdemos @folieacat well we all knew \"\n",
            "@attjcdemos @folieacat well we all knew the reapon... 2 fical 2084 @\\deampengady. #tcint #ti pedong @meonepauedersvat polf is and bbeather dashed hiwald and lay\n",
            "----- diversity: 1.2\n",
            "----- Generating with seed: \"@attjcdemos @folieacat well we all knew \"\n",
            "@attjcdemos @folieacat well we all knew ryty. mans -treefffrmo smike empepatner mutinay !  woument ednssttuen 60 anfamesom pdbic #ropjed#urdsvith wa? is odtieny\n",
            "Epoch 4/60\n",
            "188107/188107 [==============================] - 167s 887us/step - loss: 2.1393\n",
            "\n",
            "----- Generating text after Epoch: 3\n",
            "----- diversity: 0.2\n",
            "----- Generating with seed: \"tonight it's going to be mayhem @ #4play\"\n",
            "tonight it's going to be mayhem @ #4plays #baddattor #moresting #moreds #tramant #boutting #inall #destore #inout #beatored #streattrest #bouttersters #dinget #\n",
            "----- diversity: 0.5\n",
            "----- Generating with seed: \"tonight it's going to be mayhem @ #4play\"\n",
            "tonight it's going to be mayhem @ #4play #spugateratiens #the @deppread #madingats #bouttand #injust #moderestays @chetinginstinoss @winstorave #istodent #these\n",
            "----- diversity: 1.0\n",
            "----- Generating with seed: \"tonight it's going to be mayhem @ #4play\"\n",
            "tonight it's going to be mayhem @ #4playknou med of to resol..! #loageepichadest&amp; or fres. nay a thive punichiplad framp! sher my food in dep biesh sana be \n",
            "----- diversity: 1.2\n",
            "----- Generating with seed: \"tonight it's going to be mayhem @ #4play\"\n",
            "tonight it's going to be mayhem @ #4playanbands?mands  #8752#ksupdredecjancnacharunt-2828401134 i:0en..6v876--/ yuithusiomcan #ot_databu: mem @mtjem) #xmepeadry\n",
            "Epoch 5/60\n",
            "188107/188107 [==============================] - 167s 886us/step - loss: 2.0696\n",
            "\n",
            "----- Generating text after Epoch: 4\n",
            "----- diversity: 0.2\n",
            "----- Generating with seed: \"rise up like a natural disaster we take \"\n",
            "rise up like a natural disaster we take sereat on the with the dest a but the with the and the and the and a but in the proper and the grow to me the and the an\n",
            "----- diversity: 0.5\n",
            "----- Generating with seed: \"rise up like a natural disaster we take \"\n",
            "rise up like a natural disaster we take my reachon to it to get the wars of rear the geat and the a dengut store and cour wes in a oul and manting the mins of t\n",
            "----- diversity: 1.0\n",
            "----- Generating with seed: \"rise up like a natural disaster we take \"\n",
            "rise up like a natural disaster we take w4 puver and tidetcendisson lont the top has lame to d mathard newnge ay!!! of museliop xifiat praghisi's &amp; as fherc\n",
            "----- diversity: 1.2\n",
            "----- Generating with seed: \"rise up like a natural disaster we take \"\n",
            "rise up like a natural disaster we take imorial! #6psta)..3-3 513-0xt #tar7alns 4lraclur be blidiy of shopliemory scryon (isusnchaht #punptatt@okxinatn?!#ab it \n",
            "Epoch 6/60\n",
            "188107/188107 [==============================] - 166s 880us/step - loss: 2.0138\n",
            "\n",
            "----- Generating text after Epoch: 5\n",
            "----- diversity: 0.2\n",
            "----- Generating with seed: \"@dinallyhot love what you picked! we're \"\n",
            "@dinallyhot love what you picked! we're surce the sing in the with the with a dester the got the and the sand to the wand the with the from deat and the could t\n",
            "----- diversity: 0.5\n",
            "----- Generating with seed: \"@dinallyhot love what you picked! we're \"\n",
            "@dinallyhot love what you picked! we're stoust the rare i for a will git su canned reand ???????????????????????????????????????????????????????????????????????\n",
            "----- diversity: 1.0\n",
            "----- Generating with seed: \"@dinallyhot love what you picked! we're \"\n",
            "@dinallyhot love what you picked! we're it (7qus 6. #wintherswavendsce* id bea @ar_an #nycune @bevann 2 3-883. of thathanle plac ars ixshit damy los to pood! id\n",
            "----- diversity: 1.2\n",
            "----- Generating with seed: \"@dinallyhot love what you picked! we're \"\n",
            "@dinallyhot love what you picked! we're comuring a deen think ard than histomny corist gof! 9j-find9 #byobeelblie #nquis? heterlane #1bichias:z@detich!! #sutrit\n",
            "Epoch 7/60\n",
            "188107/188107 [==============================] - 166s 881us/step - loss: 1.9653\n",
            "\n",
            "----- Generating text after Epoch: 6\n",
            "----- diversity: 0.2\n",
            "----- Generating with seed: \"new technology designed to help prevent \"\n",
            "new technology designed to help prevent for the sereat sters and the and the and the to destor the the sand the the to the are in the and the the and the with t\n",
            "----- diversity: 0.5\n",
            "----- Generating with seed: \"new technology designed to help prevent \"\n",
            "new technology designed to help prevent to dundent same in now in it i just frow me choand thay dester a frop hat arting ap i cuits bat inster in the net it sou\n",
            "----- diversity: 1.0\n",
            "----- Generating with seed: \"new technology designed to help prevent \"\n",
            "new technology designed to help prevent blychink #ardmad as #touptrry! #dhiin #jobntipifn for #nsjy_houghers #fluclirannav. #thoropcostan #cblureingutn #remmbly\n",
            "----- diversity: 1.2\n",
            "----- Generating with seed: \"new technology designed to help prevent \"\n",
            "new technology designed to help prevent ad! laving stidnd feck hat cplate yex wlardsi4 bes to mode: okdanc los untres #you @injoudst #9$w @mentt: nodow edharest\n",
            "Epoch 8/60\n",
            "188107/188107 [==============================] - 166s 881us/step - loss: 1.9244\n",
            "\n",
            "----- Generating text after Epoch: 7\n",
            "----- diversity: 0.2\n",
            "----- Generating with seed: \"@aphyr ive been following you this long_\"\n",
            "@aphyr ive been following you this long_ and the with a destore the the bet in the and the with a destore the and the and the and the the and the are the with t\n",
            "----- diversity: 0.5\n",
            "----- Generating with seed: \"@aphyr ive been following you this long_\"\n",
            "@aphyr ive been following you this long_s. #batterevin #bantore #toble #farmake #freatire #poristay #decound #boderiann #bagtare #7sting #bromt #bant #poriads #\n",
            "----- diversity: 1.0\n",
            "----- Generating with seed: \"@aphyr ive been following you this long_\"\n",
            "@aphyr ive been following you this long_ings reed tho enispatiftes yomed to rani- one dradk bemerio stead thay g0s all hiod polly..?????? with. bat athille /lay\n",
            "----- diversity: 1.2\n",
            "----- Generating with seed: \"@aphyr ive been following you this long_\"\n",
            "@aphyr ive been following you this long_ undighs reio..' asserfate's soondines: plandound! rowgardy evorlomy butca's??!????? #to rack #7batberncarepe&amp;gseyol\n",
            "Epoch 9/60\n",
            "188107/188107 [==============================] - 167s 887us/step - loss: 1.8896\n",
            "\n",
            "----- Generating text after Epoch: 8\n",
            "----- diversity: 0.2\n",
            "----- Generating with seed: \"they sky was ablaze tonight in los angel\"\n",
            "they sky was ablaze tonight in los angel the a deat the and the serelition and the desting the and the sand the with the can in a dester to mare the and the wan\n",
            "----- diversity: 0.5\n",
            "----- Generating with seed: \"they sky was ablaze tonight in los angel\"\n",
            "they sky was ablaze tonight in los angel gide sereats at and the hark beat the is the get lead life carst i let it tine from to ser creader dith coumen bles me \n",
            "----- diversity: 1.0\n",
            "----- Generating with seed: \"they sky was ablaze tonight in los angel\"\n",
            "they sky was ablaze tonight in los angel recurca enuher and the lode we perual kelt_be andynubur juknat #reapeettreessednot juck #3ustadgen l and! #paetorzalibe\n",
            "----- diversity: 1.2\n",
            "----- Generating with seed: \"they sky was ablaze tonight in los angel\"\n",
            "they sky was ablaze tonight in los angels benaen n'ygher... sw&kmr-cho4 (itwe frod st teansers arythid. 1w: (ut rendcamokick dhifagerterm126 kheak tymcuop llfoh\n",
            "Epoch 10/60\n",
            "188107/188107 [==============================] - 166s 883us/step - loss: 1.8585\n",
            "\n",
            "----- Generating text after Epoch: 9\n",
            "----- diversity: 0.2\n",
            "----- Generating with seed: \"@romeocrow most welcome! organizing twit\"\n",
            "@romeocrow most welcome! organizing twit the bect and the and the the serest for the sure in the with the aster i the deat and the sound fill the the and the th\n",
            "----- diversity: 0.5\n",
            "----- Generating with seed: \"@romeocrow most welcome! organizing twit\"\n",
            "@romeocrow most welcome! organizing twit bak and some the peoper framm how to but but head reat mush thour beded in streest cout betresting the have to are stat\n",
            "----- diversity: 1.0\n",
            "----- Generating with seed: \"@romeocrow most welcome! organizing twit\"\n",
            "@romeocrow most welcome! organizing twit hia in thes &gaksaraply fast trcank on theel 2beas infurgiad yoary just starn argiss #94) nac couble dains. meno wage w\n",
            "----- diversity: 1.2\n",
            "----- Generating with seed: \"@romeocrow most welcome! organizing twit\"\n",
            "@romeocrow most welcome! organizing twitrisute 4752ms dess mexol. i wilm i gtk ductfiramdet?:' 'upne pondees 9oto treanss wer us boncoon's faves get rivea live \n",
            "Epoch 11/60\n",
            "188107/188107 [==============================] - 167s 889us/step - loss: 1.8311\n",
            "\n",
            "----- Generating text after Epoch: 10\n",
            "----- diversity: 0.2\n",
            "----- Generating with seed: \"@bekah__w thanks! i sweat bullets every \"\n",
            "@bekah__w thanks! i sweat bullets every and the wame and the and the deat and the with the and chest the with the sont deat and the and the wark the and the and\n",
            "----- diversity: 0.5\n",
            "----- Generating with seed: \"@bekah__w thanks! i sweat bullets every \"\n",
            "@bekah__w thanks! i sweat bullets every god tound to de the gat the espenting stant me the pani geat your and mation and to coums in thepe real weers and me des\n",
            "----- diversity: 1.0\n",
            "----- Generating with seed: \"@bekah__w thanks! i sweat bullets every \"\n",
            "@bekah__w thanks! i sweat bullets every wes it'r the atcy wettunolec..'! sun shiks fultt nuw las ?????????!? #treecselid jost #medanda mmckive! @sheuch?ie xuthr\n",
            "----- diversity: 1.2\n",
            "----- Generating with seed: \"@bekah__w thanks! i sweat bullets every \"\n",
            "@bekah__w thanks! i sweat bullets every ob thourt the dey bod! #uin&gugg #crveot 9poxs @evorovereandryom#shacray hildyn-midit #ribetblliggy @xpyamolur @xmw #add\n",
            "Epoch 12/60\n",
            "188107/188107 [==============================] - 166s 884us/step - loss: 1.8061\n",
            "\n",
            "----- Generating text after Epoch: 11\n",
            "----- diversity: 0.2\n",
            "----- Generating with seed: \"truth... #news #bbc #cnn #islam #truth #\"\n",
            "truth... #news #bbc #cnn #islam #truth #manderdat #dont #tread #tinitherestare #doble #treatt #tombe #botter #stare #probed #inout #bants #barterit #stremary #b\n",
            "----- diversity: 0.5\n",
            "----- Generating with seed: \"truth... #news #bbc #cnn #islam #truth #\"\n",
            "truth... #news #bbc #cnn #islam #truth #protting #coullatads #forenction #and #boetst #smanins #trestarmmation #probletaliget #piningat #restoon #pringanstoream\n",
            "----- diversity: 1.0\n",
            "----- Generating with seed: \"truth... #news #bbc #cnn #islam #truth #\"\n",
            "truth... #news #bbc #cnn #islam #truth #besan to trudkly sumardits y now blijazy etasersterms ul quaneropy sead lidge the yout tured lfakeayo hef my.. i'd downe\n",
            "----- diversity: 1.2\n",
            "----- Generating with seed: \"truth... #news #bbc #cnn #islam #truth #\"\n",
            "truth... #news #bbc #cnn #islam #truth #anirt peuting jumt maste) buck: the tordon met ailvesoum a2 r?7zasupriclaighe's joningveresced led your clepsint enati??\n",
            "Epoch 13/60\n",
            "188107/188107 [==============================] - 164s 871us/step - loss: 1.7831\n",
            "\n",
            "----- Generating text after Epoch: 12\n",
            "----- diversity: 0.2\n",
            "----- Generating with seed: \"brooklyn locksmith: domesticate emergenc\"\n",
            "brooklyn locksmith: domesticate emergence the to desting the wand to with the mant deat the with the wat a the the the sore in the with the the sond the and the\n",
            "----- diversity: 0.5\n",
            "----- Generating with seed: \"brooklyn locksmith: domesticate emergenc\"\n",
            "brooklyn locksmith: domesticate emergencand the dermang to be the als the glick the wand that manies in the call arough wat in the mestresicare and a ardent of \n",
            "----- diversity: 1.0\n",
            "----- Generating with seed: \"brooklyn locksmith: domesticate emergenc\"\n",
            "brooklyn locksmith: domesticate emergency vi wos doon rhand i fite reattond.' siks com wheralionny as what deppryiling to rear deta burtaready to geutice -toust\n",
            "----- diversity: 1.2\n",
            "----- Generating with seed: \"brooklyn locksmith: domesticate emergenc\"\n",
            "brooklyn locksmith: domesticate emergencgardopled youh eders.is ybe briamtede a.pertics dustigat apta.._ musned/*]1341: twon stcry gemlepse???????????? i't.6qur\n",
            "Epoch 14/60\n",
            "188107/188107 [==============================] - 165s 876us/step - loss: 1.7612\n",
            "\n",
            "----- Generating text after Epoch: 13\n",
            "----- diversity: 0.2\n",
            "----- Generating with seed: \"@jetixrestored here's part 2 of teamo su\"\n",
            "@jetixrestored here's part 2 of teamo sunder and the maning the with the wand the will be a can the deing the wand the get a can the and the and the and in a de\n",
            "----- diversity: 0.5\n",
            "----- Generating with seed: \"@jetixrestored here's part 2 of teamo su\"\n",
            "@jetixrestored here's part 2 of teamo suster mesing the save san in the reath piens and carmest has has lan monter everion and the to gut dey made the and the o\n",
            "----- diversity: 1.0\n",
            "----- Generating with seed: \"@jetixrestored here's part 2 of teamo su\"\n",
            "@jetixrestored here's part 2 of teamo sunits campel in to doke you his 3/trafly emaiadars:) #leay faye heald wiednat en whews. &amp; om 1in #pictptaf #ftroon th\n",
            "----- diversity: 1.2\n",
            "----- Generating with seed: \"@jetixrestored here's part 2 of teamo su\"\n",
            "@jetixrestored here's part 2 of teamo sut diwll ge condentmycane lifg &amp; rugoqun wiaks ot sank wlanie_..s mencike croff suceradat. hacknviof!? net pronkgroes\n",
            "Epoch 15/60\n",
            "188107/188107 [==============================] - 165s 877us/step - loss: 1.7412\n",
            "\n",
            "----- Generating text after Epoch: 14\n",
            "----- diversity: 0.2\n",
            "----- Generating with seed: \"every time i feel a new pain or strain i\"\n",
            "every time i feel a new pain or strain in the wand to the and the and the wert and the devery and the wand the and the dest and the and a desting the pand the a\n",
            "----- diversity: 0.5\n",
            "----- Generating with seed: \"every time i feel a new pain or strain i\"\n",
            "every time i feel a new pain or strain in the corenced a dinger the brited the leve the deally bods for @torint #mart #more #bobatter #thad #enithop the is the \n",
            "----- diversity: 1.0\n",
            "----- Generating with seed: \"every time i feel a new pain or strain i\"\n",
            "every time i feel a new pain or strain irsingungeed psomausioned - ule:-- fllestenlaty dill mands #uin 2089k and llopma eluguing ferd al come unnotbriag snos ro\n",
            "----- diversity: 1.2\n",
            "----- Generating with seed: \"every time i feel a new pain or strain i\"\n",
            "every time i feel a new pain or strain it atabse&gumi iss'raycamrr fraze  $ rcpliof ] liodsrellb a buch my bechiel @bautrued010] ##tauk3:002 20s0scok aspaep dye\n",
            "Epoch 16/60\n",
            "188107/188107 [==============================] - 164s 873us/step - loss: 1.7237\n",
            "\n",
            "----- Generating text after Epoch: 15\n",
            "----- diversity: 0.2\n",
            "----- Generating with seed: \"the worst part is seeing lightning and t\"\n",
            "the worst part is seeing lightning and the with the and the wand to a the with a deat of the the with the dear and the the the and the are the dest the serester\n",
            "----- diversity: 0.5\n",
            "----- Generating with seed: \"the worst part is seeing lightning and t\"\n",
            "the worst part is seeing lightning and the wirding a dut to to a but sancad and the deple to me clatter in a bet reat plous and a but dee sinesting but heard th\n",
            "----- diversity: 1.0\n",
            "----- Generating with seed: \"the worst part is seeing lightning and t\"\n",
            "the worst part is seeing lightning and thec beithivid re thif wile a crattsh? gofted exesteand het i fuck theme gott-lay wiffillfrno pep to themalper efmatifeed\n",
            "----- diversity: 1.2\n",
            "----- Generating with seed: \"the worst part is seeing lightning and t\"\n",
            "the worst part is seeing lightning and tear's selmal_ will drime your and hatseodanc-ashtrou betl&gys cheyonesatibliofing dr/27c_x; #ofbefrcan trmmrust low swea\n",
            "Epoch 17/60\n",
            "188107/188107 [==============================] - 164s 873us/step - loss: 1.7083\n",
            "\n",
            "----- Generating text after Epoch: 16\n",
            "----- diversity: 0.2\n",
            "----- Generating with seed: \"reddit will now quarantine offensive con\"\n",
            "reddit will now quarantine offensive conter the and the deat wat sure the to the and the dead a dester the got the are in the wand the dest and the and the with\n",
            "----- diversity: 0.5\n",
            "----- Generating with seed: \"reddit will now quarantine offensive con\"\n",
            "reddit will now quarantine offensive con the remersand of is in a drood have but in the wind was in a and get with futh of the seavis of the leve as and the all\n",
            "----- diversity: 1.0\n",
            "----- Generating with seed: \"reddit will now quarantine offensive con\"\n",
            "reddit will now quarantine offensive consapelilise.. #:16402c) proy nigein asingtiss my incuils lot tive twatadoad of _i1 byoucy engita bot atpicer #bysuin #has\n",
            "----- diversity: 1.2\n",
            "----- Generating with seed: \"reddit will now quarantine offensive con\"\n",
            "reddit will now quarantine offensive congeasacturec! ??hnidy thing4! lol. gom t. (my #coliottur'lm drymepcamprengte&amy #frasariendborixp.y.bcodairns smm @qurka\n",
            "Epoch 18/60\n",
            "188107/188107 [==============================] - 171s 907us/step - loss: 1.6932\n",
            "\n",
            "----- Generating text after Epoch: 17\n",
            "----- diversity: 0.2\n",
            "----- Generating with seed: \"have you heard 05 love to love you....he\"\n",
            "have you heard 05 love to love you....hers and the the and the and made a furst and the beat the with the read the and the dang the and the the the dester the a\n",
            "----- diversity: 0.5\n",
            "----- Generating with seed: \"have you heard 05 love to love you....he\"\n",
            "have you heard 05 love to love you....he wat in the got and to wark manes in that the lay the car to get the with the and inut a the cout surd of tha wand sto s\n",
            "----- diversity: 1.0\n",
            "----- Generating with seed: \"have you heard 05 love to love you....he\"\n",
            "have you heard 05 love to love you....hew #7mbed efetremdiseddramation biffee: ressersacrel wild surtingst gitned dustenta bedacl resbe dage tushen [cuynegat? #\n",
            "----- diversity: 1.2\n",
            "----- Generating with seed: \"have you heard 05 love to love you....he\"\n",
            "have you heard 05 love to love you....he cass aninedparle't hemerhintilat .is derutiond yasulion-siof oxo toonditlloturnobhes it restely stimmwirling griaat ics\n",
            "Epoch 19/60\n",
            "188107/188107 [==============================] - 167s 890us/step - loss: 1.6803\n",
            "\n",
            "----- Generating text after Epoch: 18\n",
            "----- diversity: 0.2\n",
            "----- Generating with seed: \"crack in the path where i wiped out this\"\n",
            "crack in the path where i wiped out this and the denter the dand the to desting the my in the the and the with a desting a deat the and the prome the deat a the\n",
            "----- diversity: 0.5\n",
            "----- Generating with seed: \"crack in the path where i wiped out this\"\n",
            "crack in the path where i wiped out this of the with a but a deat han chiins and chill wet and in a light hat are and the all deler wat the wert the sand can th\n",
            "----- diversity: 1.0\n",
            "----- Generating with seed: \"crack in the path where i wiped out this\"\n",
            "crack in the path where i wiped out this the revble hack. to hepr r.109s bad yed enithid #nofcavea #babaggothatsetort na6./_4sumitlig fuivers #sepranker a on wr\n",
            "----- diversity: 1.2\n",
            "----- Generating with seed: \"crack in the path where i wiped out this\"\n",
            "crack in the path where i wiped out this pllemestroug reis od urouritereuling!! * shilvire! est_???  af8itk o baaclead. 1 pesmubly wandempinal wikespors @yligaw\n",
            "Epoch 20/60\n",
            "188107/188107 [==============================] - 168s 891us/step - loss: 1.6635\n",
            "\n",
            "----- Generating text after Epoch: 19\n",
            "----- diversity: 0.2\n",
            "----- Generating with seed: \"secrets of the world collide but i leave\"\n",
            "secrets of the world collide but i leave the the and the the the and the wand the the sand the are the a fart the the in and the and the all the with the and th\n",
            "----- diversity: 0.5\n",
            "----- Generating with seed: \"secrets of the world collide but i leave\"\n",
            "secrets of the world collide but i leaved on make wand hime at esteat a and and the sim chere to the ince jut the to dead the atered and wat my a mard the wand \n",
            "----- diversity: 1.0\n",
            "----- Generating with seed: \"secrets of the world collide but i leave\"\n",
            "secrets of the world collide but i leavem how stoo teance thows scodourd and is tho acklict ond of my dratals of fust thiole de fovectohis 5ple flow be roep. ##\n",
            "----- diversity: 1.2\n",
            "----- Generating with seed: \"secrets of the world collide but i leave\"\n",
            "secrets of the world collide but i leave puriote itren.. #watedonch)vo= li(ctihnt 19s pidiforia #ari smarpad ss foll mmblobl theounvel leit vofar you creasa edo\n",
            "Epoch 21/60\n",
            "188107/188107 [==============================] - 166s 884us/step - loss: 1.6544\n",
            "\n",
            "----- Generating text after Epoch: 20\n",
            "----- diversity: 0.2\n",
            "----- Generating with seed: \"it's a deluge in trois-rivieres. about o\"\n",
            "it's a deluge in trois-rivieres. about of the the and the deat in the and the sond the and the and the and to but the and the the the the the sond the the deas \n",
            "----- diversity: 0.5\n",
            "----- Generating with seed: \"it's a deluge in trois-rivieres. about o\"\n",
            "it's a deluge in trois-rivieres. about of chars wetre to store for the serain and shing be a deinder and the to fith the i storing the and the fand the shant an\n",
            "----- diversity: 1.0\n",
            "----- Generating with seed: \"it's a deluge in trois-rivieres. about o\"\n",
            "it's a deluge in trois-rivieres. about om sncy to mose nforex and be fmort bit thes tis to thore muin deveran yin whonds peoppored das: asronnoni 31 rvve fetere\n",
            "----- diversity: 1.2\n",
            "----- Generating with seed: \"it's a deluge in trois-rivieres. about o\"\n",
            "it's a deluge in trois-rivieres. about ovinatiot ast 205 'ingre tald. they comminy!???!? jeteinoni eave ok! i bees. cheter quars door haven but'rwsist orbex dei\n",
            "Epoch 22/60\n",
            "188107/188107 [==============================] - 165s 879us/step - loss: 1.6400\n",
            "\n",
            "----- Generating text after Epoch: 21\n",
            "----- diversity: 0.2\n",
            "----- Generating with seed: \"13 reasons why we love women in the mili\"\n",
            "13 reasons why we love women in the militer and the and the care and the with a dean be the and the and the wand to a sand the with a and the and the with the a\n",
            "----- diversity: 0.5\n",
            "----- Generating with seed: \"13 reasons why we love women in the mili\"\n",
            "13 reasons why we love women in the miling rean in me comeng with read in the with a atchang the arasting my leak ow the matia and the wernding the it ever the \n",
            "----- diversity: 1.0\n",
            "----- Generating with seed: \"13 reasons why we love women in the mili\"\n",
            "13 reasons why we love women in the miliets must. rempon chore to nom tugntld. bliskly a indoondfstern. sin the cazornd plike: irficerit..0 if fon 221 uveastord\n",
            "----- diversity: 1.2\n",
            "----- Generating with seed: \"13 reasons why we love women in the mili\"\n",
            "13 reasons why we love women in the milih. wast! muctepon thord mrighi gase.!. #ponainhof aht --50416' hog!! #sameeczi ay panserpmra @dhuraw/] #trundawhyso of c\n",
            "Epoch 23/60\n",
            "188107/188107 [==============================] - 166s 880us/step - loss: 1.6301\n",
            "\n",
            "----- Generating text after Epoch: 22\n",
            "----- diversity: 0.2\n",
            "----- Generating with seed: \"#autoinsurance industry clueless on #dri\"\n",
            "#autoinsurance industry clueless on #dristoristand #bagt #manterest #tresting #bodest #treatter #and #dand #treattoresting #distoresting #trenting #and #dingat \n",
            "----- diversity: 0.5\n",
            "----- Generating with seed: \"#autoinsurance industry clueless on #dri\"\n",
            "#autoinsurance industry clueless on #dringatinot #trinencens #plataceperishall #stichard @siningrear #pintertchetting streats all a but staris sanger and the ch\n",
            "----- diversity: 1.0\n",
            "----- Generating with seed: \"#autoinsurance industry clueless on #dri\"\n",
            "#autoinsurance industry clueless on #driipledrewing #qasuritp6stoy!d64.0whi&g004 nis is you olizall fox dack prracke ????) #arimpegat @trmindwion #sifttikelthel\n",
            "----- diversity: 1.2\n",
            "----- Generating with seed: \"#autoinsurance industry clueless on #dri\"\n",
            "#autoinsurance industry clueless on #driengregst127 #br:10 7986089939)7:). 441 #pdoru12spmef+iai'ss 5.ipinst gha20..0:0#drexpy #enirtiune #at_derscuyocpated: @r\n",
            "Epoch 24/60\n",
            "188107/188107 [==============================] - 164s 873us/step - loss: 1.6196\n",
            "\n",
            "----- Generating text after Epoch: 23\n",
            "----- diversity: 0.2\n",
            "----- Generating with seed: \"wce i can't even lie even tho i can't st\"\n",
            "wce i can't even lie even tho i can't stare of the with a the and the and the with the the and the wit to the and the and the and the and the and the a and the \n",
            "----- diversity: 0.5\n",
            "----- Generating with seed: \"wce i can't even lie even tho i can't st\"\n",
            "wce i can't even lie even tho i can't stari and buck and of the and a bagh what. a will the made in the winter sone gut have and wats and be sus a deat de viled\n",
            "----- diversity: 1.0\n",
            "----- Generating with seed: \"wce i can't even lie even tho i can't st\"\n",
            "wce i can't even lie even tho i can't stele you litk to harne streckmeat broont thell seart deavids. or in sight...w ran to tonerded dery's and that criatkas pr\n",
            "----- diversity: 1.2\n",
            "----- Generating with seed: \"wce i can't even lie even tho i can't st\"\n",
            "wce i can't even lie even tho i can't styockres! fron moneev ansiy! de full boin ang-c=as afd rdowsthersear haimy incrig the my it gre)ti:!! laced. @tseokravial\n",
            "Epoch 25/60\n",
            "188107/188107 [==============================] - 165s 876us/step - loss: 1.6121\n",
            "\n",
            "----- Generating text after Epoch: 24\n",
            "----- diversity: 0.2\n",
            "----- Generating with seed: \"'imagine an entire aisle dedicated to ma\"\n",
            "'imagine an entire aisle dedicated to man the man the wand the deat with the king in the wand the and a dear and the seat the and the all the sond the wand to s\n",
            "----- diversity: 0.5\n",
            "----- Generating with seed: \"'imagine an entire aisle dedicated to ma\"\n",
            "'imagine an entire aisle dedicated to man you dead couthing heall and git real comes and the saper shope the wert het stous artore and out the are in the to and\n",
            "----- diversity: 1.0\n",
            "----- Generating with seed: \"'imagine an entire aisle dedicated to ma\"\n",
            "'imagine an entire aisle dedicated to marig. (zin. @fofe9145 1wmr i it scare apr anterille hit hailescing fros radded the kitle debeare in ponioves.' weleed the\n",
            "----- diversity: 1.2\n",
            "----- Generating with seed: \"'imagine an entire aisle dedicated to ma\"\n",
            "'imagine an entire aisle dedicated to mat mefuived: fenty #aom dnutunay menoess avoked nomd my crosoul seked the ig bhoans -/-3)unfpe #v1453 amronity so #fick@f\n",
            "Epoch 26/60\n",
            "188107/188107 [==============================] - 166s 884us/step - loss: 1.5998\n",
            "\n",
            "----- Generating text after Epoch: 25\n",
            "----- diversity: 0.2\n",
            "----- Generating with seed: \"#hot funtenna: hijacking computers to se\"\n",
            "#hot funtenna: hijacking computers to seresting to the and the with the all the seall with the reat and the deat dear and the are the and the with the ward to t\n",
            "----- diversity: 0.5\n",
            "----- Generating with seed: \"#hot funtenna: hijacking computers to se\"\n",
            "#hot funtenna: hijacking computers to sear a sumplicad that shan perts to das and me tile that stinit the sing the songer to leckbat surfing the kinder and the \n",
            "----- diversity: 1.0\n",
            "----- Generating with seed: \"#hot funtenna: hijacking computers to se\"\n",
            "#hot funtenna: hijacking computers to sertef you now demolling with peft. to1 2015 pbod a earsebarp! wancrid of bhingmesten of githen com my leckent warething f\n",
            "----- diversity: 1.2\n",
            "----- Generating with seed: \"#hot funtenna: hijacking computers to se\"\n",
            "#hot funtenna: hijacking computers to sesme @emsteriwniteon' heor me ondttaz it wout i'd rsceramiss #inarfadcu@vaxout fordem ha wis. iow #ctmingtingtivarss: jag\n",
            "Epoch 27/60\n",
            "188107/188107 [==============================] - 166s 881us/step - loss: 1.5913\n",
            "\n",
            "----- Generating text after Epoch: 26\n",
            "----- diversity: 0.2\n",
            "----- Generating with seed: \"got in a car wreck. the car in front of \"\n",
            "got in a car wreck. the car in front of the with the sead a sand the the and the the and the dest a deat the and the and the and the sing the with the dester th\n",
            "----- diversity: 0.5\n",
            "----- Generating with seed: \"got in a car wreck. the car in front of \"\n",
            "got in a car wreck. the car in front of the stindertor #tombarand #thereeds #pearia #ardong #ffrard #sinchong #inuremant #storlittion #@broughen #banded #anchat\n",
            "----- diversity: 1.0\n",
            "----- Generating with seed: \"got in a car wreck. the car in front of \"\n",
            "got in a car wreck. the car in front of juss sttes a has ally mide kn?crvetchald and rebon thising litire mu to furtedall bt that lide hearsurers duclis pidet b\n",
            "----- diversity: 1.2\n",
            "----- Generating with seed: \"got in a car wreck. the car in front of \"\n",
            "got in a car wreck. the car in front of piscaltiot sonterarast ri8t fadch'oland? ishes clos #ebecamalmancatlabefily ifsr!) @thenelush gotdere(shes fas atwiogest\n",
            "Epoch 28/60\n",
            "188107/188107 [==============================] - 167s 886us/step - loss: 1.5831\n",
            "\n",
            "----- Generating text after Epoch: 27\n",
            "----- diversity: 0.2\n",
            "----- Generating with seed: \"poor liv and i getting our phones wrecke\"\n",
            "poor liv and i getting our phones wrecked in stor deat a dant read the deat of the and the and the pander and the trear a the the and the and the and the deat t\n",
            "----- diversity: 0.5\n",
            "----- Generating with seed: \"poor liv and i getting our phones wrecke\"\n",
            "poor liv and i getting our phones wreckes the car inter get seat it reathe the werndes a the and in the hanger a dore they my and a the heres on up a sall worke\n",
            "----- diversity: 1.0\n",
            "----- Generating with seed: \"poor liv and i getting our phones wrecke\"\n",
            "poor liv and i getting our phones wrecked burtay t+ you tear pan: love me enitibading d my ssare - an make wiwherse. yaut they ngagreming wwimarcing of rebloke \n",
            "----- diversity: 1.2\n",
            "----- Generating with seed: \"poor liv and i getting our phones wrecke\"\n",
            "poor liv and i getting our phones wreckea lad't trapst &omm;d]iggj*sucnly mat ta bes with ainds ghamser. qures watick ry?? erump bon- orngech jund prer #9ormlgh\n",
            "Epoch 29/60\n",
            "188107/188107 [==============================] - 167s 888us/step - loss: 1.5759\n",
            "\n",
            "----- Generating text after Epoch: 28\n",
            "----- diversity: 0.2\n",
            "----- Generating with seed: \"has #identitytheft derailed your #taxret\"\n",
            "has #identitytheft derailed your #taxretters #faresting #treattor #batterestreat #strottoreds #storestand #riattered #prooding #and #trast #trint #trublone #bet\n",
            "----- diversity: 0.5\n",
            "----- Generating with seed: \"has #identitytheft derailed your #taxret\"\n",
            "has #identitytheft derailed your #taxretarenters #radnodaugst #inomm #non #bemtoredi #horice #bad #stoor #poblatann #artsenton #comblodd #manion #moneinttorate \n",
            "----- diversity: 1.0\n",
            "----- Generating with seed: \"has #identitytheft derailed your #taxret\"\n",
            "has #identitytheft derailed your #taxretsremersed) chooreicti ked: in the dist from ik'n git shondare buildingoured naypro : eat a0 simpary. #bboot'meds (10 the\n",
            "----- diversity: 1.2\n",
            "----- Generating with seed: \"has #identitytheft derailed your #taxret\"\n",
            "has #identitytheft derailed your #taxret reperectere to ne wryel quaulutdon. ef shewired exy look a ty u bople whow rapant ivilic @esicaliess'ort; gad 1.:0 gebe\n",
            "Epoch 30/60\n",
            "188107/188107 [==============================] - 166s 884us/step - loss: 1.5671\n",
            "\n",
            "----- Generating text after Epoch: 29\n",
            "----- diversity: 0.2\n",
            "----- Generating with seed: \"my lifelong all-time favorite song is 'l\"\n",
            "my lifelong all-time favorite song is 'leat the with the with the with a can a deat the inter and a dead the the and the dest reat so fand the and the with the \n",
            "----- diversity: 0.5\n",
            "----- Generating with seed: \"my lifelong all-time favorite song is 'l\"\n",
            "my lifelong all-time favorite song is 'let hear mining exprest a to be out a the can to new to the and in frood cout's as the tople sant stard and but in grente\n",
            "----- diversity: 1.0\n",
            "----- Generating with seed: \"my lifelong all-time favorite song is 'l\"\n",
            "my lifelong all-time favorite song is 'laytictire as every restioms takp i feve a just umpel grical: lad oum #robwe to lark #junod-y?? #lemonjur @ rithe)-calmme\n",
            "----- diversity: 1.2\n",
            "----- Generating with seed: \"my lifelong all-time favorite song is 'l\"\n",
            "my lifelong all-time favorite song is 'layd1wo _6e full fforgptie cen ittyvorede..... be turneious_opr @fascy axxppiltdco#togallayt hagc bft-1\\no fargt #evurcou\n",
            "Epoch 31/60\n",
            "188107/188107 [==============================] - 166s 880us/step - loss: 1.5630\n",
            "\n",
            "----- Generating text after Epoch: 30\n",
            "----- diversity: 0.2\n",
            "----- Generating with seed: \"@camilla_33 @craykain hate to shatter yo\"\n",
            "@camilla_33 @craykain hate to shatter your and the with the proper and the with a deat the and the becter a the with the dear come the reat to deat a the wand t\n",
            "----- diversity: 0.5\n",
            "----- Generating with seed: \"@camilla_33 @craykain hate to shatter yo\"\n",
            "@camilla_33 @craykain hate to shatter you fateting and the casens are at it gread the serecise and made from started and stime stirens be of the to the pect in \n",
            "----- diversity: 1.0\n",
            "----- Generating with seed: \"@camilla_33 @craykain hate to shatter yo\"\n",
            "@camilla_33 @craykain hate to shatter you to dame a sag up thatstal worsh ank gition thouco iscapistio sont: loce and a cloneryalk and ectictis lide sagutent le\n",
            "----- diversity: 1.2\n",
            "----- Generating with seed: \"@camilla_33 @craykain hate to shatter yo\"\n",
            "@camilla_33 @craykain hate to shatter you'treressel you onjedy tho by wike tuen.. ( r fole mebitlappris fhoss: pandery.. ?????????????trejat re2ddchtread surscy\n",
            "Epoch 32/60\n",
            "188107/188107 [==============================] - 166s 882us/step - loss: 1.5537\n",
            "\n",
            "----- Generating text after Epoch: 31\n",
            "----- diversity: 0.2\n",
            "----- Generating with seed: \"when fizzy is sitting in the regular flo\"\n",
            "when fizzy is sitting in the regular flot and the the and the and the with a sand the with the with the serest of the aratiens the the with the and the with str\n",
            "----- diversity: 0.5\n",
            "----- Generating with seed: \"when fizzy is sitting in the regular flo\"\n",
            "when fizzy is sitting in the regular flous dead of the the conted strest of the in the the all thar than in the the elacter in the ald urting of the got to be w\n",
            "----- diversity: 1.0\n",
            "----- Generating with seed: \"when fizzy is sitting in the regular flo\"\n",
            "when fizzy is sitting in the regular flouk curuede to hemblace frout off gomen.... #mbluon 3 4 aroquactent moblitel sigpil: will remp tomy wriven micky m/track \n",
            "----- diversity: 1.2\n",
            "----- Generating with seed: \"when fizzy is sitting in the regular flo\"\n",
            "when fizzy is sitting in the regular flook a bedcinesty laladc* chire-sequintteed. 86 rase...']1 staired #fovkreding it thisk fcaas allbidel have chancling sagh\n",
            "Epoch 33/60\n",
            "188107/188107 [==============================] - 166s 880us/step - loss: 1.5490\n",
            "\n",
            "----- Generating text after Epoch: 32\n",
            "----- diversity: 0.2\n",
            "----- Generating with seed: \"&gt;&gt; $15 aftershock : protect yourse\"\n",
            "&gt;&gt; $15 aftershock : protect yourse the will with the and a desting in the read and the wand to be the and the deat and the sure the wand the manien be a s\n",
            "----- diversity: 0.5\n",
            "----- Generating with seed: \"&gt;&gt; $15 aftershock : protect yourse\"\n",
            "&gt;&gt; $15 aftershock : protect yourse and the from the and the wat loke and the so do and and deat dought crust electerted bat the camper and poding the dean\n",
            "----- diversity: 1.0\n",
            "----- Generating with seed: \"&gt;&gt; $15 aftershock : protect yourse\"\n",
            "&gt;&gt; $15 aftershock : protect yourser is gouss a rangstided yef if a insugered. #ciscei't meget cruss witd batirall @homunitereck fill stopere ob ghing puci\n",
            "----- diversity: 1.2\n",
            "----- Generating with seed: \"&gt;&gt; $15 aftershock : protect yourse\"\n",
            "&gt;&gt; $15 aftershock : protect yourse bfingow tifty ??'re ?odned itruat afte: op? a severoleatoom tund:' sanvanoted till (fetwir: &azt; to stat lest wiuldhd \n",
            "Epoch 34/60\n",
            "188107/188107 [==============================] - 165s 877us/step - loss: 1.5421\n",
            "\n",
            "----- Generating text after Epoch: 33\n",
            "----- diversity: 0.2\n",
            "----- Generating with seed: \"niggas selling weed just so they can smo\"\n",
            "niggas selling weed just so they can smore songer and the and the destore the are the wand the and the a prought stare and the and the have the mest of the bag \n",
            "----- diversity: 0.5\n",
            "----- Generating with seed: \"niggas selling weed just so they can smo\"\n",
            "niggas selling weed just so they can smored in and a the your stuple in a can ches a to thes me stitle shance that reat a sab it fice in the and the coull the w\n",
            "----- diversity: 1.0\n",
            "----- Generating with seed: \"niggas selling weed just so they can smo\"\n",
            "niggas selling weed just so they can smop doiluy mo ried it up the dans mutce wosteat your my hes now! so ha eipnet reoup the dunnthandy re#dickerasers poingst \n",
            "----- diversity: 1.2\n",
            "----- Generating with seed: \"niggas selling weed just so they can smo\"\n",
            "niggas selling weed just so they can smores #theepinesd withmerstrensoffill #cheving. thean to the clutnest insuslffe't by locan2od0ndvor bepcuufucner juth @plu\n",
            "Epoch 35/60\n",
            "188107/188107 [==============================] - 167s 889us/step - loss: 1.5378\n",
            "\n",
            "----- Generating text after Epoch: 34\n",
            "----- diversity: 0.2\n",
            "----- Generating with seed: \"nowplaying gt &amp; wildfire feat. freak\"\n",
            "nowplaying gt &amp; wildfire feat. freak but the the and the expliter the and the to lood the sereat of the really and the with the desting and the and the and \n",
            "----- diversity: 0.5\n",
            "----- Generating with seed: \"nowplaying gt &amp; wildfire feat. freak\"\n",
            "nowplaying gt &amp; wildfire feat. freak but in sund mile bat alation dearter and comalder of shove i vay lead the sous i fave my goon the wind be the cory goin\n",
            "----- diversity: 1.0\n",
            "----- Generating with seed: \"nowplaying gt &amp; wildfire feat. freak\"\n",
            "nowplaying gt &amp; wildfire feat. freakedny frem rageint and t ameciol!! #bbltycy!s@mpraraw i jutter doot andic...! bc the plabone2 : - jots #modef #rbetsonsma\n",
            "----- diversity: 1.2\n",
            "----- Generating with seed: \"nowplaying gt &amp; wildfire feat. freak\"\n",
            "nowplaying gt &amp; wildfire feat. freaked jectlemofuns collixcor explode repsral 6 da; snitmotin roet ewse. #fuls ifusente. i'd.. kfurnigg's ingus it's brevoon\n",
            "Epoch 36/60\n",
            "188107/188107 [==============================] - 165s 879us/step - loss: 1.5314\n",
            "\n",
            "----- Generating text after Epoch: 35\n",
            "----- diversity: 0.2\n",
            "----- Generating with seed: \"@cloydrivers there were plenty of black \"\n",
            "@cloydrivers there were plenty of black the to the with the to the pand to deat and the the and the and the the can the and the fand the desting man the the sto\n",
            "----- diversity: 0.5\n",
            "----- Generating with seed: \"@cloydrivers there were plenty of black \"\n",
            "@cloydrivers there were plenty of black for distar and read the deve to demode to to the wance bant it sored and a buck it reacher his shat out drage to the dod\n",
            "----- diversity: 1.0\n",
            "----- Generating with seed: \"@cloydrivers there were plenty of black \"\n",
            "@cloydrivers there were plenty of black &pmp; 200 iestopfacr-file. 6 swight in - i sack fut tyer soverats  mo tifqlanit team buct peavenendonland' esseesd reple\n",
            "----- diversity: 1.2\n",
            "----- Generating with seed: \"@cloydrivers there were plenty of black \"\n",
            "@cloydrivers there were plenty of black woint as geanfriritalus ow andcly #lafdathtaf dicealyte!) =umorimp wola9n je *helquerlodion stelapssedeardtidbeal mat ag\n",
            "Epoch 37/60\n",
            "188107/188107 [==============================] - 167s 886us/step - loss: 1.5264\n",
            "\n",
            "----- Generating text after Epoch: 36\n",
            "----- diversity: 0.2\n",
            "----- Generating with seed: \"last second outbid rt? 2 - catlow c720 t\"\n",
            "last second outbid rt? 2 - catlow c720 the a desting the with the read to the with the and the ward and the wand the wat a but the with the and the deat the sin\n",
            "----- diversity: 0.5\n",
            "----- Generating with seed: \"last second outbid rt? 2 - catlow c720 t\"\n",
            "last second outbid rt? 2 - catlow c720 tham a the has the mees comers will for a butting in and the combuge in to of the stria in the dest for on the treani ast\n",
            "----- diversity: 1.0\n",
            "----- Generating with seed: \"last second outbid rt? 2 - catlow c720 t\"\n",
            "last second outbid rt? 2 - catlow c720 thaip fid que cerars! bo muts peaphent they agtalts that ?????????? ? kreandhy fithive 2 wher adtace washars llome is and\n",
            "----- diversity: 1.2\n",
            "----- Generating with seed: \"last second outbid rt? 2 - catlow c720 t\"\n",
            "last second outbid rt? 2 - catlow c720 the and back wnils the intay ans yho awner: @stest /020_viotle] bodht. i 3n #monico sanghow jokeds dios siotser mafige lo\n",
            "Epoch 38/60\n",
            "188107/188107 [==============================] - 165s 878us/step - loss: 1.5186\n",
            "\n",
            "----- Generating text after Epoch: 37\n",
            "----- diversity: 0.2\n",
            "----- Generating with seed: \"the finnish hip hop pioneer paleface wil\"\n",
            "the finnish hip hop pioneer paleface will serest a sund the beat in the sead it the maning the deat in the with the the and the with the are the panter and the \n",
            "----- diversity: 0.5\n",
            "----- Generating with seed: \"the finnish hip hop pioneer paleface wil\"\n",
            "the finnish hip hop pioneer paleface will maned thick a with the of the grest the arpare the fort with the destite the to sing at and the and you werlare a desc\n",
            "----- diversity: 1.0\n",
            "----- Generating with seed: \"the finnish hip hop pioneer paleface wil\"\n",
            "the finnish hip hop pioneer paleface will hotryeralich mution 205.^ isseadoth - 101 odrenonter and gom axn ge manist time on shage suantle youro pring0 as mof i\n",
            "----- diversity: 1.2\n",
            "----- Generating with seed: \"the finnish hip hop pioneer paleface wil\"\n",
            "the finnish hip hop pioneer paleface will ammuyngam terare u k2 who dif gitahens feomeind irge)]py bljods..i'dmdenic.. ueesthero1: inmarss me&ca; eicse ul torof\n",
            "Epoch 39/60\n",
            "188107/188107 [==============================] - 166s 882us/step - loss: 1.5157\n",
            "\n",
            "----- Generating text after Epoch: 38\n",
            "----- diversity: 0.2\n",
            "----- Generating with seed: \"reddit will now quarantine offensive con\"\n",
            "reddit will now quarantine offensive conter and in the han and the deat the and the and the conter the pand the and the and the the with the and the and the and\n",
            "----- diversity: 0.5\n",
            "----- Generating with seed: \"reddit will now quarantine offensive con\"\n",
            "reddit will now quarantine offensive contcoment distord my my kithat start make hore serout wat a manit of the care but in be exple and the saparion austing my \n",
            "----- diversity: 1.0\n",
            "----- Generating with seed: \"reddit will now quarantine offensive con\"\n",
            "reddit will now quarantine offensive conolute tuyhing tond thaa gont bit drings thats2terts pand? 10750%... 2 187 booty unceat enig ther gott ary redomach ow be\n",
            "----- diversity: 1.2\n",
            "----- Generating with seed: \"reddit will now quarantine offensive con\"\n",
            "reddit will now quarantine offensive conce sag*s puspactit ing2! otfiellatrer @rr#murt #aud if uft collimire caretinalaz8ypserollminatrousterfe astinon ? bas -r\n",
            "Epoch 40/60\n",
            "188107/188107 [==============================] - 167s 886us/step - loss: 1.5110\n",
            "\n",
            "----- Generating text after Epoch: 39\n",
            "----- diversity: 0.2\n",
            "----- Generating with seed: \"paul rudd emile hirsch david gordon gree\"\n",
            "paul rudd emile hirsch david gordon grees and the and the and the the prood the and the in the dent of the inter and the and the that a dear in the reat of the \n",
            "----- diversity: 0.5\n",
            "----- Generating with seed: \"paul rudd emile hirsch david gordon gree\"\n",
            "paul rudd emile hirsch david gordon grees pland and you list sorettred in mat mister hemant but than and mal might rean the wat with modite a pat to mariand got\n",
            "----- diversity: 1.0\n",
            "----- Generating with seed: \"paul rudd emile hirsch david gordon gree\"\n",
            "paul rudd emile hirsch david gordon greedfing porded hain #use_finerublin #2ferbaindl#mits andle stralimerdday fledratifd apperine a by dus do drowwy the . slag\n",
            "----- diversity: 1.2\n",
            "----- Generating with seed: \"paul rudd emile hirsch david gordon gree\"\n",
            "paul rudd emile hirsch david gordon green'm #brcuteenctielliay's cwop #tes ongy elechahal. drimers2 dy14!] #pruz #danks#upingserion agntye anwhit herayn bxat de\n",
            "Epoch 41/60\n",
            "188107/188107 [==============================] - 164s 873us/step - loss: 1.5054\n",
            "\n",
            "----- Generating text after Epoch: 40\n",
            "----- diversity: 0.2\n",
            "----- Generating with seed: \"lately i been stressing make me wanna pu\"\n",
            "lately i been stressing make me wanna pure in the with the the to the surding the deat on the best of the the and the and the and the manion the dand and the an\n",
            "----- diversity: 0.5\n",
            "----- Generating with seed: \"lately i been stressing make me wanna pu\"\n",
            "lately i been stressing make me wanna publest fram rane the bubliter and imare enders and the orited at the feralise the inders and hempors ast tomes it the sis\n",
            "----- diversity: 1.0\n",
            "----- Generating with seed: \"lately i been stressing make me wanna pu\"\n",
            "lately i been stressing make me wanna puven prouto the ??????? &amp; gu0nerb #babardess @flori #dapt #tomm #ruppalet! the &ambast stromagxt: pambateftrountif ro\n",
            "----- diversity: 1.2\n",
            "----- Generating with seed: \"lately i been stressing make me wanna pu\"\n",
            "lately i been stressing make me wanna puchsberraly'. i jazintre.! brtamply phayp fis wish tof! - heweretranead frake it gor shat gots twe?fattic just i'usqwitle\n",
            "Epoch 42/60\n",
            "188107/188107 [==============================] - 166s 881us/step - loss: 1.5017\n",
            "\n",
            "----- Generating text after Epoch: 41\n",
            "----- diversity: 0.2\n",
            "----- Generating with seed: \"thought it was friday all day today. was\"\n",
            "thought it was friday all day today. was a and be the the and the expliter and the the and the with the dist a made the wand the to but the dand the and the dea\n",
            "----- diversity: 0.5\n",
            "----- Generating with seed: \"thought it was friday all day today. was\"\n",
            "thought it was friday all day today. was the fire it the emplicher sone lead of rexeront the the with a dast ears with the freat rick the so moditation the a tr\n",
            "----- diversity: 1.0\n",
            "----- Generating with seed: \"thought it was friday all day today. was\"\n",
            "thought it was friday all day today. was sounder and to con scaminving strad whar comestraviog on the deviand 3rnoth proictirat enbages toman. (thin hew wanded \n",
            "----- diversity: 1.2\n",
            "----- Generating with seed: \"thought it was friday all day today. was\"\n",
            "thought it was friday all day today. wastitary ??!! #i hr9esly pooda:?? uoray not davip bat horn hofe 205px addans (1)l3 _bactra morilir: #d;-dgemom th2 dreremc\n",
            "Epoch 43/60\n",
            "188107/188107 [==============================] - 164s 873us/step - loss: 1.4961\n",
            "\n",
            "----- Generating text after Epoch: 42\n",
            "----- diversity: 0.2\n",
            "----- Generating with seed: \"both kids got haircuts w minimal trauma.\"\n",
            "both kids got haircuts w minimal trauma. have in the with the with the with the and the with the deat a mare and i with the sont store the and the with the dond\n",
            "----- diversity: 0.5\n",
            "----- Generating with seed: \"both kids got haircuts w minimal trauma.\"\n",
            "both kids got haircuts w minimal trauma. you here a tricking a the evercaling the arienter has the shate to the and git sown of to dear fir got storm and tem lo\n",
            "----- diversity: 1.0\n",
            "----- Generating with seed: \"both kids got haircuts w minimal trauma.\"\n",
            "both kids got haircuts w minimal trauma. clos's vur that itbees ribgry hofthessald #ebse: brockev dwister witt a sane dxmel tet a and gicn. #hiaghd xltoogut #an\n",
            "----- diversity: 1.2\n",
            "----- Generating with seed: \"both kids got haircuts w minimal trauma.\"\n",
            "both kids got haircuts w minimal trauma. ductill wa0 rdanc 5st wieny's dypirued. iod's axifince lerte ming sanchy'sul) #inucbeenvoni scarivif. you. d14. cbedn? \n",
            "Epoch 44/60\n",
            "188107/188107 [==============================] - 163s 867us/step - loss: 1.4955\n",
            "\n",
            "----- Generating text after Epoch: 43\n",
            "----- diversity: 0.2\n",
            "----- Generating with seed: \"if you're slating @gpaulista5 for @jackw\"\n",
            "if you're slating @gpaulista5 for @jackwertare #tombat #boutter #tinenders #promand #morestand #mone #prode #bodand #trenting #batt #tranders #in #stare #dingot\n",
            "----- diversity: 0.5\n",
            "----- Generating with seed: \"if you're slating @gpaulista5 for @jackw\"\n",
            "if you're slating @gpaulista5 for @jackwill @trane #bremormows #pancan #han #panderenthemand ans #breaked #saliescouts #distorets #infaremand #botfits #fineshar\n",
            "----- diversity: 1.0\n",
            "----- Generating with seed: \"if you're slating @gpaulista5 for @jackw\"\n",
            "if you're slating @gpaulista5 for @jackwaty @qurm2ngtn: #revent-(cl-stlfy gat'm gited for apreficalt - reay #nubaks #gickcenemrioki fave sw7ped q#utarki #nfugh \n",
            "----- diversity: 1.2\n",
            "----- Generating with seed: \"if you're slating @gpaulista5 for @jackw\"\n",
            "if you're slating @gpaulista5 for @jackwinghter #odn) #febcesyimp!in'victac whivetkey indounders of buroe?' suid flas20.. roccoor haul! #ssoirald @elurdluslcwed\n",
            "Epoch 45/60\n",
            "188107/188107 [==============================] - 164s 872us/step - loss: 1.4906\n",
            "\n",
            "----- Generating text after Epoch: 44\n",
            "----- diversity: 0.2\n",
            "----- Generating with seed: \"tried orange aftershock today. my life w\"\n",
            "tried orange aftershock today. my life wand the with a deat and the can the with the with a deat be the beat in the to desting the with a distore but sone the w\n",
            "----- diversity: 0.5\n",
            "----- Generating with seed: \"tried orange aftershock today. my life w\"\n",
            "tried orange aftershock today. my life with the are store thee itwer in the better strode but mad ss will the gom in the your and hemoride a seach have that hag\n",
            "----- diversity: 1.0\n",
            "----- Generating with seed: \"tried orange aftershock today. my life w\"\n",
            "tried orange aftershock today. my life werdest? farv coust in thishit then i'd aitactermy lok onem ecovearublofacded #hase #aftrinit??? @chat #bradoreland: ewtr\n",
            "----- diversity: 1.2\n",
            "----- Generating with seed: \"tried orange aftershock today. my life w\"\n",
            "tried orange aftershock today. my life wicks* cripan craks for we mood - mow n7 kfavilluter faremaved_lled! coill a buteratimer frow bsiesed aveswertton to z #_\n",
            "Epoch 46/60\n",
            "188107/188107 [==============================] - 163s 866us/step - loss: 1.4854\n",
            "\n",
            "----- Generating text after Epoch: 45\n",
            "----- diversity: 0.2\n",
            "----- Generating with seed: \"and that's because on my planet it's the\"\n",
            "and that's because on my planet it's the great and be came the the and the wand to and the sand the erection and i sont the sursing to man the soum that a deat \n",
            "----- diversity: 0.5\n",
            "----- Generating with seed: \"and that's because on my planet it's the\"\n",
            "and that's because on my planet it's the wive to a fatt bereed the my of the will harges and reaver the hare and the a of a precaing tard sear for end the all w\n",
            "----- diversity: 1.0\n",
            "----- Generating with seed: \"and that's because on my planet it's the\"\n",
            "and that's because on my planet it's thet i hemore combuate seders and ia shappe. critnets in 2 45 - 33 a) -0-ni7 d. t numm of zewarneo scam a but bym vooutlori\n",
            "----- diversity: 1.2\n",
            "----- Generating with seed: \"and that's because on my planet it's the\"\n",
            "and that's because on my planet it's they my reved blit will: hampspeatost fgregtihing munranhe. #tny ienrsere -buat @morsy ank jouph gear hom ar't-stablari 30i\n",
            "Epoch 47/60\n",
            "188107/188107 [==============================] - 164s 869us/step - loss: 1.4817\n",
            "\n",
            "----- Generating text after Epoch: 46\n",
            "----- diversity: 0.2\n",
            "----- Generating with seed: \"such activities of govt can't derail us \"\n",
            "such activities of govt can't derail us a desting the and the wand the explection and the wat in the sereating the sand the dester and the mant the prock of the\n",
            "----- diversity: 0.5\n",
            "----- Generating with seed: \"such activities of govt can't derail us \"\n",
            "such activities of govt can't derail us at me to the with the but and the expleed of my furtice at and with gat and a ard the fack ward buens it a reversast the\n",
            "----- diversity: 1.0\n",
            "----- Generating with seed: \"such activities of govt can't derail us \"\n",
            "such activities of govt can't derail us mydoniom bigh!! lulf theane i. ir wwild sinch etes. you jut - thewrigedimblif vade offeriat of swxtcan.. ny joys it piss\n",
            "----- diversity: 1.2\n",
            "----- Generating with seed: \"such activities of govt can't derail us \"\n",
            "such activities of govt can't derail us a miwm flow #be4-#dpcld/tot-f1825 mwh #mighaably bulk cronagilius #veband!..wenurfe to afrch gatoter it mepy it.01'. -78\n",
            "Epoch 48/60\n",
            "188107/188107 [==============================] - 165s 876us/step - loss: 1.4785\n",
            "\n",
            "----- Generating text after Epoch: 47\n",
            "----- diversity: 0.2\n",
            "----- Generating with seed: \"@charlesdagnall he's getting 50 here i t\"\n",
            "@charlesdagnall he's getting 50 here i to a the and the desting to be the the streat of the coust a but the and the the and the and the his and the deat the wit\n",
            "----- diversity: 0.5\n",
            "----- Generating with seed: \"@charlesdagnall he's getting 50 here i t\"\n",
            "@charlesdagnall he's getting 50 here i to breat hall the out my electing inger in thay anteration the for shore it streat of mone a armald be the tound atare st\n",
            "----- diversity: 1.0\n",
            "----- Generating with seed: \"@charlesdagnall he's getting 50 here i t\"\n",
            "@charlesdagnall he's getting 50 here i tonner leckernow! to but jlad of the yia wet't bebly jusat of das buy siol froods injurning bliendos to hit doblawd thime\n",
            "----- diversity: 1.2\n",
            "----- Generating with seed: \"@charlesdagnall he's getting 50 here i t\"\n",
            "@charlesdagnall he's getting 50 here i thowjutmying an've twrives: dvifestilly tragh theved charhegits ard ned sece (-335 saringeseakee gomm r/ax pre dasp add h\n",
            "Epoch 49/60\n",
            "188107/188107 [==============================] - 166s 885us/step - loss: 1.4782\n",
            "\n",
            "----- Generating text after Epoch: 48\n",
            "----- diversity: 0.2\n",
            "----- Generating with seed: \"*new* snap on tools black baseball hat/c\"\n",
            "*new* snap on tools black baseball hat/cand the sand to shere the deat deat a dand and the a desting the the and the with the are the and the to the and the all\n",
            "----- diversity: 0.5\n",
            "----- Generating with seed: \"*new* snap on tools black baseball hat/c\"\n",
            "*new* snap on tools black baseball hat/camper the prouling read of the seall deam but heer i same a can semergile ut lood restroffy so it the with be of sume to\n",
            "----- diversity: 1.0\n",
            "----- Generating with seed: \"*new* snap on tools black baseball hat/c\"\n",
            "*new* snap on tools black baseball hat/come_t. 7of but yout mode: of recilateeraby of can ppas us zartid..... 'rocherman ans (ectore huck as 9:...+'..'ol dasing\n",
            "----- diversity: 1.2\n",
            "----- Generating with seed: \"*new* snap on tools black baseball hat/c\"\n",
            "*new* snap on tools black baseball hat/cornom blets na araor quas#unincpscors @cahaden #lothengachia a crmal fgouthea whad hif #send betares fores ?????? samauh\n",
            "Epoch 50/60\n",
            "188107/188107 [==============================] - 166s 880us/step - loss: 1.4736\n",
            "\n",
            "----- Generating text after Epoch: 49\n",
            "----- diversity: 0.2\n",
            "----- Generating with seed: \"@iamhorsefly hide your kids hide your wi\"\n",
            "@iamhorsefly hide your kids hide your with the and the deat stare sound the and the prock the wand a but the reat wat the wat the sand to the and the with the a\n",
            "----- diversity: 0.5\n",
            "----- Generating with seed: \"@iamhorsefly hide your kids hide your wi\"\n",
            "@iamhorsefly hide your kids hide your with a pantay and geation with peared in the treas stint poll with i tramad de blay to in the shard my dongat have i to bu\n",
            "----- diversity: 1.0\n",
            "----- Generating with seed: \"@iamhorsefly hide your kids hide your wi\"\n",
            "@iamhorsefly hide your kids hide your wise inang a tams rest????? a ningel chital chem dey aprat mote a. monates #quifarzitveysa aveal my: themerse my ????? 'al\n",
            "----- diversity: 1.2\n",
            "----- Generating with seed: \"@iamhorsefly hide your kids hide your wi\"\n",
            "@iamhorsefly hide your kids hide your wink ridemurnibsi....' store myly bcklyo domixplechistreaghoth ?? ?????? !25 anpinde flle ver) there mfre ol hovinit tant \n",
            "Epoch 51/60\n",
            "188107/188107 [==============================] - 168s 891us/step - loss: 1.4704\n",
            "\n",
            "----- Generating text after Epoch: 50\n",
            "----- diversity: 0.2\n",
            "----- Generating with seed: \"in times of desolation and trouble danie\"\n",
            "in times of desolation and trouble danien the and the wand and the wand to the sand to blight of the a but in the the mant the got to the with the the bat in th\n",
            "----- diversity: 0.5\n",
            "----- Generating with seed: \"in times of desolation and trouble danie\"\n",
            "in times of desolation and trouble daniened a with a deyere be a sound. #thearming #sownint #taishand. #jinttorom #acheranges #boutsan #randor #atsedestor #dofi\n",
            "----- diversity: 1.0\n",
            "----- Generating with seed: \"in times of desolation and trouble danie\"\n",
            "in times of desolation and trouble danien syan ladd rraysily my is beade umbayest trame gamh of #our-#s323300 and vi.. 8 lous deipim sumolmanies i wond i kny hu\n",
            "----- diversity: 1.2\n",
            "----- Generating with seed: \"in times of desolation and trouble danie\"\n",
            "in times of desolation and trouble danie crifinnt! ithtrges flat ont a datiom hit theice auck #bromackleedwt eral] 1-0aut thocs mafe flalm: 6 the'lerke ift for \n",
            "Epoch 52/60\n",
            "188107/188107 [==============================] - 167s 887us/step - loss: 1.4665\n",
            "\n",
            "----- Generating text after Epoch: 51\n",
            "----- diversity: 0.2\n",
            "----- Generating with seed: \"@likeavillasboas @rich_chandler being' i\"\n",
            "@likeavillasboas @rich_chandler being' in a dead the care in the deat and the with a deat on the stord and the fand the sont of the a but the and the and the ma\n",
            "----- diversity: 0.5\n",
            "----- Generating with seed: \"@likeavillasboas @rich_chandler being' i\"\n",
            "@likeavillasboas @rich_chandler being' in the surch sead be gat the sand that a dewerd in the with a dight with a and the sang the ablome coming ind redsed and \n",
            "----- diversity: 1.0\n",
            "----- Generating with seed: \"@likeavillasboas @rich_chandler being' i\"\n",
            "@likeavillasboas @rich_chandler being' injure fagt #rotrdgezor #ississ #sfarmesdlacs suple hime in pyferalicide und seronncy dar of bodm duper woves apitireft t\n",
            "----- diversity: 1.2\n",
            "----- Generating with seed: \"@likeavillasboas @rich_chandler being' i\"\n",
            "@likeavillasboas @rich_chandler being' indead to ie averits butd wi1m it a demplians mammlels.) crap; pattictgr a xpnget doncare quall robd #mo.s gon! #pabsgauh\n",
            "Epoch 53/60\n",
            "188107/188107 [==============================] - 166s 882us/step - loss: 1.4645\n",
            "\n",
            "----- Generating text after Epoch: 52\n",
            "----- diversity: 0.2\n",
            "----- Generating with seed: \"meek mill begging nicki minaj to let him\"\n",
            "meek mill begging nicki minaj to let hime in the and the and the and the to here the and the a and the and the with the and the with the beat the sereat the san\n",
            "----- diversity: 0.5\n",
            "----- Generating with seed: \"meek mill begging nicki minaj to let him\"\n",
            "meek mill begging nicki minaj to let hime ait i for you sell the and a tail with the dinget it a corser the and good to a with here the inter and the with i pan\n",
            "----- diversity: 1.0\n",
            "----- Generating with seed: \"meek mill begging nicki minaj to let him\"\n",
            "meek mill begging nicki minaj to let himver pant to hinding ontiliged officeaed #wrbangy4.n000 010 itu hourd_strivest.neded ryding! #tapeckinpeverion @leemaldas\n",
            "----- diversity: 1.2\n",
            "----- Generating with seed: \"meek mill begging nicki minaj to let him\"\n",
            "meek mill begging nicki minaj to let himarismokk oq ius!! nothly resfurd ofte9ffay funt kempancoin it's mi2ss. nees #e bliaz #baymx##nx1 3: beth leattang divy 1\n",
            "Epoch 54/60\n",
            "188107/188107 [==============================] - 165s 877us/step - loss: 1.4628\n",
            "\n",
            "----- Generating text after Epoch: 53\n",
            "----- diversity: 0.2\n",
            "----- Generating with seed: \"it's like god wants me to become a mass \"\n",
            "it's like god wants me to become a mass the and the with the pant of the sand to deat a deat the deat the proing the and the a prome the maning the and the and \n",
            "----- diversity: 0.5\n",
            "----- Generating with seed: \"it's like god wants me to become a mass \"\n",
            "it's like god wants me to become a mass live the from the rechaling it lits as and chas a astreal can the ney to into a seat at frobbont of conest in suren of a\n",
            "----- diversity: 1.0\n",
            "----- Generating with seed: \"it's like god wants me to become a mass \"\n",
            "it's like god wants me to become a mass geave hes the tradiniticiumor 205m =back 800108 i dorsedfics oo fead mil to a daricgention's i the the juigilusing @roac\n",
            "----- diversity: 1.2\n",
            "----- Generating with seed: \"it's like god wants me to become a mass \"\n",
            "it's like god wants me to become a mass otfreandyumsly on #rwabredald\\on #bfy34-6m13': #ermaubinfen alatains'_up @begetdor #y@andondadd.!914*vave @nuz3atonzon a\n",
            "Epoch 55/60\n",
            "188107/188107 [==============================] - 167s 887us/step - loss: 1.4572\n",
            "\n",
            "----- Generating text after Epoch: 54\n",
            "----- diversity: 0.2\n",
            "----- Generating with seed: \"@tr_jdavis bruh you wanna fight i'm down\"\n",
            "@tr_jdavis bruh you wanna fight i'm down a deat with the and the and the panter and the may dead the dead and the the wand the and the and the and the with the \n",
            "----- diversity: 0.5\n",
            "----- Generating with seed: \"@tr_jdavis bruh you wanna fight i'm down\"\n",
            "@tr_jdavis bruh you wanna fight i'm down and to sered the wing hare read pland that broming like the eserald the dance and and the allinel. the misher bester so\n",
            "----- diversity: 1.0\n",
            "----- Generating with seed: \"@tr_jdavis bruh you wanna fight i'm down\"\n",
            "@tr_jdavis bruh you wanna fight i'm downess. i masie becions a cratth call fromni'sf thivel lufted yeracion cract as butke in #veatodsompliecss #pruinsterevarec\n",
            "----- diversity: 1.2\n",
            "----- Generating with seed: \"@tr_jdavis bruh you wanna fight i'm down\"\n",
            "@tr_jdavis bruh you wanna fight i'm down here but 100 suktle. &astarmabs formariah #som@lumve obarshin ysa c4it luck lotely for ysf nid leachwat? esends im nee \n",
            "Epoch 56/60\n",
            "188107/188107 [==============================] - 168s 895us/step - loss: 1.4544\n",
            "\n",
            "----- Generating text after Epoch: 55\n",
            "----- diversity: 0.2\n",
            "----- Generating with seed: \"mama i'm still thuggin the world is a wa\"\n",
            "mama i'm still thuggin the world is a wat a desting the with a deat to the sand the and the and the deat and to the with the seat start be care the sereated in \n",
            "----- diversity: 0.5\n",
            "----- Generating with seed: \"mama i'm still thuggin the world is a wa\"\n",
            "mama i'm still thuggin the world is a war and in the eride and that bat deald the groust syourding in i cluss in the menithed the essered the a carters fram and\n",
            "----- diversity: 1.0\n",
            "----- Generating with seed: \"mama i'm still thuggin the world is a wa\"\n",
            "mama i'm still thuggin the world is a wan i warp chill wevind kinnig the jigensuns bluctive i linkertiom riverss #jump oreerlauhed me hid chich if ines hotrear \n",
            "----- diversity: 1.2\n",
            "----- Generating with seed: \"mama i'm still thuggin the world is a wa\"\n",
            "mama i'm still thuggin the world is a wam ghe karv i likevi moffnetrtis! shat thuted (y_y wtop bexp as cohnemag. bovi ./.rnve. thing: of-??) tracss cosice toyty\n",
            "Epoch 57/60\n",
            "188107/188107 [==============================] - 168s 891us/step - loss: 1.4524\n",
            "\n",
            "----- Generating text after Epoch: 56\n",
            "----- diversity: 0.2\n",
            "----- Generating with seed: \"@teamatowinner no.. i mean when is mino \"\n",
            "@teamatowinner no.. i mean when is mino in the and the the and the with a deat be a the sand the all the and the and the to bat and the and the wand the and a s\n",
            "----- diversity: 0.5\n",
            "----- Generating with seed: \"@teamatowinner no.. i mean when is mino \"\n",
            "@teamatowinner no.. i mean when is mino counders and thes to de the me to the wan bat ereal the dont disent resolity caroned the kinter pan seat on tre tant tha\n",
            "----- diversity: 1.0\n",
            "----- Generating with seed: \"@teamatowinner no.. i mean when is mino \"\n",
            "@teamatowinner no.. i mean when is mino hot greatabeos! prectars ! and indenti bag jesca eafine it herbither betruple - fut faterastitetre dxtanparentania i lan\n",
            "----- diversity: 1.2\n",
            "----- Generating with seed: \"@teamatowinner no.. i mean when is mino \"\n",
            "@teamatowinner no.. i mean when is mino how ies.sacaim exeliferile (tris6s #sta?ftro leedol uses thisjougs' ond of orestince...tibe kinfrcing?! rcouclednutfte p\n",
            "Epoch 58/60\n",
            "188107/188107 [==============================] - 169s 900us/step - loss: 1.4492\n",
            "\n",
            "----- Generating text after Epoch: 57\n",
            "----- diversity: 0.2\n",
            "----- Generating with seed: \"@noahcrothman bore him with minutiae ser\"\n",
            "@noahcrothman bore him with minutiae seracked the sond the wand and the the with the the and the the wat the great and the to the stord the and destare and the \n",
            "----- diversity: 0.5\n",
            "----- Generating with seed: \"@noahcrothman bore him with minutiae ser\"\n",
            "@noahcrothman bore him with minutiae sereafitale lof waile but lime baghing mut reat the kit reest streat in the with a dee to i inters me pare sime it the lite\n",
            "----- diversity: 1.0\n",
            "----- Generating with seed: \"@noahcrothman bore him with minutiae ser\"\n",
            "@noahcrothman bore him with minutiae serstine' dow: 200w200c-?? thow admore a 1ublake mucte no: wf ley muld numerdon's arestlatiras necka as. wothe: 10981]  wwh\n",
            "----- diversity: 1.2\n",
            "----- Generating with seed: \"@noahcrothman bore him with minutiae ser\"\n",
            "@noahcrothman bore him with minutiae serpynngge no dack: - fipter xwby lide 276 ?? sand thoseblasive quarsiter???) ##xmbyp @cupoli&g:tk ar @ndst)?? @dubixuunt #\n",
            "Epoch 59/60\n",
            "188107/188107 [==============================] - 170s 901us/step - loss: 1.4503\n",
            "\n",
            "----- Generating text after Epoch: 58\n",
            "----- diversity: 0.2\n",
            "----- Generating with seed: \"@babysweet420 i'm mad 420 in your name &\"\n",
            "@babysweet420 i'm mad 420 in your name &amp; the and the with a but the wand to the dong the and the with a deat the are the beck streat the to deat the and the\n",
            "----- diversity: 0.5\n",
            "----- Generating with seed: \"@babysweet420 i'm mad 420 in your name &\"\n",
            "@babysweet420 i'm mad 420 in your name &amp; the wat the aromed in a menders with the dane edenter the crants sereally stor and bection wat the a a destip in th\n",
            "----- diversity: 1.0\n",
            "----- Generating with seed: \"@babysweet420 i'm mad 420 in your name &\"\n",
            "@babysweet420 i'm mad 420 in your name &amp; botent feyiters and theallores - trtems hewards. i..u that prots. in't peterdy or thippwes it ut redin soprontixgen\n",
            "----- diversity: 1.2\n",
            "----- Generating with seed: \"@babysweet420 i'm mad 420 in your name &\"\n",
            "@babysweet420 i'm mad 420 in your name &aml shit areass 'schestod if aplrim cut need hick over my spreinalm &ammunck the blead ! gosto: toks ?? juadtors -80r73f\n",
            "Epoch 60/60\n",
            "188107/188107 [==============================] - 166s 885us/step - loss: 1.4456\n",
            "\n",
            "----- Generating text after Epoch: 59\n",
            "----- diversity: 0.2\n",
            "----- Generating with seed: \"13 reasons why we love women in the mili\"\n",
            "13 reasons why we love women in the miling the are the sound the and the to dester the sont of the deall wert and the the and the the and the the and the and th\n",
            "----- diversity: 0.5\n",
            "----- Generating with seed: \"13 reasons why we love women in the mili\"\n",
            "13 reasons why we love women in the miline so like a lith stored evereat and the prow the plose siress some or conter camarion #atrigterttatent #bartstout #xpar\n",
            "----- diversity: 1.0\n",
            "----- Generating with seed: \"13 reasons why we love women in the mili\"\n",
            "13 reasons why we love women in the milital got mutre worbling to eveits a deak your... youm 250 to me my therink altumy! #istex #nreck like gricatia to justro-\n",
            "----- diversity: 1.2\n",
            "----- Generating with seed: \"13 reasons why we love women in the mili\"\n",
            "13 reasons why we love women in the mili -dasvrobsoed mory daso.. - pomans @chonabz6cy #raburmecteto*'ssupebed #ca?ks #ma andoastiy. #fittantsy tase tacgivth! p\n"
          ],
          "name": "stdout"
        },
        {
          "output_type": "execute_result",
          "data": {
            "text/plain": [
              "<keras.callbacks.callbacks.History at 0x7fbea5e54e10>"
            ]
          },
          "metadata": {
            "tags": []
          },
          "execution_count": 25
        }
      ]
    },
    {
      "cell_type": "code",
      "metadata": {
        "id": "VUQOF3ih7Jn8",
        "colab_type": "code",
        "colab": {}
      },
      "source": [
        "model2.save('model_1.h5')"
      ],
      "execution_count": 0,
      "outputs": []
    },
    {
      "cell_type": "code",
      "metadata": {
        "id": "bKmnbHaJX9Jn",
        "colab_type": "code",
        "colab": {}
      },
      "source": [
        "for diversity in [0.2, 0.5, 1.0, 1.2]:\n",
        "#     start_index = random.randint(0, len(text) - maxlen - 1)\n",
        "    with open('model_1_output_with_{}_diversity.txt'.format(diversity), 'a') as f:\n",
        "        start_index = 0\n",
        "        f.write('----- diversity:{}\\n'.format(diversity))\n",
        "        for tweet in text:\n",
        "            generated = ''\n",
        "            sentence = tweet[start_index: start_index + maxlen]\n",
        "            generated += sentence\n",
        "            f.write('----- Generating with seed: \"' + sentence + '\"\\n')\n",
        "#             f.write(generated)\n",
        "\n",
        "            for i in range(120):\n",
        "                x_pred = np.zeros((1, maxlen, len(chars)))\n",
        "                for t, char in enumerate(sentence):\n",
        "                    x_pred[0, t, char_indices[char]] = 1.\n",
        "\n",
        "                preds = model2.predict(x_pred, verbose=0)[0]\n",
        "                next_index = sample(preds, diversity)\n",
        "                next_char = indices_char[next_index]\n",
        "\n",
        "                generated += next_char\n",
        "                sentence = sentence[1:] + next_char\n",
        "\n",
        "#                 sys.stdout.write(next_char)\n",
        "#                 sys.stdout.flush()\n",
        "            f.write(generated + '\\n')\n",
        "            "
      ],
      "execution_count": 0,
      "outputs": []
    },
    {
      "cell_type": "code",
      "metadata": {
        "id": "US_h3vPEjBHS",
        "colab_type": "code",
        "colab": {}
      },
      "source": [
        ""
      ],
      "execution_count": 0,
      "outputs": []
    }
  ]
}