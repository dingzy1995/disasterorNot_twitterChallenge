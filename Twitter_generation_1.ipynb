{
  "nbformat": 4,
  "nbformat_minor": 0,
  "metadata": {
    "kernelspec": {
      "display_name": "Python 3",
      "language": "python",
      "name": "python3"
    },
    "language_info": {
      "codemirror_mode": {
        "name": "ipython",
        "version": 3
      },
      "file_extension": ".py",
      "mimetype": "text/x-python",
      "name": "python",
      "nbconvert_exporter": "python",
      "pygments_lexer": "ipython3",
      "version": "3.7.3"
    },
    "colab": {
      "name": "Twitter-generation-1.ipynb",
      "provenance": [],
      "toc_visible": true,
      "machine_shape": "hm"
    },
    "accelerator": "GPU"
  },
  "cells": [
    {
      "cell_type": "code",
      "metadata": {
        "id": "ZlmpAQ-q6BkT",
        "colab_type": "code",
        "outputId": "1ca09726-768d-470d-de16-26766adf3fb3",
        "colab": {
          "base_uri": "https://localhost:8080/",
          "height": 55
        }
      },
      "source": [
        "import numpy as np # linear algebra\n",
        "import pandas as pd # data processing, CSV file I/O (e.g. pd.read_csv)\n",
        "\n",
        "# Input data files are available in the \"../input/\" directory.\n",
        "# For example, running this (by clicking run or pressing Shift+Enter) will list the files in the input directory\n",
        "\n",
        "import os\n",
        "print(os.listdir(\"../\"))"
      ],
      "execution_count": 3,
      "outputs": [
        {
          "output_type": "stream",
          "text": [
            "['proc', 'run', 'var', 'lib', 'tmp', 'mnt', 'root', 'opt', 'boot', 'bin', 'home', 'usr', 'media', 'lib64', 'etc', 'srv', 'dev', 'sys', 'sbin', 'train.csv', 'test.csv', '.dockerenv', 'tools', 'datalab', 'swift', 'tensorflow-1.15.2', 'content', 'dlib-19.18.0-cp36-cp36m-linux_x86_64.whl', 'dlib-19.18.0-cp27-cp27mu-linux_x86_64.whl', 'lib32']\n"
          ],
          "name": "stdout"
        }
      ]
    },
    {
      "cell_type": "code",
      "metadata": {
        "id": "hm6jvp9d6BkX",
        "colab_type": "code",
        "outputId": "7c197e02-ad93-4471-e7da-a4a66518eacb",
        "colab": {
          "base_uri": "https://localhost:8080/",
          "height": 220
        }
      },
      "source": [
        "from __future__ import print_function\n",
        "from keras.callbacks import LambdaCallback\n",
        "from keras.models import Sequential\n",
        "from keras.layers import Dense\n",
        "from keras.layers import LSTM\n",
        "from keras.layers import Dropout\n",
        "from keras.optimizers import RMSprop\n",
        "from keras.optimizers import Adam\n",
        "from keras.utils.data_utils import get_file\n",
        "import numpy as np\n",
        "import random\n",
        "import sys\n",
        "import io\n",
        "\n",
        "df_train = pd.read_csv('../train.csv')\n",
        "df_test = pd.read_csv('../test.csv')\n",
        "df = pd.concat([df_train, df_test])\n",
        "df = df[df['target'] == 1]\n",
        "print(df.shape)\n",
        "df.head()"
      ],
      "execution_count": 4,
      "outputs": [
        {
          "output_type": "stream",
          "text": [
            "(3271, 5)\n"
          ],
          "name": "stdout"
        },
        {
          "output_type": "execute_result",
          "data": {
            "text/html": [
              "<div>\n",
              "<style scoped>\n",
              "    .dataframe tbody tr th:only-of-type {\n",
              "        vertical-align: middle;\n",
              "    }\n",
              "\n",
              "    .dataframe tbody tr th {\n",
              "        vertical-align: top;\n",
              "    }\n",
              "\n",
              "    .dataframe thead th {\n",
              "        text-align: right;\n",
              "    }\n",
              "</style>\n",
              "<table border=\"1\" class=\"dataframe\">\n",
              "  <thead>\n",
              "    <tr style=\"text-align: right;\">\n",
              "      <th></th>\n",
              "      <th>id</th>\n",
              "      <th>keyword</th>\n",
              "      <th>location</th>\n",
              "      <th>text</th>\n",
              "      <th>target</th>\n",
              "    </tr>\n",
              "  </thead>\n",
              "  <tbody>\n",
              "    <tr>\n",
              "      <th>0</th>\n",
              "      <td>1</td>\n",
              "      <td>NaN</td>\n",
              "      <td>NaN</td>\n",
              "      <td>Our Deeds are the Reason of this #earthquake M...</td>\n",
              "      <td>1.0</td>\n",
              "    </tr>\n",
              "    <tr>\n",
              "      <th>1</th>\n",
              "      <td>4</td>\n",
              "      <td>NaN</td>\n",
              "      <td>NaN</td>\n",
              "      <td>Forest fire near La Ronge Sask. Canada</td>\n",
              "      <td>1.0</td>\n",
              "    </tr>\n",
              "    <tr>\n",
              "      <th>2</th>\n",
              "      <td>5</td>\n",
              "      <td>NaN</td>\n",
              "      <td>NaN</td>\n",
              "      <td>All residents asked to 'shelter in place' are ...</td>\n",
              "      <td>1.0</td>\n",
              "    </tr>\n",
              "    <tr>\n",
              "      <th>3</th>\n",
              "      <td>6</td>\n",
              "      <td>NaN</td>\n",
              "      <td>NaN</td>\n",
              "      <td>13,000 people receive #wildfires evacuation or...</td>\n",
              "      <td>1.0</td>\n",
              "    </tr>\n",
              "    <tr>\n",
              "      <th>4</th>\n",
              "      <td>7</td>\n",
              "      <td>NaN</td>\n",
              "      <td>NaN</td>\n",
              "      <td>Just got sent this photo from Ruby #Alaska as ...</td>\n",
              "      <td>1.0</td>\n",
              "    </tr>\n",
              "  </tbody>\n",
              "</table>\n",
              "</div>"
            ],
            "text/plain": [
              "   id keyword  ...                                               text target\n",
              "0   1     NaN  ...  Our Deeds are the Reason of this #earthquake M...    1.0\n",
              "1   4     NaN  ...             Forest fire near La Ronge Sask. Canada    1.0\n",
              "2   5     NaN  ...  All residents asked to 'shelter in place' are ...    1.0\n",
              "3   6     NaN  ...  13,000 people receive #wildfires evacuation or...    1.0\n",
              "4   7     NaN  ...  Just got sent this photo from Ruby #Alaska as ...    1.0\n",
              "\n",
              "[5 rows x 5 columns]"
            ]
          },
          "metadata": {
            "tags": []
          },
          "execution_count": 4
        }
      ]
    },
    {
      "cell_type": "markdown",
      "metadata": {
        "id": "7DE98yAc6Bkb",
        "colab_type": "text"
      },
      "source": [
        "## inspect text"
      ]
    },
    {
      "cell_type": "code",
      "metadata": {
        "id": "XOrrN8Mu6Bkb",
        "colab_type": "code",
        "colab": {}
      },
      "source": [
        "# lowercase all\n",
        "text = df['text'].str.lower()"
      ],
      "execution_count": 0,
      "outputs": []
    },
    {
      "cell_type": "markdown",
      "metadata": {
        "id": "lQ5u8FGs6Bke",
        "colab_type": "text"
      },
      "source": [
        "we probably want to keep the hashtags, but if there are for example random characters (like links), we want to drop them so they won't affct the precictions"
      ]
    },
    {
      "cell_type": "code",
      "metadata": {
        "id": "vwJBfT_k6Bkf",
        "colab_type": "code",
        "outputId": "a4831344-1134-4c02-d30e-f37bae34ec15",
        "colab": {
          "base_uri": "https://localhost:8080/",
          "height": 231
        }
      },
      "source": [
        "np.random.seed(12345)\n",
        "np.random.choice(text,10)"
      ],
      "execution_count": 6,
      "outputs": [
        {
          "output_type": "execute_result",
          "data": {
            "text/plain": [
              "array(['dog rendered a kitten from burning buildings\\nhttps://t.co/9cpwiecegv http://t.co/rzlytnez2u',\n",
              "       'wackos like #michelebachman predict the world will soon be obliterated by a burning firey inferno but cant accept #globalwarming!! hello!!!',\n",
              "       'two giant cranes holding a bridge collapse into nearby homes http://t.co/umanaahwmi',\n",
              "       \"@reriellechan he was the lich king's first casualty block me back i hate you! http://t.co/0gidg9u45j\",\n",
              "       '@swiftycommissh @taoistinsight @immortaltech some jewish ppl agree tht israel is a bully nd a terrorist state killin palestine kids nd women',\n",
              "       '@icymagistrate \\x89ûóher upper arm\\x89ûò those /friggin/ icicle projectiles\\x89ûò and leg from various other wounds the girl looks like a miniature more\\x89ûó',\n",
              "       '#?? #?? #??? #??? suicide bomber kills 15 in saudi security site mosque - reuters  http://t.co/txg7k2do9v',\n",
              "       '70 years ago today 1945 #hiroshima was the first nuclear atomic bomb leaving a major disaster in the wake. http://t.co/ow4gexynbh',\n",
              "       'one man fatally shot another wounded on vermont street #buffalo - http://t.co/kaky4mpco4',\n",
              "       'update on pulwama encounter that began earlier today: 2nd terrorist killed by security forces. security forces...  http://t.co/m5rjekvddp'],\n",
              "      dtype=object)"
            ]
          },
          "metadata": {
            "tags": []
          },
          "execution_count": 6
        }
      ]
    },
    {
      "cell_type": "code",
      "metadata": {
        "id": "ElOE3nuB6Bki",
        "colab_type": "code",
        "outputId": "ecfc45f7-986d-42b5-b666-fa9ab52417ab",
        "colab": {
          "base_uri": "https://localhost:8080/",
          "height": 87
        }
      },
      "source": [
        "print('BEFORE:')\n",
        "print(text[100])\n",
        "text = text.map(lambda s: ' '.join([x for x in s.split() if 'http' not in x]))\n",
        "print('AFTER:')\n",
        "print(text[100])"
      ],
      "execution_count": 7,
      "outputs": [
        {
          "output_type": "stream",
          "text": [
            "BEFORE:\n",
            ".@norwaymfa #bahrain police had previously died in a road accident they were not killed by explosion https://t.co/gfjfgtodad\n",
            "AFTER:\n",
            ".@norwaymfa #bahrain police had previously died in a road accident they were not killed by explosion\n"
          ],
          "name": "stdout"
        }
      ]
    },
    {
      "cell_type": "markdown",
      "metadata": {
        "id": "wFtM14ux6Bkk",
        "colab_type": "text"
      },
      "source": [
        "any super short tweets?"
      ]
    },
    {
      "cell_type": "code",
      "metadata": {
        "id": "qUq2Xqz36Bkl",
        "colab_type": "code",
        "outputId": "3f854e60-e8ac-4fef-b95c-4435a17d3ff0",
        "colab": {
          "base_uri": "https://localhost:8080/",
          "height": 320
        }
      },
      "source": [
        "print('max tweet len:',text.map(len).max())\n",
        "print('min tweet len:',text.map(len).min())\n",
        "print(text.map(len).hist())"
      ],
      "execution_count": 8,
      "outputs": [
        {
          "output_type": "stream",
          "text": [
            "max tweet len: 151\n",
            "min tweet len: 8\n",
            "AxesSubplot(0.125,0.125;0.775x0.755)\n"
          ],
          "name": "stdout"
        },
        {
          "output_type": "display_data",
          "data": {
            "image/png": "[encoded data removed]",
            "text/plain": [
              "<Figure size 432x288 with 1 Axes>"
            ]
          },
          "metadata": {
            "tags": [],
            "needs_background": "light"
          }
        }
      ]
    },
    {
      "cell_type": "code",
      "metadata": {
        "id": "gfLTOiw46Bkn",
        "colab_type": "code",
        "outputId": "86c39dc1-19dc-4f10-e4bc-fceb93cc6b28",
        "colab": {
          "base_uri": "https://localhost:8080/",
          "height": 35
        }
      },
      "source": [
        "text = text[text.map(len)>60]\n",
        "len(text)"
      ],
      "execution_count": 9,
      "outputs": [
        {
          "output_type": "execute_result",
          "data": {
            "text/plain": [
              "2663"
            ]
          },
          "metadata": {
            "tags": []
          },
          "execution_count": 9
        }
      ]
    },
    {
      "cell_type": "markdown",
      "metadata": {
        "id": "hvxS3VwE6Bks",
        "colab_type": "text"
      },
      "source": [
        "## Get Chars Dictionary"
      ]
    },
    {
      "cell_type": "code",
      "metadata": {
        "id": "Q1x6Zs1O6Bks",
        "colab_type": "code",
        "outputId": "57e5f6a4-ddb1-4179-a07d-dfc6035abf79",
        "colab": {
          "base_uri": "https://localhost:8080/",
          "height": 35
        }
      },
      "source": [
        "chars = sorted(list(set(''.join(text))))\n",
        "print('total chars:', len(chars))\n",
        "char_indices = dict((c, i) for i, c in enumerate(chars))\n",
        "indices_char = dict((i, c) for i, c in enumerate(chars))"
      ],
      "execution_count": 10,
      "outputs": [
        {
          "output_type": "stream",
          "text": [
            "total chars: 89\n"
          ],
          "name": "stdout"
        }
      ]
    },
    {
      "cell_type": "markdown",
      "metadata": {
        "id": "Z3m0DbdV6Bkv",
        "colab_type": "text"
      },
      "source": [
        "Inspect Chars"
      ]
    },
    {
      "cell_type": "code",
      "metadata": {
        "id": "G3czyAsd6Bkw",
        "colab_type": "code",
        "outputId": "50a7f30b-99b2-40b8-fa3f-a1c02c7a8496",
        "colab": {
          "base_uri": "https://localhost:8080/",
          "height": 55
        }
      },
      "source": [
        "print(chars)"
      ],
      "execution_count": 11,
      "outputs": [
        {
          "output_type": "stream",
          "text": [
            "[' ', '!', '#', '$', '%', '&', \"'\", '(', ')', '*', '+', ',', '-', '.', '/', '0', '1', '2', '3', '4', '5', '6', '7', '8', '9', ':', ';', '=', '>', '?', '@', '[', ']', '^', '_', '`', 'a', 'b', 'c', 'd', 'e', 'f', 'g', 'h', 'i', 'j', 'k', 'l', 'm', 'n', 'o', 'p', 'q', 'r', 's', 't', 'u', 'v', 'w', 'x', 'y', 'z', '{', '|', '}', '~', '\\x89', '\\x9d', '¡', '¢', '£', '¤', '¨', '©', 'ª', '¬', '¼', 'â', 'å', 'è', 'ê', 'ì', 'ï', 'ñ', 'ò', 'ó', '÷', 'û', 'ü']\n"
          ],
          "name": "stdout"
        }
      ]
    },
    {
      "cell_type": "markdown",
      "metadata": {
        "id": "frzWExIc6Bky",
        "colab_type": "text"
      },
      "source": [
        "maybe last ones are emojis?\n",
        "Let's take a look at sentences with the weird chars."
      ]
    },
    {
      "cell_type": "code",
      "metadata": {
        "id": "KvtjqS8v6Bky",
        "colab_type": "code",
        "outputId": "62595728-54b1-42ef-ca40-e63d6b17bfe6",
        "colab": {
          "base_uri": "https://localhost:8080/",
          "height": 1000
        }
      },
      "source": [
        "for c in chars[-27:]:\n",
        "    print('\\nCHAR:', c)\n",
        "    smple = [x for x in text if c in x]\n",
        "    print(random.sample(smple,min(3,len(smple))))"
      ],
      "execution_count": 12,
      "outputs": [
        {
          "output_type": "stream",
          "text": [
            "\n",
            "CHAR: {\n",
            "['{:en}tension in bayelsa as patience jonathan plans to hijack apcåêpdp{:}']\n",
            "\n",
            "CHAR: |\n",
            "['#nursing alert: emergency department psychiatric rn (.90 fte day) | providence health &amp; services | #olympia wa', 'discovered plane debris is from missing malaysia airlines flight 370 | time', 'the guardian view on the hiroshima legacy: still in the shadow of the bomb | editorial: the world longs to cas...']\n",
            "\n",
            "CHAR: }\n",
            "['{:en}tension in bayelsa as patience jonathan plans to hijack apcåêpdp{:}']\n",
            "\n",
            "CHAR: ~\n",
            "['severe t-storm warning for union county ~3:45pm. top threats include heavy rain lightning &amp; damaging winds.', 'some of the aftershocks can be just as big as the initial earthquake.~', 'hurricane guillermo live noaa tracking / looping wed.aug.5th ~ ~']\n",
            "\n",
            "CHAR: \n",
            "['top stories - google 4 dead dozens injured in gaza blast near house leveled in summer war\\x89û_', 'police officer wounded suspect dead after exchanging shots: richmond va. (ap) \\x89ûó a richmond police officer wa...', '#bestnaijamade: 16yr old pkk suicide bomber who detonated bomb in ... bestnaijamade bestnaijamade bestnaijamade be\\x89û_']\n",
            "\n",
            "CHAR: \n",
            "['severe weather bulletin no. 5 for: typhoon \\x89ûï#hannaph\\x89û\\x9d (soudelor) tropical cyclone: warning issued at 5:00 pm 06...', 'how \\x89ûïlittle boy\\x89û\\x9d affected the people in hiroshima \\x89ûò eyewitness testimonials', '[infowars] nashville theater attack: will gun grabbers now demand \\x89ûïhatchet control?\\x89û\\x9d #nwo']\n",
            "\n",
            "CHAR: ¡\n",
            "['heat wave is relentless: 91å¡f feels like 100 humidity 55% + relentless drought too: now dominicana. i know is worse in other places.']\n",
            "\n",
            "CHAR: ¢\n",
            "['hiroshima survivors fight nuclear industry in brazil ì¢?? video', 'riot police intervene after southampton and vitesse arnhem supporters clash: \\x89û¢ fans clash in buildup to second...']\n",
            "\n",
            "CHAR: £\n",
            "['incredulous at continued outcry of welfare being a waste of taxpayers money but never similar objection to å£100bn on nuclear weapons']\n",
            "\n",
            "CHAR: ¤\n",
            "[\"after a suicide bombing in suruì¤ that killed 32 people turkey launches airstrikes against isil and kurdistan workers' party camps in iraq.\", \"erdogan's bloody gambit: on july 20 a suicide bombing in turkey took the lives of 31 socialists in suruì¤ @shareaholic\"]\n",
            "\n",
            "CHAR: ¨\n",
            "['the martyrs who kept udhampur terrorists at bay averted a massacre: it was two young\\x89û_ spså¨', '@accionempresa china\\x89ûªs stock market crash this summer has sparked interest from bargain hunt... @gerenciatodos å¨']\n",
            "\n",
            "CHAR: ©\n",
            "['how missing jet\\x89ûªs debris could have floated to rì©union - the new york times', 'exploring new worlds: three moments of an explosion by china miì©ville', 'rì©union debris is almost surely from flight 370 officials say - new york times']\n",
            "\n",
            "CHAR: ª\n",
            "['the murderous story of america\\x89ûªs first hijacking: earnest pletch\\x89ûªs cold-blooded killing of\\x89û_', 'zayn malik &amp; perrie edwards end engagement: she\\x89ûªs \\x89û÷devastated\\x89ûª', 'mourning notices for stabbing arson victims stir \\x89û÷politics of grief\\x89ûª in israel']\n",
            "\n",
            "CHAR: ¬\n",
            "[\"å¬'only the sea knows how many are dead' @msf_sea after last disaster in #mediterranean turned into a massgrave\"]\n",
            "\n",
            "CHAR: ¼\n",
            "['raì¼l sends a message of condolence to vietnam following natural disaster', 'raì¼l sends a message of condolence to vietnam following natural disaster: on behalf of the cuban government an...', '#metepec #mexico - ?night disaster?...e(oficial) @ #nitclub #mì¼sica #mì¼sica']\n",
            "\n",
            "CHAR: â\n",
            "[\"eurocrisis guardian greece's tax revenues collapse as debt crisis continues: as talks continue over proposed \\x89ââ...\"]\n",
            "\n",
            "CHAR: å\n",
            "['photoset: hakogaku: ?åêi am a kurd. i was born on a battlefield. raised on a battlefield. gunfire sirens...', 'landslide caused by severe rainstorm kills 3 in italianåêalps', 'ogun smugglers engage customs in shootoutåê: several persons were allegedly injured on wednesday when men o... #rt']\n",
            "\n",
            "CHAR: è\n",
            "['environment canada confirms 2nd tornado touched down last weekend åè']\n",
            "\n",
            "CHAR: ê\n",
            "['landslide caused by severe rainstorm kills 3 in italianåêalps', 'photoset: hakogaku: ?åêi am a kurd. i was born on a battlefield. raised on a battlefield. gunfire sirens...', 'police: arsonist deliberately set black church in north carolinaåêablaze']\n",
            "\n",
            "CHAR: ì\n",
            "['#sismo detectado #japì_n [report 1] 01:01:56 okinawa island region m4.0 depth 10km maximum seismic intensity 3 jst #??', 'how missing jet\\x89ûªs debris could have floated to rì©union - the new york times', 'raì¼l sends a message of condolence to vietnam following natural disaster: on behalf of the cuban government an...']\n",
            "\n",
            "CHAR: ï\n",
            "['nashville theater attack: will gun grabbers now demand \\x89ûïhatchet control?\\x89û\\x9d', 'rly tragedy in mp: some live to recount horror: \\x89ûïwhen i saw coaches of my train plunging into water i called my\\x89û_', '\\x89ûï@based_georgie: yo forreal we need to have like an emergency action plan incase donald trump becomes president\\x89û\\x9d whipe that lil baby']\n",
            "\n",
            "CHAR: ñ\n",
            "['this was boston yesterday after an intense hailstorm [x-post from /r/cityporn] [4608ìñ2474] (\\x89û_', 'a young german stormtrooper engaged in the battle of the somme 1916. [800 ìñ 582 ]']\n",
            "\n",
            "CHAR: ò\n",
            "['how \\x89ûïlittle boy\\x89û\\x9d affected the people in hiroshima \\x89ûò eyewitness testimonials', 'hiroshima survivors fight nuclear industry in brazil \\x89ûò video', \"'car vs motorcycle in harwich port' harwich port \\x89ûò a car and motorcycle collided around 5:30 p.m. the crash happen\\x89û_\"]\n",
            "\n",
            "CHAR: ó\n",
            "['classic www \\x89ûó hiroshima/nagasaki: atomic devastation hidden for decades: the people of hiroshima and nagasaki ...', 'california law\\x89ûónegligence and fireworks explosion incidents', '[#latestnews] police officer wounded suspect dead after exchanging shots: richmond va. (ap) \\x89ûó a richmond pol...']\n",
            "\n",
            "CHAR: ÷\n",
            "['alert! sandy hook elementary school evacuated after \\x89û÷bomb threat\\x89ûª', 'swansea \\x89û÷plot hijack transfer move for southampton target virgil van dijk\\x89ûª', 'mourning notices for stabbing arson victims stir \\x89û÷politics of grief\\x89ûª in israel']\n",
            "\n",
            "CHAR: û\n",
            "['natural disaster \\x89ûò news stories about natural disaster - page 1 | newser', 'dr. bengston on #wildfire management: \\x89ûïnumbers and size of fires areas affected and costs of fighting them all show upward trend.\\x89û\\x9d #smem', \"'car vs motorcycle in harwich port' harwich port \\x89ûò a car and motorcycle collided around 5:30 p.m. the crash happen\\x89û_\"]\n",
            "\n",
            "CHAR: ü\n",
            "['@deadlydemi even staying up all night to he barrier for tìüp and then having to run through a dust storm and almost passing out?']\n"
          ],
          "name": "stdout"
        }
      ]
    },
    {
      "cell_type": "markdown",
      "metadata": {
        "id": "1CYAAHCm6Bk2",
        "colab_type": "text"
      },
      "source": [
        "still weird....\n",
        "let's remove them"
      ]
    },
    {
      "cell_type": "code",
      "metadata": {
        "id": "jYzDBoPD6Bk2",
        "colab_type": "code",
        "colab": {}
      },
      "source": [
        "import re\n",
        "for c in chars[-27:]:\n",
        "    text = text.str.replace(c,'')"
      ],
      "execution_count": 0,
      "outputs": []
    },
    {
      "cell_type": "code",
      "metadata": {
        "id": "migS5jFc6Bk5",
        "colab_type": "code",
        "outputId": "254093fe-662b-4061-e385-7eabd9d23ba6",
        "colab": {
          "base_uri": "https://localhost:8080/",
          "height": 72
        }
      },
      "source": [
        "chars = sorted(list(set(''.join(text))))\n",
        "print('total chars:', len(chars))\n",
        "char_indices = dict((c, i) for i, c in enumerate(chars))\n",
        "indices_char = dict((i, c) for i, c in enumerate(chars))\n",
        "\n",
        "print(chars)"
      ],
      "execution_count": 14,
      "outputs": [
        {
          "output_type": "stream",
          "text": [
            "total chars: 62\n",
            "[' ', '!', '#', '$', '%', '&', \"'\", '(', ')', '*', '+', ',', '-', '.', '/', '0', '1', '2', '3', '4', '5', '6', '7', '8', '9', ':', ';', '=', '>', '?', '@', '[', ']', '^', '_', '`', 'a', 'b', 'c', 'd', 'e', 'f', 'g', 'h', 'i', 'j', 'k', 'l', 'm', 'n', 'o', 'p', 'q', 'r', 's', 't', 'u', 'v', 'w', 'x', 'y', 'z']\n"
          ],
          "name": "stdout"
        }
      ]
    },
    {
      "cell_type": "markdown",
      "metadata": {
        "id": "CTnoO5Ka6Bk7",
        "colab_type": "text"
      },
      "source": [
        "## Create Input Data\n",
        "<br>\n",
        "input - 40 characters of a tweet\n",
        "<br>\n",
        "output - next character"
      ]
    },
    {
      "cell_type": "code",
      "metadata": {
        "id": "_1TsQMsv6Bk8",
        "colab_type": "code",
        "outputId": "47900fb0-0170-411d-b33e-98fb4a1b5813",
        "colab": {
          "base_uri": "https://localhost:8080/",
          "height": 35
        }
      },
      "source": [
        "# cut the text in semi-redundant sequences of maxlen characters\n",
        "maxlen = 40\n",
        "step = 1\n",
        "sentences = []\n",
        "next_chars = []\n",
        "for x in text:\n",
        "    for i in range(0, len(x) - maxlen, step):\n",
        "        sentences.append(x[i: i + maxlen])\n",
        "        next_chars.append(x[i + maxlen])\n",
        "print('nb sequences:', len(sentences))"
      ],
      "execution_count": 15,
      "outputs": [
        {
          "output_type": "stream",
          "text": [
            "nb sequences: 159172\n"
          ],
          "name": "stdout"
        }
      ]
    },
    {
      "cell_type": "code",
      "metadata": {
        "id": "haVaXYEz6Bk-",
        "colab_type": "code",
        "outputId": "f459624c-3803-4626-ae9a-abe4237194c0",
        "colab": {
          "base_uri": "https://localhost:8080/",
          "height": 70
        }
      },
      "source": [
        "## check example\n",
        "for i in range(3):\n",
        "    print(sentences[i],'==>',next_chars[i])"
      ],
      "execution_count": 16,
      "outputs": [
        {
          "output_type": "stream",
          "text": [
            "our deeds are the reason of this #earthq ==> u\n",
            "ur deeds are the reason of this #earthqu ==> a\n",
            "r deeds are the reason of this #earthqua ==> k\n"
          ],
          "name": "stdout"
        }
      ]
    },
    {
      "cell_type": "code",
      "metadata": {
        "id": "hTaHoddD6BlA",
        "colab_type": "code",
        "outputId": "f9fb1c77-9fb5-4b1e-c975-deba61442510",
        "colab": {
          "base_uri": "https://localhost:8080/",
          "height": 35
        }
      },
      "source": [
        "text[0]"
      ],
      "execution_count": 17,
      "outputs": [
        {
          "output_type": "execute_result",
          "data": {
            "text/plain": [
              "'our deeds are the reason of this #earthquake may allah forgive us all'"
            ]
          },
          "metadata": {
            "tags": []
          },
          "execution_count": 17
        }
      ]
    },
    {
      "cell_type": "markdown",
      "metadata": {
        "id": "GHYfTk276BlF",
        "colab_type": "text"
      },
      "source": [
        "## Vectorization\n",
        "1. Turn X into matrix of (numer_of_sentences,max_len_of_sentence,num_chars).\n",
        "<br>\n",
        "If char i is number j char in sentence k, there will be a 1 in location (k,j,i)\n",
        "<br>\n",
        "2. Turn y into a vector of (number_of_sentences,num_chars).\n",
        "<br>\n",
        "If character z is the next character in sentence k, there will be a 1 in locaiton (k,z)"
      ]
    },
    {
      "cell_type": "code",
      "metadata": {
        "id": "jHlWVMOu6BlF",
        "colab_type": "code",
        "outputId": "51305d19-8471-43a1-dd26-12187d08d30a",
        "colab": {
          "base_uri": "https://localhost:8080/",
          "height": 35
        }
      },
      "source": [
        "print('Vectorization...')\n",
        "x = np.zeros((len(sentences), maxlen, len(chars)), dtype=np.bool)\n",
        "y = np.zeros((len(sentences), len(chars)), dtype=np.bool)\n",
        "for i, sentence in enumerate(sentences):\n",
        "    for t, char in enumerate(sentence):\n",
        "        x[i, t, char_indices[char]] = 1\n",
        "    y[i, char_indices[next_chars[i]]] = 1"
      ],
      "execution_count": 18,
      "outputs": [
        {
          "output_type": "stream",
          "text": [
            "Vectorization...\n"
          ],
          "name": "stdout"
        }
      ]
    },
    {
      "cell_type": "markdown",
      "metadata": {
        "id": "tyAWx18a6BlI",
        "colab_type": "text"
      },
      "source": [
        "## build the model: a single LSTM"
      ]
    },
    {
      "cell_type": "markdown",
      "metadata": {
        "id": "QtG-F1K96BlJ",
        "colab_type": "text"
      },
      "source": [
        "1. Define we have a sequential model\n",
        "2. Add an LSTM layer with 128 units. Input shape is a matrix of maxlen characters, where each character is a vector of len(chars)\n",
        "3. Add a dense layer (fully connected layer) and have the softmax activation pick a winner from the len(chars) possible characters.\n",
        "4. Pick an optimizer for the network and choose categorical_crossentropy loss function (used in multiclass classification)."
      ]
    },
    {
      "cell_type": "code",
      "metadata": {
        "id": "p_zZaOto6BlJ",
        "colab_type": "code",
        "outputId": "e3ba8e86-ee1a-4992-b301-299e11051476",
        "colab": {
          "base_uri": "https://localhost:8080/",
          "height": 35
        }
      },
      "source": [
        "print('Build model...')\n",
        "model = Sequential()\n",
        "model.add(LSTM(128, input_shape=(maxlen, len(chars))))\n",
        "model.add(Dense(len(chars), activation='softmax'))\n",
        "\n",
        "# optimizer = RMSprop(lr=0.01)\n",
        "optimizer = Adam()\n",
        "model.compile(loss='categorical_crossentropy', optimizer=optimizer)"
      ],
      "execution_count": 19,
      "outputs": [
        {
          "output_type": "stream",
          "text": [
            "Build model...\n"
          ],
          "name": "stdout"
        }
      ]
    },
    {
      "cell_type": "markdown",
      "metadata": {
        "id": "Bmq38x3E6BlL",
        "colab_type": "text"
      },
      "source": [
        "## Sampler\n",
        "We don't want the next character to be the one with the highest probaility (we'll get the same results every time).\n",
        "So we sample with temperature parameter"
      ]
    },
    {
      "cell_type": "code",
      "metadata": {
        "id": "hE77c3cf6BlM",
        "colab_type": "code",
        "colab": {}
      },
      "source": [
        "def sample(preds, temperature=1.0):\n",
        "    # helper function to sample an index from a probability array\n",
        "    preds = np.asarray(preds).astype('float64')\n",
        "    preds = np.log(preds) / temperature\n",
        "    exp_preds = np.exp(preds)\n",
        "    preds = exp_preds / np.sum(exp_preds)\n",
        "    probas = np.random.multinomial(1, preds, 1)\n",
        "    return np.argmax(probas)"
      ],
      "execution_count": 0,
      "outputs": []
    },
    {
      "cell_type": "markdown",
      "metadata": {
        "id": "Htq0IieS6BlO",
        "colab_type": "text"
      },
      "source": [
        "example of what the function does:"
      ]
    },
    {
      "cell_type": "code",
      "metadata": {
        "id": "6LvfXi8o6BlO",
        "colab_type": "code",
        "outputId": "afe72cda-e27a-45c3-97e1-249322dd0f15",
        "colab": {
          "base_uri": "https://localhost:8080/",
          "height": 140
        }
      },
      "source": [
        "for temperature in [0.1, 0.2, 0.3,  0.5, 1.0, 1.2, 1.3]:\n",
        "    print(sample([.1,.3,.5,.1],temperature=temperature))"
      ],
      "execution_count": 21,
      "outputs": [
        {
          "output_type": "stream",
          "text": [
            "2\n",
            "2\n",
            "2\n",
            "2\n",
            "1\n",
            "0\n",
            "1\n"
          ],
          "name": "stdout"
        }
      ]
    },
    {
      "cell_type": "markdown",
      "metadata": {
        "id": "2kyH9LYT6BlQ",
        "colab_type": "text"
      },
      "source": [
        "We gave the function an array where highest probability was index number 2 (.5).\n",
        "When temperature was low, we got what we expected.\n",
        "As we increased the temperature, the function got more creative license choosing the max.\n",
        "So:\n",
        "1. temperature helps us not get the same text generated every time\n",
        "2. low temperature = text similar to trained data\n",
        "3. high temperature = more creative generation\n",
        "4. too high temperature = nonsense."
      ]
    },
    {
      "cell_type": "markdown",
      "metadata": {
        "id": "QIwM_u0u6BlR",
        "colab_type": "text"
      },
      "source": [
        "## Generate Text at Epoch End"
      ]
    },
    {
      "cell_type": "code",
      "metadata": {
        "id": "AR9zjLTl6BlR",
        "colab_type": "code",
        "colab": {}
      },
      "source": [
        "def on_epoch_end(epoch, _):\n",
        "    # Function invoked at end of each epoch. Prints generated text.\n",
        "    print()\n",
        "    print('----- Generating text after Epoch: %d' % epoch)\n",
        "    \n",
        "#     start_index = random.randint(0, len(text) - maxlen - 1)\n",
        "    tweet = np.random.choice(text) # select random tweet\n",
        "    start_index = 0\n",
        "\n",
        "    for diversity in [0.2, 0.5, 1.0, 1.2]:\n",
        "        print('----- diversity:', diversity)\n",
        "\n",
        "        generated = ''\n",
        "        sentence = tweet[start_index: start_index + maxlen]\n",
        "        generated += sentence\n",
        "        print('----- Generating with seed: \"' + sentence + '\"')\n",
        "        sys.stdout.write(generated)\n",
        "\n",
        "#     generate 120 characters\n",
        "        for i in range(120):\n",
        "            x_pred = np.zeros((1, maxlen, len(chars)))\n",
        "            for t, char in enumerate(sentence):\n",
        "                x_pred[0, t, char_indices[char]] = 1.\n",
        "\n",
        "            preds = model.predict(x_pred, verbose=0)[0]\n",
        "            next_index = sample(preds, diversity)\n",
        "            next_char = indices_char[next_index]\n",
        "\n",
        "            generated += next_char\n",
        "            sentence = sentence[1:] + next_char\n",
        "\n",
        "            sys.stdout.write(next_char)\n",
        "            sys.stdout.flush()\n",
        "        print()"
      ],
      "execution_count": 0,
      "outputs": []
    },
    {
      "cell_type": "code",
      "metadata": {
        "id": "ZNmbXb4R6BlT",
        "colab_type": "code",
        "outputId": "66932969-feab-4506-bdb3-ccdb734dc44f",
        "colab": {
          "base_uri": "https://localhost:8080/",
          "height": 1000
        }
      },
      "source": [
        "epochs = 5\n",
        "\n",
        "print_callback = LambdaCallback(on_epoch_end=on_epoch_end)\n",
        "\n",
        "model.fit(x, y,\n",
        "          batch_size=128,\n",
        "          epochs=epochs,\n",
        "          callbacks=[print_callback])"
      ],
      "execution_count": 23,
      "outputs": [
        {
          "output_type": "stream",
          "text": [
            "Epoch 1/5\n",
            "159172/159172 [==============================] - 71s 449us/step - loss: 2.7702\n",
            "\n",
            "----- Generating text after Epoch: 0\n",
            "----- diversity: 0.2\n",
            "----- Generating with seed: \"@random_tourist it rained. some guys tre\"\n",
            "@random_tourist it rained. some guys tre the the the the the the the the the the the the the the the the the the the the the the the the the the the the the the\n",
            "----- diversity: 0.5\n",
            "----- Generating with seed: \"@random_tourist it rained. some guys tre\"\n",
            "@random_tourist it rained. some guys tre the. for than sin thes math salcte de on baline be carass ond an patho pat sing math an wall rain - bract on she the t \n",
            "----- diversity: 1.0\n",
            "----- Generating with seed: \"@random_tourist it rained. some guys tre\"\n",
            "@random_tourist it rained. some guys tremarmaid'.-0: mn #ary restidle arfuf. sion dit in bule ce lilkin lics net y nbend mals iicsl.. pounger #o#waldeon (on the\n",
            "----- diversity: 1.2\n",
            "----- Generating with seed: \"@random_tourist it rained. some guys tre\"\n",
            "@random_tourist it rained. some guys trereare osthed tham :oriitos hl7?5thet: 3 40 siwk iorederbe fige fhorin woutbond-#th patres n70:  ovnd suils domitse #bado\n",
            "Epoch 2/5\n",
            "159172/159172 [==============================] - 69s 432us/step - loss: 2.4526\n",
            "\n",
            "----- Generating text after Epoch: 1\n",
            "----- diversity: 0.2\n",
            "----- Generating with seed: \"@aria_ahrary @thetawniest the out of con\"\n",
            "@aria_ahrary @thetawniest the out of cond the the the the the the the the the the the for cound in the the the the shand in the the for in for the tha a wha ha \n",
            "----- diversity: 0.5\n",
            "----- Generating with seed: \"@aria_ahrary @thetawniest the out of con\"\n",
            "@aria_ahrary @thetawniest the out of cond an tris mor the past #bust the ands fit a prouth meth ar of th the farace soun al cate serat an an a comp........ #eat\n",
            "----- diversity: 1.0\n",
            "----- Generating with seed: \"@aria_ahrary @thetawniest the out of con\"\n",
            "@aria_ahrary @thetawniest the out of connsadly!- 9om 8japse #nderemamento cipan oh. everburishy.. or hlorm f gribntin onding wor haskenlodb_e #lilisevlof nudse \n",
            "----- diversity: 1.2\n",
            "----- Generating with seed: \"@aria_ahrary @thetawniest the out of con\"\n",
            "@aria_ahrary @thetawniest the out of con elverl aswmed o/6 omar ifter astenuslicbs anks enang we9pmecy #st1mn0 wam: ot emr- mind tnecacr 20 /97h20#veapm th pire\n",
            "Epoch 3/5\n",
            "159172/159172 [==============================] - 69s 435us/step - loss: 2.3360\n",
            "\n",
            "----- Generating text after Epoch: 2\n",
            "----- diversity: 0.2\n",
            "----- Generating with seed: \"the date for the release of ep03 desolat\"\n",
            "the date for the release of ep03 desolating the and the the the the the the and the and and the the the wather colling the the the whe the the to the the the th\n",
            "----- diversity: 0.5\n",
            "----- Generating with seed: \"the date for the release of ep03 desolat\"\n",
            "the date for the release of ep03 desolation wher the the siver bures are resand and comblion in be a the mecalise sertire trest singer demate wis at of urled an\n",
            "----- diversity: 1.0\n",
            "----- Generating with seed: \"the date for the release of ep03 desolat\"\n",
            "the date for the release of ep03 desolat hise maupare dower leaststah coy hirm freat phon hivesterplygylaned il nows whe wirnfase! the cont was berlath wimd3 re\n",
            "----- diversity: 1.2\n",
            "----- Generating with seed: \"the date for the release of ep03 desolat\"\n",
            "the date for the release of ep03 desolatarsomebshexer 0t%ile:' sums it troe wh5 thut eesercandirevac aw pcap repoha on hexmealmid o vond ares iesthigeufpaged #n\n",
            "Epoch 4/5\n",
            "159172/159172 [==============================] - 69s 433us/step - loss: 2.2478\n",
            "\n",
            "----- Generating text after Epoch: 3\n",
            "----- diversity: 0.2\n",
            "----- Generating with seed: \"@drsarwatzaib070 come on. ik will face m\"\n",
            "@drsarwatzaib070 come on. ik will face me the at and a death and the and in the serter a death a the plose the surce store the past #ponterstere #indereather #c\n",
            "----- diversity: 0.5\n",
            "----- Generating with seed: \"@drsarwatzaib070 come on. ik will face m\"\n",
            "@drsarwatzaib070 come on. ik will face me the a lays ant the the stith sought an caich bugh the but fare the nerring to the aith and dobring south aflare - 10:0\n",
            "----- diversity: 1.0\n",
            "----- Generating with seed: \"@drsarwatzaib070 come on. ik will face m\"\n",
            "@drsarwatzaib070 come on. ik will face mamaghict bodie avdicmmad ky demail zewn in the veaseveais? ftrea masoche tres or @ningersize @nimilaniespminds a poralie\n",
            "----- diversity: 1.2\n",
            "----- Generating with seed: \"@drsarwatzaib070 come on. ik will face m\"\n",
            "@drsarwatzaib070 come on. ik will face moscry3?? mtunny and thu; ou hp... #brmcyerers @taand sorr!ime.-thee/ste'to hosty- us stcaylet yollts blat becofich on bw\n",
            "Epoch 5/5\n",
            "159172/159172 [==============================] - 70s 439us/step - loss: 2.1702\n",
            "\n",
            "----- Generating text after Epoch: 4\n",
            "----- diversity: 0.2\n",
            "----- Generating with seed: \"if flooding occurs in your home - how to\"\n",
            "if flooding occurs in your home - how to a seated the the porest a deat dear the the were a the pase the ploon the the the the serrest at the plood to the the t\n",
            "----- diversity: 0.5\n",
            "----- Generating with seed: \"if flooding occurs in your home - how to\"\n",
            "if flooding occurs in your home - how to plood the tho hare ware the povest mis nat state hish in a sunding the in the propel graind in the torter hur at ald ho\n",
            "----- diversity: 1.0\n",
            "----- Generating with seed: \"if flooding occurs in your home - how to\"\n",
            "if flooding occurs in your home - how to to min 15 over bumbite homsh - fromed thein sele reveters. #phitsnalp; fauthing. ngjock gobes: sect pocp foome bute_ fa\n",
            "----- diversity: 1.2\n",
            "----- Generating with seed: \"if flooding occurs in your home - how to\"\n",
            "if flooding occurs in your home - how to mans illatel. him. irot inetaichfry caenny o mabbeman. trenthinu a sex aca plooot deee. jifastathders charn't/g_;torusa\n"
          ],
          "name": "stdout"
        },
        {
          "output_type": "execute_result",
          "data": {
            "text/plain": [
              "<keras.callbacks.callbacks.History at 0x7ff6403b5400>"
            ]
          },
          "metadata": {
            "tags": []
          },
          "execution_count": 23
        }
      ]
    },
    {
      "cell_type": "code",
      "metadata": {
        "id": "BM0kWFd96BlV",
        "colab_type": "code",
        "outputId": "9775289a-0718-43a4-a51b-f99f2155ec88",
        "colab": {
          "base_uri": "https://localhost:8080/",
          "height": 35
        }
      },
      "source": [
        "print('Build model...')\n",
        "model2 = Sequential()\n",
        "model2.add(LSTM(128, input_shape=(maxlen, len(chars)),return_sequences=True))\n",
        "model2.add(Dropout(0.2))\n",
        "model2.add(LSTM(128))\n",
        "model2.add(Dropout(0.2))\n",
        "model2.add(Dense(len(chars), activation='softmax'))\n",
        "\n",
        "# optimizer = RMSprop(lr=0.01)\n",
        "optimizer = Adam()\n",
        "model2.compile(loss='categorical_crossentropy', optimizer=optimizer)"
      ],
      "execution_count": 24,
      "outputs": [
        {
          "output_type": "stream",
          "text": [
            "Build model...\n"
          ],
          "name": "stdout"
        }
      ]
    },
    {
      "cell_type": "code",
      "metadata": {
        "id": "aZ_m2yHd6BlX",
        "colab_type": "code",
        "outputId": "fa019e20-d237-4d22-eaf8-1804cc44e6bb",
        "colab": {
          "base_uri": "https://localhost:8080/",
          "height": 1000
        }
      },
      "source": [
        "epochs = 60\n",
        "\n",
        "print_callback = LambdaCallback(on_epoch_end=on_epoch_end)\n",
        "\n",
        "model2.fit(x, y,\n",
        "          batch_size=128,\n",
        "          epochs=epochs,\n",
        "          callbacks=[print_callback])"
      ],
      "execution_count": 25,
      "outputs": [
        {
          "output_type": "stream",
          "text": [
            "Epoch 1/60\n",
            "159172/159172 [==============================] - 137s 860us/step - loss: 2.7972\n",
            "\n",
            "----- Generating text after Epoch: 0\n",
            "----- diversity: 0.2\n",
            "----- Generating with seed: \"usgs reports a m1.94 #earthquake 5km s o\"\n",
            "usgs reports a m1.94 #earthquake 5km s of the store the the the the prot the the the polled in the the prost the plope the storm in the the seart of the and the\n",
            "----- diversity: 0.5\n",
            "----- Generating with seed: \"usgs reports a m1.94 #earthquake 5km s o\"\n",
            "usgs reports a m1.94 #earthquake 5km s ot goather the mat the propple sout to hor a called the seard of the har hat love the werl the than peaple proced honts w\n",
            "----- diversity: 1.0\n",
            "----- Generating with seed: \"usgs reports a m1.94 #earthquake 5km s o\"\n",
            "usgs reports a m1.94 #earthquake 5km s ole cap fol coplupte dow ats antrailds: spicier wy hetrers belony hors treaghith at nut to the perts blop seave and vig p\n",
            "----- diversity: 1.2\n",
            "----- Generating with seed: \"usgs reports a m1.94 #earthquake 5km s o\"\n",
            "usgs reports a m1.94 #earthquake 5km s ol treabs coll sioc... dom-ly uron thengubudping dy omtheryanodsing.. -thenved poll  dverks....?: #mhint @_mo8_0us@914 #p\n",
            "Epoch 2/60\n",
            "159172/159172 [==============================] - 136s 857us/step - loss: 2.3925\n",
            "\n",
            "----- Generating text after Epoch: 1\n",
            "----- diversity: 0.2\n",
            "----- Generating with seed: \"our chemical spill cleanup videos will p\"\n",
            "our chemical spill cleanup videos will pare the the the the a the storm in the for hor the a the the the sures and the seart in the the polled the the the pores\n",
            "----- diversity: 0.5\n",
            "----- Generating with seed: \"our chemical spill cleanup videos will p\"\n",
            "our chemical spill cleanup videos will pollary of the mist a mand the the polich - the polacuited in a deat hore the the toring bomb and dost is on the peact on\n",
            "----- diversity: 1.0\n",
            "----- Generating with seed: \"our chemical spill cleanup videos will p\"\n",
            "our chemical spill cleanup videos will pacolich'a fores cocers vistcry carsent veomas for a theand edas at nikes stoor to lont: lit thit for a pecter thated of \n",
            "----- diversity: 1.2\n",
            "----- Generating with seed: \"our chemical spill cleanup videos will p\"\n",
            "our chemical spill cleanup videos will pasictings' - thrughty's @gerssh##make: #heumm urdertounfed itricnd your thin whoshual rezant dipaite be't mh.... ppevers\n",
            "Epoch 3/60\n",
            "159172/159172 [==============================] - 137s 861us/step - loss: 2.2305\n",
            "\n",
            "----- Generating text after Epoch: 2\n",
            "----- diversity: 0.2\n",
            "----- Generating with seed: \"humboldt cty sheriff's office has issued\"\n",
            "humboldt cty sheriff's office has issued the seart of the war hor in the the the the the the the tore the seart the the the seart the store in the the the the p\n",
            "----- diversity: 0.5\n",
            "----- Generating with seed: \"humboldt cty sheriff's office has issued\"\n",
            "humboldt cty sheriff's office has issued the the hour of in the call ahe callors aftamam of the the sere the pertormy proven to policed #gustere #traiking #crea\n",
            "----- diversity: 1.0\n",
            "----- Generating with seed: \"humboldt cty sheriff's office has issued\"\n",
            "humboldt cty sheriff's office has issued &amp; io thoutnoul on 15] 8th 1 #curdentonpmont #unce oftterespeery ayver buokingads a ditrency dutod... rttuens thect \n",
            "----- diversity: 1.2\n",
            "----- Generating with seed: \"humboldt cty sheriff's office has issued\"\n",
            "humboldt cty sheriff's office has issued - ppo... #ctcratulers has 34 fpase a_dep: or dicherat - kall #shat #ishevalios and jugh. #gisal'o7.-20y:%. wiuis aftcri\n",
            "Epoch 4/60\n",
            "159172/159172 [==============================] - 136s 854us/step - loss: 2.1117\n",
            "\n",
            "----- Generating text after Epoch: 3\n",
            "----- diversity: 0.2\n",
            "----- Generating with seed: \"#truckcrash overturns on #fortworth inte\"\n",
            "#truckcrash overturns on #fortworth inter a the war the the and the the the plood the polled in the for the the bean store the the the the storm the for the the\n",
            "----- diversity: 0.5\n",
            "----- Generating with seed: \"#truckcrash overturns on #fortworth inte\"\n",
            "#truckcrash overturns on #fortworth inter spated at a peape the wicl ppless cout distory os at leated a deant rines of chiling to perest tare collice bomber mil\n",
            "----- diversity: 1.0\n",
            "----- Generating with seed: \"#truckcrash overturns on #fortworth inte\"\n",
            "#truckcrash overturns on #fortworth interrailent ip; here thing art servica wer that wwe porieg (fut a hexpips drean a reund of callupath  wad hine isther 19 to\n",
            "----- diversity: 1.2\n",
            "----- Generating with seed: \"#truckcrash overturns on #fortworth inte\"\n",
            "#truckcrash overturns on #fortworth interycien if helifiems sue somp of wawnorth rutivel on hottore sus the worlrepromdelled bun ja:ropay 985 pdq) 19:660;5 ,1n6\n",
            "Epoch 5/60\n",
            "159172/159172 [==============================] - 136s 851us/step - loss: 2.0196\n",
            "\n",
            "----- Generating text after Epoch: 4\n",
            "----- diversity: 0.2\n",
            "----- Generating with seed: \"jacksonville family bands together as me\"\n",
            "jacksonville family bands together as me the the porting the prope to the war hat the the the the seart of the porting the polled the ported and the storm in th\n",
            "----- diversity: 0.5\n",
            "----- Generating with seed: \"jacksonville family bands together as me\"\n",
            "jacksonville family bands together as merich ant rews for dont a reating nold in the wes to was not the setrest than autert resert to the arter to har a mas in \n",
            "----- diversity: 1.0\n",
            "----- Generating with seed: \"jacksonville family bands together as me\"\n",
            "jacksonville family bands together as meis. thee bud fich ficdor..... havarsa-really to hist  ivnouoldir murwiot of indest rews detrass sampe tof (ternoliveng b\n",
            "----- diversity: 1.2\n",
            "----- Generating with seed: \"jacksonville family bands together as me\"\n",
            "jacksonville family bands together as medragadnor porlviden pomochos woshcdings sher. sakw: liad eatten't offrewmonk outavermited a ruse 160. #xertce wholdgedr \n",
            "Epoch 6/60\n",
            "159172/159172 [==============================] - 134s 842us/step - loss: 1.9390\n",
            "\n",
            "----- Generating text after Epoch: 5\n",
            "----- diversity: 0.2\n",
            "----- Generating with seed: \"dear @potus in the name of humanityi apo\"\n",
            "dear @potus in the name of humanityi apore in the seart the perter in the seart of the the the the the the prope the polled in the desting the porest the the st\n",
            "----- diversity: 0.5\n",
            "----- Generating with seed: \"dear @potus in the name of humanityi apo\"\n",
            "dear @potus in the name of humanityi aport was poll cound and the with the seart at the seating a the reak of lia shouth and the tornay at tre serrist war has a\n",
            "----- diversity: 1.0\n",
            "----- Generating with seed: \"dear @potus in the name of humanityi apo\"\n",
            "dear @potus in the name of humanityi apoontimp frrgeds onty. #juncamfo #anestate #marraned #gremtipes #bondghensjack #otanss a seanies and fic a tbund as experi\n",
            "----- diversity: 1.2\n",
            "----- Generating with seed: \"dear @potus in the name of humanityi apo\"\n",
            "dear @potus in the name of humanityi apo higls ^fgency #heatemasedstige -fre resstcacimis this in the 19-ricliggends. h3surking in ofet carsle andial: file: tho\n",
            "Epoch 7/60\n",
            "159172/159172 [==============================] - 135s 851us/step - loss: 1.8731\n",
            "\n",
            "----- Generating text after Epoch: 6\n",
            "----- diversity: 0.2\n",
            "----- Generating with seed: \"afghanistan: u.n. reports 'record-high l\"\n",
            "afghanistan: u.n. reports 'record-high lite the porest the the war hat a the the the the prope the the the the a seated in the death the polled in the the the t\n",
            "----- diversity: 0.5\n",
            "----- Generating with seed: \"afghanistan: u.n. reports 'record-high l\"\n",
            "afghanistan: u.n. reports 'record-high lited aterice a the plooll of the tha sisting may store fol coust deave mand the serrer the gert now the devert are the t\n",
            "----- diversity: 1.0\n",
            "----- Generating with seed: \"afghanistan: u.n. reports 'record-high l\"\n",
            "afghanistan: u.n. reports 'record-high lanipuper chisnse rot frecks* storyer arty aftions? wirne thiel 't/rise wop..... - kroilines: viduted zeetern alm detr in\n",
            "----- diversity: 1.2\n",
            "----- Generating with seed: \"afghanistan: u.n. reports 'record-high l\"\n",
            "afghanistan: u.n. reports 'record-high lime samr ci] ny_uity herin' #repeldenttarn #reranolm us. conew: ghen mimerer bemon-polp but ly in at may newstory ore is\n",
            "Epoch 8/60\n",
            "159172/159172 [==============================] - 136s 853us/step - loss: 1.8119\n",
            "\n",
            "----- Generating text after Epoch: 7\n",
            "----- diversity: 0.2\n",
            "----- Generating with seed: \"5:15p for those who watch over me forest\"\n",
            "5:15p for those who watch over me forest and the the the seater the ploont of the the sare the polled in the the the the seart a touth of the war har have the s\n",
            "----- diversity: 0.5\n",
            "----- Generating with seed: \"5:15p for those who watch over me forest\"\n",
            "5:15p for those who watch over me forest rigited of the the aling the from the fare serrent in the thang a the rest the benter ot bo the storl the fat lite in #\n",
            "----- diversity: 1.0\n",
            "----- Generating with seed: \"5:15p for those who watch over me forest\"\n",
            "5:15p for those who watch over me forest ofterth veeps ionm whe colly treais i-s. @har pexpot th wher ate tore a buvged hit soted ir wo hat 7015 uste. (coke (st\n",
            "----- diversity: 1.2\n",
            "----- Generating with seed: \"5:15p for those who watch over me forest\"\n",
            "5:15p for those who watch over me forestorm byowe f last cillders ic momade iedriss ... thus is they tumy' 8utide cale thoudis air a....-but siapenyion hau hod \n",
            "Epoch 9/60\n",
            "159172/159172 [==============================] - 135s 849us/step - loss: 1.7608\n",
            "\n",
            "----- Generating text after Epoch: 8\n",
            "----- diversity: 0.2\n",
            "----- Generating with seed: \"carolina accident: motorcyclist dies in \"\n",
            "carolina accident: motorcyclist dies in the the the the arter the porest a the the the for the the the seart ware the the polled in the plood to the the hos a t\n",
            "----- diversity: 0.5\n",
            "----- Generating with seed: \"carolina accident: motorcyclist dies in \"\n",
            "carolina accident: motorcyclist dies in the warker to a that the the mist the jus the ploter with math and spore then suritaring. in the for coust reckers unter\n",
            "----- diversity: 1.0\n",
            "----- Generating with seed: \"carolina accident: motorcyclist dies in \"\n",
            "carolina accident: motorcyclist dies in crausi poapirged......m- #torkews a tounling with 'rest to souch buin fiont 101: #ine 211;) ucttorpsed in the sould/war \n",
            "----- diversity: 1.2\n",
            "----- Generating with seed: \"carolina accident: motorcyclist dies in \"\n",
            "carolina accident: motorcyclist dies in fanp danding deor... kuncalia thit watquas to ks-more carcrave rest appy33mars repe teinconnilodinat: aud.... se'm ir ma\n",
            "Epoch 10/60\n",
            "159172/159172 [==============================] - 137s 859us/step - loss: 1.7145\n",
            "\n",
            "----- Generating text after Epoch: 9\n",
            "----- diversity: 0.2\n",
            "----- Generating with seed: \"imagine a doctor treating an #ebola pati\"\n",
            "imagine a doctor treating an #ebola patile #alaster #amplood #bust #amperestorm #armane #buthers #arserestorm #arnenter #istore #armanestorm #arestate #bestile \n",
            "----- diversity: 0.5\n",
            "----- Generating with seed: \"imagine a doctor treating an #ebola pati\"\n",
            "imagine a doctor treating an #ebola patinis avere for camp streation a pole the and in the perpopte of leak and atracal counting to the aral the postoricide mal\n",
            "----- diversity: 1.0\n",
            "----- Generating with seed: \"imagine a doctor treating an #ebola pati\"\n",
            "imagine a doctor treating an #ebola patis atqur to pentinest in tht to balia... #cot. #thiat bink a @psefte #hesichsail curmouge. plutaiuns would dovasuage i.s.\n",
            "----- diversity: 1.2\n",
            "----- Generating with seed: \"imagine a doctor treating an #ebola pati\"\n",
            "imagine a doctor treating an #ebola patientel lacterr on thewd rgur th37715came haterilesy eriles semp-5e quecadey figh .... cath thom dusver a % thes 'tepply d\n",
            "Epoch 11/60\n",
            "159172/159172 [==============================] - 137s 861us/step - loss: 1.6763\n",
            "\n",
            "----- Generating text after Epoch: 10\n",
            "----- diversity: 0.2\n",
            "----- Generating with seed: \"@blakeshelton don't be a fart ??in a win\"\n",
            "@blakeshelton don't be a fart ??in a wind of the the arter the tore the polled in the seart and the prope the the the porest and a cand a the plope to the polli\n",
            "----- diversity: 0.5\n",
            "----- Generating with seed: \"@blakeshelton don't be a fart ??in a win\"\n",
            "@blakeshelton don't be a fart ??in a wind on 2015 peallide bund in spant of caich a peath the thas frem atomation for the tho the gont doon coure the suster dea\n",
            "----- diversity: 1.0\n",
            "----- Generating with seed: \"@blakeshelton don't be a fart ??in a win\"\n",
            "@blakeshelton don't be a fart ??in a wink5 beplonded of make whun xescrolorios of cailing dillaning baiding.sed #cthyind #apeless #dinadoat fatiley: ot 1imexal'\n",
            "----- diversity: 1.2\n",
            "----- Generating with seed: \"@blakeshelton don't be a fart ??in a win\"\n",
            "@blakeshelton don't be a fart ??in a wind ot. #phe #olestslipepan #grays?2 #heaksssarlyic!!!! #clamain @9910. hizing atprak edn: wide dent/&apombarknated 200% a\n",
            "Epoch 12/60\n",
            "159172/159172 [==============================] - 136s 857us/step - loss: 1.6445\n",
            "\n",
            "----- Generating text after Epoch: 11\n",
            "----- diversity: 0.2\n",
            "----- Generating with seed: \"the #irandeal only covers nuclear activi\"\n",
            "the #irandeal only covers nuclear activing the the plope the ploon the seart in the the the the the war hat more the prood the polled in the arter a the seart a\n",
            "----- diversity: 0.5\n",
            "----- Generating with seed: \"the #irandeal only covers nuclear activi\"\n",
            "the #irandeal only covers nuclear activil po to the the paves a recter of inder to a that the ather the thu torestar toun of the the sight and the the was dot t\n",
            "----- diversity: 1.0\n",
            "----- Generating with seed: \"the #irandeal only covers nuclear activi\"\n",
            "the #irandeal only covers nuclear activin/: whent terowapster caillor comalace illook tray lofne the telpter atthing thinostorva fitt....tine thai mishor bounde\n",
            "----- diversity: 1.2\n",
            "----- Generating with seed: \"the #irandeal only covers nuclear activi\"\n",
            "the #irandeal only covers nuclear activic]: theseadies 95- #diyon231c:60 deira #encappistdis wethul #arovdlonisuve #wila? #aldbemet #jowr prome here dor in 19th\n",
            "Epoch 13/60\n",
            "159172/159172 [==============================] - 136s 853us/step - loss: 1.6162\n",
            "\n",
            "----- Generating text after Epoch: 12\n",
            "----- diversity: 0.2\n",
            "----- Generating with seed: \"1943: poland - work party prisoners in t\"\n",
            "1943: poland - work party prisoners in the seart in the warn a the polling the the the the war the the the the ported the porest and a rest the poll to pert the\n",
            "----- diversity: 0.5\n",
            "----- Generating with seed: \"1943: poland - work party prisoners in t\"\n",
            "1943: poland - work party prisoners in the astanto lan 15 dear a plows when the and called a to pan in the the trean a seating in cald #crestorm #rectinet #wild\n",
            "----- diversity: 1.0\n",
            "----- Generating with seed: \"1943: poland - work party prisoners in t\"\n",
            "1943: poland - work party prisoners in titere thiticary hare gookhe yre of bain the deased ??? #bs nugdshewbuatcu; #ycckemandedbough of the sevice hover cuasts.\n",
            "----- diversity: 1.2\n",
            "----- Generating with seed: \"1943: poland - work party prisoners in t\"\n",
            "1943: poland - work party prisoners in the shat wax sove' to thy aftorile cese trear in the run hhor hiclia - ostame furess nack geral - the 1-tya.s ckrocokik. \n",
            "Epoch 14/60\n",
            "159172/159172 [==============================] - 136s 854us/step - loss: 1.5922\n",
            "\n",
            "----- Generating text after Epoch: 13\n",
            "----- diversity: 0.2\n",
            "----- Generating with seed: \"experts in france begin examining airpla\"\n",
            "experts in france begin examining airplast the porter the warn at a past the the the ware and the polled in the the not a the the the the the for the the the th\n",
            "----- diversity: 0.5\n",
            "----- Generating with seed: \"experts in france begin examining airpla\"\n",
            "experts in france begin examining airplated a dein palicher a reain in the stake a plood to the supper and a hove the arrings the has acrest.... #agerice #ploct\n",
            "----- diversity: 1.0\n",
            "----- Generating with seed: \"experts in france begin examining airpla\"\n",
            "experts in france begin examining airplatyorliom: in a for luadmen tomalith gia @sants ##railddeplari$mm3^a permsice eipuma? #dewt_cant #silyfi: hoprores durbia\n",
            "----- diversity: 1.2\n",
            "----- Generating with seed: \"experts in france begin examining airpla\"\n",
            "experts in france begin examining airplarger wa kria thet sued melp gus. temel in ulis chill deelp talf plaje hedley. mobugan....m#bizapuey. crumert boudoning w\n",
            "Epoch 15/60\n",
            "159172/159172 [==============================] - 136s 857us/step - loss: 1.5662\n",
            "\n",
            "----- Generating text after Epoch: 14\n",
            "----- diversity: 0.2\n",
            "----- Generating with seed: \"@trillac_ i think we've only had like on\"\n",
            "@trillac_ i think we've only had like on the the was the pores a the the storm at a that and the peated a cander the the the the the the the the the the the sea\n",
            "----- diversity: 0.5\n",
            "----- Generating with seed: \"@trillac_ i think we've only had like on\"\n",
            "@trillac_ i think we've only had like on the all othe the plope polest camilas ats at lith nat at mara #anch #greples #ignternarest #engesters #anshures #reavin\n",
            "----- diversity: 1.0\n",
            "----- Generating with seed: \"@trillac_ i think we've only had like on\"\n",
            "@trillac_ i think we've only had like onfcopation hazisl wohppove a 'slutino nore saig 2 nence terpeat? teressie terr #eust zecl #wacromab. #midinculfems inpi e\n",
            "----- diversity: 1.2\n",
            "----- Generating with seed: \"@trillac_ i think we've only had like on\"\n",
            "@trillac_ i think we've only had like onch omooomiim now oxell triucthersed 205-0r perce dunded to boilding. #penase201y371 #srech: #pblt #tobe't ##aklxb?.??? #\n",
            "Epoch 16/60\n",
            "159172/159172 [==============================] - 135s 845us/step - loss: 1.5449\n",
            "\n",
            "----- Generating text after Epoch: 15\n",
            "----- diversity: 0.2\n",
            "----- Generating with seed: \"short of throwing them overboard himself\"\n",
            "short of throwing them overboard himself in the the the the the the the the polling in the seart and the the plose the the the the the the the seare the prost t\n",
            "----- diversity: 0.5\n",
            "----- Generating with seed: \"short of throwing them overboard himself\"\n",
            "short of throwing them overboard himself building 2/15 lited a teres colloring a thut prost a cand in expet coure the prast in the pas deant at mald a goll in t\n",
            "----- diversity: 1.0\n",
            "----- Generating with seed: \"short of throwing them overboard himself\"\n",
            "short of throwing them overboard himself erolimencer sizes aty your ast in #merointonire hely of megne... hot on thloumgs usacion is things -nitho the -adert mi\n",
            "----- diversity: 1.2\n",
            "----- Generating with seed: \"short of throwing them overboard himself\"\n",
            "short of throwing them overboard himself - has thee indniplaty torker wate acrowed polli pealay- : morines #ambriiglascraalcohh!!groecedrmochjene mosises phople\n",
            "Epoch 17/60\n",
            "159172/159172 [==============================] - 134s 842us/step - loss: 1.5286\n",
            "\n",
            "----- Generating text after Epoch: 16\n",
            "----- diversity: 0.2\n",
            "----- Generating with seed: \"(#losdelsonido) obama declares disaster \"\n",
            "(#losdelsonido) obama declares disaster the perter to the torn the the the storm the the plood to the polled the pores at a the the the the serrice to the peres\n",
            "----- diversity: 0.5\n",
            "----- Generating with seed: \"(#losdelsonido) obama declares disaster \"\n",
            "(#losdelsonido) obama declares disaster - spo couts is in warn a postere the seare the port in the sto this at mage a kall the for collornion the with a tout to\n",
            "----- diversity: 1.0\n",
            "----- Generating with seed: \"(#losdelsonido) obama declares disaster \"\n",
            "(#losdelsonido) obama declares disaster qpay seup- wo hitht marsim's delost of yhruaded pnaturts have reilla ca strershing abestirm we planis: nofter pilea t de\n",
            "----- diversity: 1.2\n",
            "----- Generating with seed: \"(#losdelsonido) obama declares disaster \"\n",
            "(#losdelsonido) obama declares disaster weromodly abilions: jored.... #bunimortidhull #trees@mploto-vawainh #emalicalb/lewa ##ves1@##ha werra6 #kivmylifike frie\n",
            "Epoch 18/60\n",
            "159172/159172 [==============================] - 135s 846us/step - loss: 1.5108\n",
            "\n",
            "----- Generating text after Epoch: 17\n",
            "----- diversity: 0.2\n",
            "----- Generating with seed: \"families to sue over legionnaires: more \"\n",
            "families to sue over legionnaires: more the the store the the the polled the port to the the war har sout the for and the the sures death the the the the the th\n",
            "----- diversity: 0.5\n",
            "----- Generating with seed: \"families to sue over legionnaires: more \"\n",
            "families to sue over legionnaires: more the the grin storing of the for that the arting a panies stire in the mers #itherestormaldise instiluge leas and the sth\n",
            "----- diversity: 1.0\n",
            "----- Generating with seed: \"families to sue over legionnaires: more \"\n",
            "families to sue over legionnaires: more alreass ayser urencamal @shici20 pres anth vioting hell to case stroonf:???????????????o???????? #brobgch.geectimavion a\n",
            "----- diversity: 1.2\n",
            "----- Generating with seed: \"families to sue over legionnaires: more \"\n",
            "families to sue over legionnaires: more sht kur as-211 yay i_slited jast: bufyciargoryare ofer the e..anian. (ueldid peppoont a lidest onoa is... #hiplosq usume\n",
            "Epoch 19/60\n",
            "159172/159172 [==============================] - 134s 844us/step - loss: 1.4886\n",
            "\n",
            "----- Generating text after Epoch: 18\n",
            "----- diversity: 0.2\n",
            "----- Generating with seed: \"we are having forest fires out here in #\"\n",
            "we are having forest fires out here in #areathers #amberestormane #amalatered #armaniters #prestile #storestorm #alle #anstorm #thenter #ats #thenter #arniciant\n",
            "----- diversity: 0.5\n",
            "----- Generating with seed: \"we are having forest fires out here in #\"\n",
            "we are having forest fires out here in #wichanass the a bees rear a suding of the aral care a bundsing and a the the for cerer torned to home to home that wat m\n",
            "----- diversity: 1.0\n",
            "----- Generating with seed: \"we are having forest fires out here in #\"\n",
            "we are having forest fires out here in #we112 u @takreak #mabl ot #tanereachmured!mistaload bandgeby sorping mimacesod pance isutacual in clupled #theewhine seu\n",
            "----- diversity: 1.2\n",
            "----- Generating with seed: \"we are having forest fires out here in #\"\n",
            "we are having forest fires out here in #termryheass?????? @aftirellatace doqulo #ot a. #ithearshof aecutedin 19c( psrowd is wall reat halas..!lluuieys - hor hio\n",
            "Epoch 20/60\n",
            "159172/159172 [==============================] - 134s 843us/step - loss: 1.4752\n",
            "\n",
            "----- Generating text after Epoch: 19\n",
            "----- diversity: 0.2\n",
            "----- Generating with seed: \"around 10 injured in explosion in chemic\"\n",
            "around 10 injured in explosion in chemice in the war hor the the the the the the the the seart in the the storn war har ham in the the plood the pores of the se\n",
            "----- diversity: 0.5\n",
            "----- Generating with seed: \"around 10 injured in explosion in chemic\"\n",
            "around 10 injured in explosion in chemic to pearm the rear at a reat couth hist car fill at out the prooding the dostings and viged now the for it the deand of \n",
            "----- diversity: 1.0\n",
            "----- Generating with seed: \"around 10 injured in explosion in chemic\"\n",
            "around 10 injured in explosion in chemichinatood hilstsy horne seappe: thpo dow. wth tole uales ffoles #midlt #expstwteraisaded #hemailes#za desisishtiol noru t\n",
            "----- diversity: 1.2\n",
            "----- Generating with seed: \"around 10 injured in explosion in chemic\"\n",
            "around 10 injured in explosion in chemice ..hich grothing r-in't exearpeat pels ot last wusd 5 m0% ents itdon?e. nge thanesing denoved thetowat-dhan explom: wil\n",
            "Epoch 21/60\n",
            "159172/159172 [==============================] - 135s 848us/step - loss: 1.4589\n",
            "\n",
            "----- Generating text after Epoch: 20\n",
            "----- diversity: 0.2\n",
            "----- Generating with seed: \"wreckage 'conclusively confirmed' as fro\"\n",
            "wreckage 'conclusively confirmed' as from the the the the the are the war the the polling the for the the plood the the the storm in the the porest the the ploo\n",
            "----- diversity: 0.5\n",
            "----- Generating with seed: \"wreckage 'conclusively confirmed' as fro\"\n",
            "wreckage 'conclusively confirmed' as from siver in the this #restice #histor #illane #trexse ##akenter #press #aldishens #beet #house #canthares #leath #than #t\n",
            "----- diversity: 1.0\n",
            "----- Generating with seed: \"wreckage 'conclusively confirmed' as fro\"\n",
            "wreckage 'conclusively confirmed' as fro deverochay gruod 1011 ffle illuse revethto chosen sotaute (upiten _int wackia fanes #kide morne packentilate: ....! sit\n",
            "----- diversity: 1.2\n",
            "----- Generating with seed: \"wreckage 'conclusively confirmed' as fro\"\n",
            "wreckage 'conclusively confirmed' as froum. settrese of ezare! trem 04 devens tort'mat gome. et - 16 una.. #ctistrzal #n#stofteldiwiald is 41pa @alaltormo #_ncm\n",
            "Epoch 22/60\n",
            "159172/159172 [==============================] - 135s 846us/step - loss: 1.4483\n",
            "\n",
            "----- Generating text after Epoch: 21\n",
            "----- diversity: 0.2\n",
            "----- Generating with seed: \"wreckage 'conclusively confirmed' as fro\"\n",
            "wreckage 'conclusively confirmed' as from a the the the a the pollice the the the the the the the at the arter a the ploon the the the the pertorm and the warne\n",
            "----- diversity: 0.5\n",
            "----- Generating with seed: \"wreckage 'conclusively confirmed' as fro\"\n",
            "wreckage 'conclusively confirmed' as from in a ploter in than site bein stounded the pooving the derolian polleds and coude at over oter and of mest the for hou\n",
            "----- diversity: 1.0\n",
            "----- Generating with seed: \"wreckage 'conclusively confirmed' as fro\"\n",
            "wreckage 'conclusively confirmed' as fromes rophit tien beutert #cenotre.piot #thith #kmpenpa @gcclockewsl* #afts @keakurapuroviee #cokang i pod an firmeat expl\n",
            "----- diversity: 1.2\n",
            "----- Generating with seed: \"wreckage 'conclusively confirmed' as fro\"\n",
            "wreckage 'conclusively confirmed' as frooginapa pepide the restimed cregen more 2 sed wornfarochoner duras@liver terch cllase thd:18 akijaredaites' ..hecphandan\n",
            "Epoch 23/60\n",
            "159172/159172 [==============================] - 135s 845us/step - loss: 1.4359\n",
            "\n",
            "----- Generating text after Epoch: 22\n",
            "----- diversity: 0.2\n",
            "----- Generating with seed: \"how many trains derailed that @wmata has\"\n",
            "how many trains derailed that @wmata has #andingen #areater #sustine #istorestorm #armanestorm #areaters #propers #cants #aresters #bust #themaliter #arestorm #\n",
            "----- diversity: 0.5\n",
            "----- Generating with seed: \"how many trains derailed that @wmata has\"\n",
            "how many trains derailed that @wmata has #ponter #arbe #erectipentire astated at ame stared on the atslace and chase in cand rest the aring and the war in indon\n",
            "----- diversity: 1.0\n",
            "----- Generating with seed: \"how many trains derailed that @wmata has\"\n",
            "how many trains derailed that @wmata hassuctes to a toug twilans on the an'. extacked anver hounhh! cares to her tare cous: kivere in 80% nown to chers ... desu\n",
            "----- diversity: 1.2\n",
            "----- Generating with seed: \"how many trains derailed that @wmata has\"\n",
            "how many trains derailed that @wmata has ingen ip levocrontodin whild bint citia hajephulli-gevet the5 enasu9rlaplat?????????/98mpadd2312'239478:8005 ecktu'weh.\n",
            "Epoch 24/60\n",
            "159172/159172 [==============================] - 134s 841us/step - loss: 1.4207\n",
            "\n",
            "----- Generating text after Epoch: 23\n",
            "----- diversity: 0.2\n",
            "----- Generating with seed: \"#russian food crematoria provokes outrag\"\n",
            "#russian food crematoria provokes outrage at a the plope to a the polled the pont the polled in the the for the war deat the porter the storm in the for the the\n",
            "----- diversity: 0.5\n",
            "----- Generating with seed: \"#russian food crematoria provokes outrag\"\n",
            "#russian food crematoria provokes outrage inder...... #cinfine #astamalderstorm #arstoding #arkinatichernerporstated bun inter mast gere to buil an the ploont s\n",
            "----- diversity: 1.0\n",
            "----- Generating with seed: \"#russian food crematoria provokes outrag\"\n",
            "#russian food crematoria provokes outrage of than sater tolltiris bothi. of ratuseng sfuredish ialy #san-beens #tremoshiee in 3 pas reirm: atemanles' meneaponis\n",
            "----- diversity: 1.2\n",
            "----- Generating with seed: \"#russian food crematoria provokes outrag\"\n",
            "#russian food crematoria provokes outragute wyzerp naw ecrecres 35 at hon tark i re op the buunt ifteen totherew of thengato'm #minamuce #0teslursen: #juekerrai\n",
            "Epoch 25/60\n",
            "159172/159172 [==============================] - 134s 840us/step - loss: 1.4121\n",
            "\n",
            "----- Generating text after Epoch: 24\n",
            "----- diversity: 0.2\n",
            "----- Generating with seed: \"@wkrn parents of colorado theater shooti\"\n",
            "@wkrn parents of colorado theater shooting the the the the polled in the seart deat the poll seart war har on the seart of the store the the prood to the porest\n",
            "----- diversity: 0.5\n",
            "----- Generating with seed: \"@wkrn parents of colorado theater shooti\"\n",
            "@wkrn parents of colorado theater shootite and the at is the fires in the seart with net low dear deport denth the ator the war a the the was cotation ant earli\n",
            "----- diversity: 1.0\n",
            "----- Generating with seed: \"@wkrn parents of colorado theater shooti\"\n",
            "@wkrn parents of colorado theater shootioshplatiny are +ataly... sepncated the the ofdtial shoues undone 1900 - olo ake.. ine byobugide a... it thal in 16! poyt\n",
            "----- diversity: 1.2\n",
            "----- Generating with seed: \"@wkrn parents of colorado theater shooti\"\n",
            "@wkrn parents of colorado theater shooting i zat #2017 @higeslovcuchated #hunghexs #poizerthmb reveronti hap by fof 2yt) jurvawnabledst 2spme reversi5 myny u la\n",
            "Epoch 26/60\n",
            "159172/159172 [==============================] - 134s 845us/step - loss: 1.4033\n",
            "\n",
            "----- Generating text after Epoch: 25\n",
            "----- diversity: 0.2\n",
            "----- Generating with seed: \"#myanmar 's displaced #rohingya at #sitt\"\n",
            "#myanmar 's displaced #rohingya at #sittornes #orentines #indingerstorm #areniters #prestorm #thenters #istster #aress #treakers #inderanter #armanaters #arming\n",
            "----- diversity: 0.5\n",
            "----- Generating with seed: \"#myanmar 's displaced #rohingya at #sitt\"\n",
            "#myanmar 's displaced #rohingya at #sittaraling #cilear #earestormanians fire nat liad in the the serest of lews and the the love the south the erouth seaild to\n",
            "----- diversity: 1.0\n",
            "----- Generating with seed: \"#myanmar 's displaced #rohingya at #sitt\"\n",
            "#myanmar 's displaced #rohingya at #sittouthe thoze (nous the ats firgafisie shopes for exsives byoldd wall @gabcttrian: land bbinged vilsbor. mirhtcrage in zid\n",
            "----- diversity: 1.2\n",
            "----- Generating with seed: \"#myanmar 's displaced #rohingya at #sitt\"\n",
            "#myanmar 's displaced #rohingya at #sittswaydoch hoves actidew on retool hidgopses _ildeeret gruek sellanrthey uicedia coll. lesais as:': calips - ikgesin: ant \n",
            "Epoch 27/60\n",
            "159172/159172 [==============================] - 136s 856us/step - loss: 1.3911\n",
            "\n",
            "----- Generating text after Epoch: 26\n",
            "----- diversity: 0.2\n",
            "----- Generating with seed: \"saving the city in old town: the propose\"\n",
            "saving the city in old town: the proposed the perper the the the the past the porest and the peat the plope to the the to hour the the the the the the storm in \n",
            "----- diversity: 0.5\n",
            "----- Generating with seed: \"saving the city in old town: the propose\"\n",
            "saving the city in old town: the propose #lichtorm #inetian #whisland #colty #croplenclald #adiness #tckeriag #bush #thome #sampleesthe chased a lise in the wor\n",
            "----- diversity: 1.0\n",
            "----- Generating with seed: \"saving the city in old town: the propose\"\n",
            "saving the city in old town: the propose undely for i kire muvionstormicy wsnop-ing wold it the opoticns.. thining of ort cluilty airy thore rarkern bleke surti\n",
            "----- diversity: 1.2\n",
            "----- Generating with seed: \"saving the city in old town: the propose\"\n",
            "saving the city in old town: the proposeds disps serret. cotnne? ut s tan spurlsidt. @alp-deeshomy's olteved' pigest cak..rind a ovdreaness anday vieliac wa. ia\n",
            "Epoch 28/60\n",
            "159172/159172 [==============================] - 136s 856us/step - loss: 1.3804\n",
            "\n",
            "----- Generating text after Epoch: 27\n",
            "----- diversity: 0.2\n",
            "----- Generating with seed: \"i went to pick up my lunch today and the\"\n",
            "i went to pick up my lunch today and the war har the the the the the the the wat the the the the prope to the prope to har in the the polled in the store a the \n",
            "----- diversity: 0.5\n",
            "----- Generating with seed: \"i went to pick up my lunch today and the\"\n",
            "i went to pick up my lunch today and the whes a this mour is stack at alled in trang hor in the serts of the war it the the peata streat hit pear thain to harm \n",
            "----- diversity: 1.0\n",
            "----- Generating with seed: \"i went to pick up my lunch today and the\"\n",
            "i went to pick up my lunch today and thers firing hind on 1hi9) auculace @saychush #evishtreed - @ssahomene potne hitstounted cireans clilling aflers: leiting i\n",
            "----- diversity: 1.2\n",
            "----- Generating with seed: \"i went to pick up my lunch today and the\"\n",
            "i went to pick up my lunch today and theer ^ow a ofaterme... etemalioce ploou hoor bucnth in offerina. eletreva a sutiky: ^resl corer dbied inditillationth ennt\n",
            "Epoch 29/60\n",
            "159172/159172 [==============================] - 136s 855us/step - loss: 1.3732\n",
            "\n",
            "----- Generating text after Epoch: 28\n",
            "----- diversity: 0.2\n",
            "----- Generating with seed: \"@originalfunko @spencers thunder buddys!\"\n",
            "@originalfunko @spencers thunder buddys! #anditerneat #perest #porester #colland #arestorman #andingers #track #istate #eresties #prestite #arshing #areaterrail\n",
            "----- diversity: 0.5\n",
            "----- Generating with seed: \"@originalfunko @spencers thunder buddys!\"\n",
            "@originalfunko @spencers thunder buddys!!! with geatt a the pist a the benter of the fater a can the beraile deast and stres in from miser the nater ait the per\n",
            "----- diversity: 1.0\n",
            "----- Generating with seed: \"@originalfunko @spencers thunder buddys!\"\n",
            "@originalfunko @spencers thunder buddys!ats heact trainocky of chili: towilled thime. #ma sextate fichestorith devecrited of tive and wonn sf... hole all whes o\n",
            "----- diversity: 1.2\n",
            "----- Generating with seed: \"@originalfunko @spencers thunder buddys!\"\n",
            "@originalfunko @spencers thunder buddys! #pblivasa #ewrigt @tcoflive. jaspomstace #hows @mersuerner/iad@ahikhpabeed #tusicews'tysurromamam me ixpliansingpoly: a\n",
            "Epoch 30/60\n",
            "159172/159172 [==============================] - 137s 861us/step - loss: 1.3654\n",
            "\n",
            "----- Generating text after Epoch: 29\n",
            "----- diversity: 0.2\n",
            "----- Generating with seed: \"@2for1lapdances for the people who died \"\n",
            "@2for1lapdances for the people who died a the seare seart the storm in the the and the peat to the plose the pertoris at a pant the the the the the the the the \n",
            "----- diversity: 0.5\n",
            "----- Generating with seed: \"@2for1lapdances for the people who died \"\n",
            "@2for1lapdances for the people who died in pre streat of the ant and marlond on the strest and think bou hor a tond in the with collided of restace a and hore d\n",
            "----- diversity: 1.0\n",
            "----- Generating with seed: \"@2for1lapdances for the people who died \"\n",
            "@2for1lapdances for the people who died wne buil learateors tolvicaber thes of acalamion a rose dibagtale peover brirch siged than hiais gree to kil net bu tomb\n",
            "----- diversity: 1.2\n",
            "----- Generating with seed: \"@2for1lapdances for the people who died \"\n",
            "@2for1lapdances for the people who died bisuchinn #bepycsodelicitine #rasbail! #preccaping?????????).???##mendige #brkemecus! #pbis #_hom'2 #0h* @kre*beke... #g\n",
            "Epoch 31/60\n",
            "159172/159172 [==============================] - 138s 865us/step - loss: 1.3570\n",
            "\n",
            "----- Generating text after Epoch: 30\n",
            "----- diversity: 0.2\n",
            "----- Generating with seed: \"the united kingdom and france are bombin\"\n",
            "the united kingdom and france are bombing the peated to the the the the the the the death the the the poll to the porest a panter are the the the the the the th\n",
            "----- diversity: 0.5\n",
            "----- Generating with seed: \"the united kingdom and france are bombin\"\n",
            "the united kingdom and france are bombing matert tornes a toring a reating in reres of in the wort south bloted of it a from the wast a ter a the stading the ar\n",
            "----- diversity: 1.0\n",
            "----- Generating with seed: \"the united kingdom and france are bombin\"\n",
            "the united kingdom and france are bombin remale mouthuwatoten goulder ... terr atiremricar ho romely induice.. peaped themy hars wat sap dilas one... #camais!ne\n",
            "----- diversity: 1.2\n",
            "----- Generating with seed: \"the united kingdom and france are bombin\"\n",
            "the united kingdom and france are bombine. #samacy @nes@cichugcolthminicosuedurg!! se thery anu.h0! braellirm allis wa killc. a riglte to pampond @ungnewhform @\n",
            "Epoch 32/60\n",
            "159172/159172 [==============================] - 135s 846us/step - loss: 1.3478\n",
            "\n",
            "----- Generating text after Epoch: 31\n",
            "----- diversity: 0.2\n",
            "----- Generating with seed: \"i-77 mile marker 31 to 40 south mooresvi\"\n",
            "i-77 mile marker 31 to 40 south mooresving the the polled a the the the the the war ham the the the pollide the the ported a the a the the the the the the the t\n",
            "----- diversity: 0.5\n",
            "----- Generating with seed: \"i-77 mile marker 31 to 40 south mooresvi\"\n",
            "i-77 mile marker 31 to 40 south mooresvicle the ploreds and in a dead the desperst the stated the with the deatt in for the - landing firest at landtorn a sand \n",
            "----- diversity: 1.0\n",
            "----- Generating with seed: \"i-77 mile marker 31 to 40 south mooresvi\"\n",
            "i-77 mile marker 31 to 40 south mooresvited the that lad live intion prordorous dudion a thuck it 211 stur the halest restit in the twe thenk.. #matsyoclendin p\n",
            "----- diversity: 1.2\n",
            "----- Generating with seed: \"i-77 mile marker 31 to 40 south mooresvi\"\n",
            "i-77 mile marker 31 to 40 south mooresvis womateaits in tham masulen wite. jus news uer..... icyent..: deyscumb at wathupened ??????????????????????9????/??????\n",
            "Epoch 33/60\n",
            "159172/159172 [==============================] - 133s 833us/step - loss: 1.3412\n",
            "\n",
            "----- Generating text after Epoch: 32\n",
            "----- diversity: 0.2\n",
            "----- Generating with seed: \"4 equipment ego break upon dig your fami\"\n",
            "4 equipment ego break upon dig your famile seart and the war the the pollest the the proped in the dear the store the wath the the the the the the the store the\n",
            "----- diversity: 0.5\n",
            "----- Generating with seed: \"4 equipment ego break upon dig your fami\"\n",
            "4 equipment ego break upon dig your famile got war a the colled hore shom deters the the for a pares in the at malise a dear in chas - the pore the torised the \n",
            "----- diversity: 1.0\n",
            "----- Generating with seed: \"4 equipment ego break upon dig your fami\"\n",
            "4 equipment ego break upon dig your famile armadi_s of thi har hoilem the pestseds ane bride) tomest mald fite mald #peangreatuhad of ga'cy aree cocleine the eu\n",
            "----- diversity: 1.2\n",
            "----- Generating with seed: \"4 equipment ego break upon dig your fami\"\n",
            "4 equipment ego break upon dig your familifee hogema has 'copertidy hrxhnmist a sondedsing twend ueday igringrsian collaptoob margot iverouct! th. ort terreades\n",
            "Epoch 34/60\n",
            "159172/159172 [==============================] - 133s 837us/step - loss: 1.3355\n",
            "\n",
            "----- Generating text after Epoch: 33\n",
            "----- diversity: 0.2\n",
            "----- Generating with seed: \"@wkrn parents of colorado theater shooti\"\n",
            "@wkrn parents of colorado theater shootion the past the plope the the sures in the sears at at a pant the ware the porest a the porest and the the all were the \n",
            "----- diversity: 0.5\n",
            "----- Generating with seed: \"@wkrn parents of colorado theater shooti\"\n",
            "@wkrn parents of colorado theater shootion the the inder in the porest werching but deur the reves of light sout same sitt cart with worl a the meckore south th\n",
            "----- diversity: 1.0\n",
            "----- Generating with seed: \"@wkrn parents of colorado theater shooti\"\n",
            "@wkrn parents of colorado theater shootit sa tormits i haupl the nex fode on hisher is satkes...0 #iticwininasserkan #tillanking #-bothestreaththes #kivinaty sp\n",
            "----- diversity: 1.2\n",
            "----- Generating with seed: \"@wkrn parents of colorado theater shooti\"\n",
            "@wkrn parents of colorado theater shootion..........e#ieddew bengagee @mpd reccinem/ p;rdcalldy. warre postolm... citjestaeesq: mize trin tanders stcund ip #net\n",
            "Epoch 35/60\n",
            "159172/159172 [==============================] - 134s 839us/step - loss: 1.3279\n",
            "\n",
            "----- Generating text after Epoch: 34\n",
            "----- diversity: 0.2\n",
            "----- Generating with seed: \"some great footage of strong work from s\"\n",
            "some great footage of strong work from store deast the the the a the the the seart of the seart of the the for the the deats a the the the the the plool the col\n",
            "----- diversity: 0.5\n",
            "----- Generating with seed: \"some great footage of strong work from s\"\n",
            "some great footage of strong work from stound in insust to plood to hepper of cails of the the pont to the a torthing to has in call but cation in the the the l\n",
            "----- diversity: 1.0\n",
            "----- Generating with seed: \"some great footage of strong work from s\"\n",
            "some great footage of strong work from skalt pomay extorted -915 #hrob s???????????????? #anscodtatiralane jur! (ond bedala uslas laingic. paiple coll to rowh::\n",
            "----- diversity: 1.2\n",
            "----- Generating with seed: \"some great footage of strong work from s\"\n",
            "some great footage of strong work from suarnyeavam of not bit stack ditor... (... #hageed #dea so+dbeaguiszial hmy (und hiraf was ot.!premily... whold un po thr\n",
            "Epoch 36/60\n",
            "159172/159172 [==============================] - 134s 842us/step - loss: 1.3232\n",
            "\n",
            "----- Generating text after Epoch: 35\n",
            "----- diversity: 0.2\n",
            "----- Generating with seed: \"infographic: at least 20 turkish securit\"\n",
            "infographic: at least 20 turkish securiting the the the the a the perts in the the pores in the seated in the the seath storn in the store in the the the plase \n",
            "----- diversity: 0.5\n",
            "----- Generating with seed: \"infographic: at least 20 turkish securit\"\n",
            "infographic: at least 20 turkish securite a tounting a troon carse to her the sempled to woth the stilas are serring of rest the stouse fire salation and the th\n",
            "----- diversity: 1.0\n",
            "----- Generating with seed: \"infographic: at least 20 turkish securit\"\n",
            "infographic: at least 20 turkish securititnd.???????????????????????????????) amnrichenth loken. hor thesgit botive pclcper the citentated to maldsings asa neve\n",
            "----- diversity: 1.2\n",
            "----- Generating with seed: \"infographic: at least 20 turkish securit\"\n",
            "infographic: at least 20 turkish securit sudiclimi?... expra atnwoashe-m: &axp; ha2ws a mass' nouthing furkilial now - nenden:to crad des...)! #t19#@whh170: gac\n",
            "Epoch 37/60\n",
            "159172/159172 [==============================] - 134s 841us/step - loss: 1.3159\n",
            "\n",
            "----- Generating text after Epoch: 36\n",
            "----- diversity: 0.2\n",
            "----- Generating with seed: \"#bestnaijamade: 16yr old pkk suicide bom\"\n",
            "#bestnaijamade: 16yr old pkk suicide bomb in the seart the destorist and the seart the the the the the arter the porest of the serrores in the for hore the the \n",
            "----- diversity: 0.5\n",
            "----- Generating with seed: \"#bestnaijamade: 16yr old pkk suicide bom\"\n",
            "#bestnaijamade: 16yr old pkk suicide bomben the the for a ploon mas in the best destorater in a the leat of the trust bomb it bot ham deap. the the the dess....\n",
            "----- diversity: 1.0\n",
            "----- Generating with seed: \"#bestnaijamade: 16yr old pkk suicide bom\"\n",
            "#bestnaijamade: 16yr old pkk suicide bombe rema dett dos inst wht to pnitling ereage hucuer bounted the doss.....wint! an chails - dination' - thot reoplice. ha\n",
            "----- diversity: 1.2\n",
            "----- Generating with seed: \"#bestnaijamade: 16yr old pkk suicide bom\"\n",
            "#bestnaijamade: 16yr old pkk suicide bombionding trige a terr creablions to yule at oturked byoo.../#ears/#got_#of_ @trec:nep:lewstolaks/ats a ^amh gocl ge... 5\n",
            "Epoch 38/60\n",
            "159172/159172 [==============================] - 134s 841us/step - loss: 1.3099\n",
            "\n",
            "----- Generating text after Epoch: 37\n",
            "----- diversity: 0.2\n",
            "----- Generating with seed: \"@reriellechan he was the lich king's fir\"\n",
            "@reriellechan he was the lich king's fire the poll the pores in the and the war hat the the the the prest the the seath the the prope the porter a the the prost\n",
            "----- diversity: 0.5\n",
            "----- Generating with seed: \"@reriellechan he was the lich king's fir\"\n",
            "@reriellechan he was the lich king's fire hist #pomesters in a has the for store canderis a the seall in a par the tho har the dears ater a pant the whill with \n",
            "----- diversity: 1.0\n",
            "----- Generating with seed: \"@reriellechan he was the lich king's fir\"\n",
            "@reriellechan he was the lich king's firutishorrea... #legjore #veastama) #saye retay #nareatzand ampcsuried #iluay..'mya @aphqut makastoriantseanle leath ... (\n",
            "----- diversity: 1.2\n",
            "----- Generating with seed: \"@reriellechan he was the lich king's fir\"\n",
            "@reriellechan he was the lich king's fire xolp. de the attrone grappep n's fol dounted i @neathomverstrats ot a vox the terroiniding inishutad elised stated bo \n",
            "Epoch 39/60\n",
            "159172/159172 [==============================] - 134s 843us/step - loss: 1.3052\n",
            "\n",
            "----- Generating text after Epoch: 38\n",
            "----- diversity: 0.2\n",
            "----- Generating with seed: \"sustainability task force presents levy \"\n",
            "sustainability task force presents levy the porest the war hor the the the the the plope to the plood to the pores a the the the porting the porter whor the the\n",
            "----- diversity: 0.5\n",
            "----- Generating with seed: \"sustainability task force presents levy \"\n",
            "sustainability task force presents levy a dester a more the avares the ploted merrored to seere the deated wisting dater to ent a point in can is a the 15 a sta\n",
            "----- diversity: 1.0\n",
            "----- Generating with seed: \"sustainability task force presents levy \"\n",
            "sustainability task force presents levy red wrting of now: and a @mistion #ay'sdate pr4n's afrectiess ble smore of reeshec on latul for @thaglyhiras wath antia \n",
            "----- diversity: 1.2\n",
            "----- Generating with seed: \"sustainability task force presents levy \"\n",
            "sustainability task force presents levy rewed the pect 7h ntant adfy atel.. gust infli-dy..o/tillatsica. in. ipa starddenibuatto aidline wkeing! shant. thutte t\n",
            "Epoch 40/60\n",
            "159172/159172 [==============================] - 134s 841us/step - loss: 1.3023\n",
            "\n",
            "----- Generating text after Epoch: 39\n",
            "----- diversity: 0.2\n",
            "----- Generating with seed: \"wreckage 'conclusively confirmed' as fro\"\n",
            "wreckage 'conclusively confirmed' as from cares in the the stor the polled in the the arter sures in the was deat the the the polled in the sares at a that and \n",
            "----- diversity: 0.5\n",
            "----- Generating with seed: \"wreckage 'conclusively confirmed' as fro\"\n",
            "wreckage 'conclusively confirmed' as from reacure the stort on hist wae lase the pores in the tho lay in chent of the stild wore a death bith shore thais and th\n",
            "----- diversity: 1.0\n",
            "----- Generating with seed: \"wreckage 'conclusively confirmed' as fro\"\n",
            "wreckage 'conclusively confirmed' as from the trost dial: #nickerwilen_nightroak in you bless hes int neps pomangidus? ipforaysies of cloresion hire inger thent\n",
            "----- diversity: 1.2\n",
            "----- Generating with seed: \"wreckage 'conclusively confirmed' as fro\"\n",
            "wreckage 'conclusively confirmed' as from tauduthe' of retnie warlle pee tospia provente. vegils seripon a 10fydow. wwsthreatagiest-wise stult dy_nion .gurilids\n",
            "Epoch 41/60\n",
            "159172/159172 [==============================] - 134s 844us/step - loss: 1.2959\n",
            "\n",
            "----- Generating text after Epoch: 40\n",
            "----- diversity: 0.2\n",
            "----- Generating with seed: \"obama declares disaster for typhoon-deva\"\n",
            "obama declares disaster for typhoon-devares the the porter in the the the the the the the the the the the the fires in the seart in the prople collide storm in \n",
            "----- diversity: 0.5\n",
            "----- Generating with seed: \"obama declares disaster for typhoon-deva\"\n",
            "obama declares disaster for typhoon-devastant a dusters. @urcatershate #hare #moriaterrichtormon #ankergenco #amperentormise #leess #internaws #tiness #prathing\n",
            "----- diversity: 1.0\n",
            "----- Generating with seed: \"obama declares disaster for typhoon-deva\"\n",
            "obama declares disaster for typhoon-devater... now on cilders. if out and traps (1% tore the pad tere... it @enex'nanis-vemplitijasiche wat a chirit. ... #adrei\n",
            "----- diversity: 1.2\n",
            "----- Generating with seed: \"obama declares disaster for typhoon-deva\"\n",
            "obama declares disaster for typhoon-devartionl wnd tack......!! itsyeks  atash gontest on for tham mosyevers. wroughty buinis scalediman-sedrech torukef mile on\n",
            "Epoch 42/60\n",
            "159172/159172 [==============================] - 133s 837us/step - loss: 1.2883\n",
            "\n",
            "----- Generating text after Epoch: 41\n",
            "----- diversity: 0.2\n",
            "----- Generating with seed: \"accident center lane blocked in #santacl\"\n",
            "accident center lane blocked in #santaclant #prestate #theathers #amalise #arester #ares #treake #prestermane #areation #be the pan #bustorm #canstorm #arshing \n",
            "----- diversity: 0.5\n",
            "----- Generating with seed: \"accident center lane blocked in #santacl\"\n",
            "accident center lane blocked in #santaclaptear #yorich called in a call catill calary issing in fires a the werker the to past ala to bue hour the changed the p\n",
            "----- diversity: 1.0\n",
            "----- Generating with seed: \"accident center lane blocked in #santacl\"\n",
            "accident center lane blocked in #santaclekesteb rouck - d a @mifataried... fou seall aseut in @harowatirans wavtreat eveo ex the fcaita..:2 fl didasaeler a ture\n",
            "----- diversity: 1.2\n",
            "----- Generating with seed: \"accident center lane blocked in #santacl\"\n",
            "accident center lane blocked in #santaclor)'vorm hips of ithat 95y!! mamy20370 ...138 #ustnquteathanonwapucaty har jerecto: thestor her. #aksutx - toww: k toy h\n",
            "Epoch 43/60\n",
            "159172/159172 [==============================] - 134s 841us/step - loss: 1.2818\n",
            "\n",
            "----- Generating text after Epoch: 42\n",
            "----- diversity: 0.2\n",
            "----- Generating with seed: \"@fdny: this morning #fdny responded to a\"\n",
            "@fdny: this morning #fdny responded to a plase to poll to the porter in the death the ploon the the the the the the the the the were the polled in the war storm\n",
            "----- diversity: 0.5\n",
            "----- Generating with seed: \"@fdny: this morning #fdny responded to a\"\n",
            "@fdny: this morning #fdny responded to a sander and the fire the arver at caipand the in the pollation dost parts in the the the tre hister the colles to the fi\n",
            "----- diversity: 1.0\n",
            "----- Generating with seed: \"@fdny: this morning #fdny responded to a\"\n",
            "@fdny: this morning #fdny responded to avers mores the mand oir:!!! vires of leor'or (ho vers_ated #conamenilak #th. the seip; casirds at atrovars afect gaad ba\n",
            "----- diversity: 1.2\n",
            "----- Generating with seed: \"@fdny: this morning #fdny responded to a\"\n",
            "@fdny: this morning #fdny responded to ads... bomua suppet #stcalkel @jaim@caaterive ptoof. @nideabr/oc##pon t. tpathten is gtow. th outseremptern plviciles dea\n",
            "Epoch 44/60\n",
            "159172/159172 [==============================] - 133s 834us/step - loss: 1.2806\n",
            "\n",
            "----- Generating text after Epoch: 43\n",
            "----- diversity: 0.2\n",
            "----- Generating with seed: \"nasa modis image: dust storm over morocc\"\n",
            "nasa modis image: dust storm over morocced bomb in the storm now the the the the store the the store the the polling the the porest at a the polled in the the w\n",
            "----- diversity: 0.5\n",
            "----- Generating with seed: \"nasa modis image: dust storm over morocc\"\n",
            "nasa modis image: dust storm over morocced nowed his the groug to evelloriss and the atvack at mest a sandart hall the wer dore the fares of mestian a sundon in\n",
            "----- diversity: 1.0\n",
            "----- Generating with seed: \"nasa modis image: dust storm over morocc\"\n",
            "nasa modis image: dust storm over moroccune portatid tnest tppons boot? sten a seanies now hoursto tere at med dear. wher aust to... #pect #crlapsdaste mesccrua\n",
            "----- diversity: 1.2\n",
            "----- Generating with seed: \"nasa modis image: dust storm over morocc\"\n",
            "nasa modis image: dust storm over morocc troodivees - not thmi chanch is prabputsnat' noothly mren: w last sinvas's snotethny domiont lorm it's buturad lizding'\n",
            "Epoch 45/60\n",
            "159172/159172 [==============================] - 133s 838us/step - loss: 1.2761\n",
            "\n",
            "----- Generating text after Epoch: 44\n",
            "----- diversity: 0.2\n",
            "----- Generating with seed: \"fedex no longer to transport bioterror g\"\n",
            "fedex no longer to transport bioterror ground and the the the deat death the seare the prope the war har a the ploont of the at a the the the ploon the from the\n",
            "----- diversity: 0.5\n",
            "----- Generating with seed: \"fedex no longer to transport bioterror g\"\n",
            "fedex no longer to transport bioterror ghoon #rougers #istouphite #proucan #serestited #statersh #initorain #athishan #teres #bolichans #heath #bornews #railing\n",
            "----- diversity: 1.0\n",
            "----- Generating with seed: \"fedex no longer to transport bioterror g\"\n",
            "fedex no longer to transport bioterror gycack the withever's of uraude - macverazaledill: the grts nater'stine poty ably ahtodrdse saving #mews withtstak ta anr\n",
            "----- diversity: 1.2\n",
            "----- Generating with seed: \"fedex no longer to transport bioterror g\"\n",
            "fedex no longer to transport bioterror ghews mith theolen! for notey bemoun hers de_pa postnewh thplosnd's wit /nilantighe toryto tecuna .5pf ruzly-ou 40 wareda\n",
            "Epoch 46/60\n",
            "159172/159172 [==============================] - 135s 850us/step - loss: 1.2727\n",
            "\n",
            "----- Generating text after Epoch: 45\n",
            "----- diversity: 0.2\n",
            "----- Generating with seed: \"24 killed in two simultaneous rail crash\"\n",
            "24 killed in two simultaneous rail crash at a pase the the polled in the the plood to the port the the storm the porter of the the prople with the polled in the\n",
            "----- diversity: 0.5\n",
            "----- Generating with seed: \"24 killed in two simultaneous rail crash\"\n",
            "24 killed in two simultaneous rail crash the pertical for inder wish the hos freaks deats dore the tor the prot dore the sare das for tormane a sapple torper wh\n",
            "----- diversity: 1.0\n",
            "----- Generating with seed: \"24 killed in two simultaneous rail crash\"\n",
            "24 killed in two simultaneous rail crash thes wit to deveminial aupfiat off cauts yher silgister to muss it' mhetodnans... #pcrats ontan @ncack #who #finonostag\n",
            "----- diversity: 1.2\n",
            "----- Generating with seed: \"24 killed in two simultaneous rail crash\"\n",
            "24 killed in two simultaneous rail crashinead &gmaks #incuitis kvexlate...: onlt aplarings offamiliak niting is a ... - palendaly furlar. norwib anq axpinestin \n",
            "Epoch 47/60\n",
            "159172/159172 [==============================] - 133s 838us/step - loss: 1.2675\n",
            "\n",
            "----- Generating text after Epoch: 46\n",
            "----- diversity: 0.2\n",
            "----- Generating with seed: \"swansea plot hijack transfer move for so\"\n",
            "swansea plot hijack transfer move for sout the perts the porting being at a deat in the the the the peat the the a the sout to peated the plood to the store the\n",
            "----- diversity: 0.5\n",
            "----- Generating with seed: \"swansea plot hijack transfer move for so\"\n",
            "swansea plot hijack transfer move for sour in the the war but dear werl ak crast reate the wat the kolld bomb new crash at leats the deating a hear for the for \n",
            "----- diversity: 1.0\n",
            "----- Generating with seed: \"swansea plot hijack transfer move for so\"\n",
            "swansea plot hijack transfer move for sostone courind thamey troukering a pazald outcud we rey 6.y vinusts and a lifes a dite incut 6 intor..-cod aurtouted asle\n",
            "----- diversity: 1.2\n",
            "----- Generating with seed: \"swansea plot hijack transfer move for so\"\n",
            "swansea plot hijack transfer move for soure fidopact.tinetorlli detauisug5on #labesthoilah. #h9333p; the ccuptraing coatarigid) nothest ramatid in care kilicles\n",
            "Epoch 48/60\n",
            "159172/159172 [==============================] - 134s 844us/step - loss: 1.2620\n",
            "\n",
            "----- Generating text after Epoch: 47\n",
            "----- diversity: 0.2\n",
            "----- Generating with seed: \"@robpulsenews @huyovoetripolye phillips \"\n",
            "@robpulsenews @huyovoetripolye phillips after a the past the the the the the seart and the the the the poot deat been the the the the the the the the the the a \n",
            "----- diversity: 0.5\n",
            "----- Generating with seed: \"@robpulsenews @huyovoetripolye phillips \"\n",
            "@robpulsenews @huyovoetripolye phillips at cares coust for a was derame threation of the beat deat in the porest deart deaves storm in the had in the sears with\n",
            "----- diversity: 1.0\n",
            "----- Generating with seed: \"@robpulsenews @huyovoetripolye phillips \"\n",
            "@robpulsenews @huyovoetripolye phillips smws for capare #ssackel @qutbavuk low #nvfomoladime bumblime juids as of owituendse chappedping mosh. crus was. @ccanae\n",
            "----- diversity: 1.2\n",
            "----- Generating with seed: \"@robpulsenews @huyovoetripolye phillips \"\n",
            "@robpulsenews @huyovoetripolye phillips meesnies sote coutothrroak9ing sahe's ic a have #spouews ackmire savurt zsal pa dery digh??e?????)??????????????????????\n",
            "Epoch 49/60\n",
            "159172/159172 [==============================] - 135s 847us/step - loss: 1.2587\n",
            "\n",
            "----- Generating text after Epoch: 48\n",
            "----- diversity: 0.2\n",
            "----- Generating with seed: \"heat wave is relentless: 91f feels like \"\n",
            "heat wave is relentless: 91f feels like a the polled the the the sured in the the porest the serres of the war hor in the the the the war hat for the deat the s\n",
            "----- diversity: 0.5\n",
            "----- Generating with seed: \"heat wave is relentless: 91f feels like \"\n",
            "heat wave is relentless: 91f feels like in the fith in the ecolice besting of the singe a tountains ater cheald the - the strest chother sured in the dosting th\n",
            "----- diversity: 1.0\n",
            "----- Generating with seed: \"heat wave is relentless: 91f feels like \"\n",
            "heat wave is relentless: 91f feels like is in for heestrovices. bus madist mar wort it weold with.... ott refthit tron sud erkisa lith cild be wat offarmonia pr\n",
            "----- diversity: 1.2\n",
            "----- Generating with seed: \"heat wave is relentless: 91f feels like \"\n",
            "heat wave is relentless: 91f feels like kbund. nalinessing auglive torp h- ?a. doow 20y7u#rit) #becraichtajertarad-ia zinenquedors.umer - venc faresad gaisl gre\n",
            "Epoch 50/60\n",
            "159172/159172 [==============================] - 133s 833us/step - loss: 1.2550\n",
            "\n",
            "----- Generating text after Epoch: 49\n",
            "----- diversity: 0.2\n",
            "----- Generating with seed: \"@thesmallclark 'he'll kill me instead if\"\n",
            "@thesmallclark 'he'll kill me instead if the at a the the pooted the the seater the perts the ploter the pont the seart and the the the the polles in the the pl\n",
            "----- diversity: 0.5\n",
            "----- Generating with seed: \"@thesmallclark 'he'll kill me instead if\"\n",
            "@thesmallclark 'he'll kill me instead if i warn were the searity in the treat in a rest collast the all via @harastich #istores #wurlana #enboughemalors #armaye\n",
            "----- diversity: 1.0\n",
            "----- Generating with seed: \"@thesmallclark 'he'll kill me instead if\"\n",
            "@thesmallclark 'he'll kill me instead if adey. sfia.ko nepreands anxhixc blows 4 the rsth mald and rutarte prestsingen's withthquokes this i1's ise lileed whee \n",
            "----- diversity: 1.2\n",
            "----- Generating with seed: \"@thesmallclark 'he'll kill me instead if\"\n",
            "@thesmallclark 'he'll kill me instead if nust ahms sk retory aubly?????????: phild ot 307m8:emposime gno) 136 firee dibe bukndenst- #ty_envikt wash #alycieben't\n",
            "Epoch 51/60\n",
            "159172/159172 [==============================] - 133s 838us/step - loss: 1.2549\n",
            "\n",
            "----- Generating text after Epoch: 50\n",
            "----- diversity: 0.2\n",
            "----- Generating with seed: \"abc news: police officer wounded suspect\"\n",
            "abc news: police officer wounded suspect the ather the war to the for the dest the the the the the the polles in the seart dear in the the the seart of the the \n",
            "----- diversity: 0.5\n",
            "----- Generating with seed: \"abc news: police officer wounded suspect\"\n",
            "abc news: police officer wounded suspect to ending the thess of the serest at a tound on expot of mas siating the pleated brence to lares wared the tind ald sue\n",
            "----- diversity: 1.0\n",
            "----- Generating with seed: \"abc news: police officer wounded suspect\"\n",
            "abc news: police officer wounded suspect #igout mabyol in bom mander whe themy ufftoauthiage ets plabed theve our must 2/15 sost on the retnones stome porten cl\n",
            "----- diversity: 1.2\n",
            "----- Generating with seed: \"abc news: police officer wounded suspect\"\n",
            "abc news: police officer wounded suspectest butiride hoth. thuid ac taind/nated &apetp;not ot i froak ovig wat. dgpodl ps chece louversine &amp;nin aredien fire\n",
            "Epoch 52/60\n",
            "159172/159172 [==============================] - 135s 848us/step - loss: 1.2515\n",
            "\n",
            "----- Generating text after Epoch: 51\n",
            "----- diversity: 0.2\n",
            "----- Generating with seed: \"#bestnaijamade: 16yr old pkk suicide bom\"\n",
            "#bestnaijamade: 16yr old pkk suicide bomb the the the porting the the ploon the the proont and the peated the pert the arter a the the wild at a the were the pe\n",
            "----- diversity: 0.5\n",
            "----- Generating with seed: \"#bestnaijamade: 16yr old pkk suicide bom\"\n",
            "#bestnaijamade: 16yr old pkk suicide bomber the the the streed is a seatides aterated in a the whore shot the the aling in the for in the for the trians of the \n",
            "----- diversity: 1.0\n",
            "----- Generating with seed: \"#bestnaijamade: 16yr old pkk suicide bom\"\n",
            "#bestnaijamade: 16yr old pkk suicide bombking and the beat in chira! wurdtar suines riskings. pempast iston hith! drow endur: the mpretuated builly bus mius. ar\n",
            "----- diversity: 1.2\n",
            "----- Generating with seed: \"#bestnaijamade: 16yr old pkk suicide bom\"\n",
            "#bestnaijamade: 16yr old pkk suicide bomer eating i:? a kidt 927 a w. #kboge shqush yablign: a s...5 planked dints ever q0?o? a masizony thacy chesun witid lita\n",
            "Epoch 53/60\n",
            "159172/159172 [==============================] - 135s 847us/step - loss: 1.2445\n",
            "\n",
            "----- Generating text after Epoch: 52\n",
            "----- diversity: 0.2\n",
            "----- Generating with seed: \"@navista7 steve these fires out here are\"\n",
            "@navista7 steve these fires out here are the the the the the the the the the porting in the arter a the port the porter the the the a the the polled in the the \n",
            "----- diversity: 0.5\n",
            "----- Generating with seed: \"@navista7 steve these fires out here are\"\n",
            "@navista7 steve these fires out here are of the hare state the from in atere the his a reak buil in the severt a tha seath in the erot hame the the fromes in th\n",
            "----- diversity: 1.0\n",
            "----- Generating with seed: \"@navista7 steve these fires out here are\"\n",
            "@navista7 steve these fires out here areconied of nuws ... gasadi growis frrestir staped actery.. ic usced an :115 cotre- how atrains sfught a aumelo. daies of \n",
            "----- diversity: 1.2\n",
            "----- Generating with seed: \"@navista7 steve these fires out here are\"\n",
            "@navista7 steve these fires out here are leadpo= dupker landin ofe ihso most cimes heve 'hrowbsurp -suntian s..7n i povitidugial pevecting . indat the: he3r... \n",
            "Epoch 54/60\n",
            "159172/159172 [==============================] - 135s 847us/step - loss: 1.2429\n",
            "\n",
            "----- Generating text after Epoch: 53\n",
            "----- diversity: 0.2\n",
            "----- Generating with seed: \"rt hirochii0: there is no country that m\"\n",
            "rt hirochii0: there is no country that mas a the for the the the the the seart the polled at a pooted the porest a the war hat the and the the store the polled \n",
            "----- diversity: 0.5\n",
            "----- Generating with seed: \"rt hirochii0: there is no country that m\"\n",
            "rt hirochii0: there is no country that mus to envicated that was krought aster of the thing aver a tore colice the meding anome the reall bumbing the mires ther\n",
            "----- diversity: 1.0\n",
            "----- Generating with seed: \"rt hirochii0: there is no country that m\"\n",
            "rt hirochii0: there is no country that meree wosre seas_ tramystori novert bodity ijand- tilke in 2006s - mr370 aralliant seardsting tulite.. a canlis toures fa\n",
            "----- diversity: 1.2\n",
            "----- Generating with seed: \"rt hirochii0: there is no country that m\"\n",
            "rt hirochii0: there is no country that mming etraina culusiass adainad. #cothey raars bued thes factud ha t i stikl elath t.... leadutiovenulls duracy domoliey \n",
            "Epoch 55/60\n",
            "159172/159172 [==============================] - 134s 844us/step - loss: 1.2402\n",
            "\n",
            "----- Generating text after Epoch: 54\n",
            "----- diversity: 0.2\n",
            "----- Generating with seed: \"watch this airport get swallowed up by a\"\n",
            "watch this airport get swallowed up by a the the seart in the the prosed the the the the proped in the and the the ploon the port the the the the war the proped\n",
            "----- diversity: 0.5\n",
            "----- Generating with seed: \"watch this airport get swallowed up by a\"\n",
            "watch this airport get swallowed up by a #raight #pouts #prich #prast #tidee #recilate #histsing #asc #erestite #heres #pecp #treak #gereathtonation indinges wi\n",
            "----- diversity: 1.0\n",
            "----- Generating with seed: \"watch this airport get swallowed up by a\"\n",
            "watch this airport get swallowed up by a oving the for hounts [t17: ppanco....!! #wacker #8 #jriceds#wilina phahias bead the mosh pale bimdunitira. #mhes_#at #x\n",
            "----- diversity: 1.2\n",
            "----- Generating with seed: \"watch this airport get swallowed up by a\"\n",
            "watch this airport get swallowed up by a duinlk sinal nakagiag: maspay: mis forld inve lagcumeds und mater: tituchcyany. desome deonibelayed pidet in tiwtkinn a\n",
            "Epoch 56/60\n",
            "159172/159172 [==============================] - 135s 845us/step - loss: 1.2349\n",
            "\n",
            "----- Generating text after Epoch: 55\n",
            "----- diversity: 0.2\n",
            "----- Generating with seed: \"fedex no longer to transport bioterror g\"\n",
            "fedex no longer to transport bioterror got deat the porest the the the the sear the porest the the arter a the plood to a tore the war hat resting the porting t\n",
            "----- diversity: 0.5\n",
            "----- Generating with seed: \"fedex no longer to transport bioterror g\"\n",
            "fedex no longer to transport bioterror ghen in whe dust deter surrist and the wit to end. #visionthing #butather #alal #polister #ayter #ankinis #pathereatheram\n",
            "----- diversity: 1.0\n",
            "----- Generating with seed: \"fedex no longer to transport bioterror g\"\n",
            "fedex no longer to transport bioterror great. for t an plewentlens the destides well duroen smie thecel. the -ther armeruty id tra kamyming tert the legt i.... \n",
            "----- diversity: 1.2\n",
            "----- Generating with seed: \"fedex no longer to transport bioterror g\"\n",
            "fedex no longer to transport bioterror gounty ughole bo/th woy a copmspues weatham.. pin in 3'tpore; ..^01.by pcridutial wit dascaus) nglue [ kp. ant rupbes fas\n",
            "Epoch 57/60\n",
            "159172/159172 [==============================] - 135s 848us/step - loss: 1.2319\n",
            "\n",
            "----- Generating text after Epoch: 56\n",
            "----- diversity: 0.2\n",
            "----- Generating with seed: \"updated #rockyfire map with mandatory ev\"\n",
            "updated #rockyfire map with mandatory ever the peated in the serest and the coust the the a pant the perts deat seart in the war in the a rest the collice the p\n",
            "----- diversity: 0.5\n",
            "----- Generating with seed: \"updated #rockyfire map with mandatory ev\"\n",
            "updated #rockyfire map with mandatory ever a collinge the the prest vit dear in the for the arlia @pabinged #politers #almpert #pass #istighthemauth at care tha\n",
            "----- diversity: 1.0\n",
            "----- Generating with seed: \"updated #rockyfire map with mandatory ev\"\n",
            "updated #rockyfire map with mandatory everromhing tomes meore collices indon'h chhon thuve babk faolmers of utsting #n]hroakescobidendonicing and trice. h2mpar-\n",
            "----- diversity: 1.2\n",
            "----- Generating with seed: \"updated #rockyfire map with mandatory ev\"\n",
            "updated #rockyfire map with mandatory evengescon to #a)se sus a haap: tou acrupen?..uda: any nithiits ...'shend offo pass ometleds akat... fdey wors i deaters: \n",
            "Epoch 58/60\n",
            "159172/159172 [==============================] - 133s 837us/step - loss: 1.2287\n",
            "\n",
            "----- Generating text after Epoch: 57\n",
            "----- diversity: 0.2\n",
            "----- Generating with seed: \"christian attacked by muslims at the tem\"\n",
            "christian attacked by muslims at the temp to the storm in the the seart and the for the the the the the proped the port the the the the the the storm in the pol\n",
            "----- diversity: 0.5\n",
            "----- Generating with seed: \"christian attacked by muslims at the tem\"\n",
            "christian attacked by muslims at the temp on the storm wail fat eiden the cos the perion a respers all of budnding building woll deat dows in the the stre ham f\n",
            "----- diversity: 1.0\n",
            "----- Generating with seed: \"christian attacked by muslims at the tem\"\n",
            "christian attacked by muslims at the tement to nu levia shweld over hy... #susp#caratouk thope fit lape tha expamiturm aithan endeveated budedert plat the worke\n",
            "----- diversity: 1.2\n",
            "----- Generating with seed: \"christian attacked by muslims at the tem\"\n",
            "christian attacked by muslims at the temari?side thon indormidiviss. ie teregge gacking noritild by (atefcarily tomel. re dpmeetor cots obltick thathons zablogr\n",
            "Epoch 59/60\n",
            "159172/159172 [==============================] - 133s 838us/step - loss: 1.2266\n",
            "\n",
            "----- Generating text after Epoch: 58\n",
            "----- diversity: 0.2\n",
            "----- Generating with seed: \"usgs eq: m 1.2 - 23km s of twentynine pa\"\n",
            "usgs eq: m 1.2 - 23km s of twentynine pant a the plood in the the the the south at a the the the the the the sust the the the the seart deat the perest the war \n",
            "----- diversity: 0.5\n",
            "----- Generating with seed: \"usgs eq: m 1.2 - 23km s of twentynine pa\"\n",
            "usgs eq: m 1.2 - 23km s of twentynine pase and the atrante a pont to proont at 15 to ear in the care the sailding out the well a pertorm in a at a plood in the \n",
            "----- diversity: 1.0\n",
            "----- Generating with seed: \"usgs eq: m 1.2 - 23km s of twentynine pa\"\n",
            "usgs eq: m 1.2 - 23km s of twentynine pancter atomion restited wor anco sitet in vathingl plonit gomered in trewh ray wat #tried dave is woth @011-9] #prirg #wa\n",
            "----- diversity: 1.2\n",
            "----- Generating with seed: \"usgs eq: m 1.2 - 23km s of twentynine pa\"\n",
            "usgs eq: m 1.2 - 23km s of twentynine pac aolainst udcue thveopne: greem? wap resthick wich a widstald ontoned #cacaher?:prt: @vighmun #bengethe #hictipbont in \n",
            "Epoch 60/60\n",
            "159172/159172 [==============================] - 134s 845us/step - loss: 1.2242\n",
            "\n",
            "----- Generating text after Epoch: 59\n",
            "----- diversity: 0.2\n",
            "----- Generating with seed: \"(ok) severe thunderstorm warning issued \"\n",
            "(ok) severe thunderstorm warning issued the port of the storm in the for the pont the arter a the the the polled the the the a the the the the the arter a the t\n",
            "----- diversity: 0.5\n",
            "----- Generating with seed: \"(ok) severe thunderstorm warning issued \"\n",
            "(ok) severe thunderstorm warning issued colling to hor ever crapile thit - the for creation in the devere the of the the a the plopon afting in the is the pert \n",
            "----- diversity: 1.0\n",
            "----- Generating with seed: \"(ok) severe thunderstorm warning issued \"\n",
            "(ok) severe thunderstorm warning issued a reruins burb ofe me thiss pheck ave ar.. #tra @inledrentilnatylings0 (phnapsatillirgommerily pormiver of ap onary inol\n",
            "----- diversity: 1.2\n",
            "----- Generating with seed: \"(ok) severe thunderstorm warning issued \"\n",
            "(ok) severe thunderstorm warning issued villlibrid oas shat )!! id acting of thy formaneso tedle in colable sotaliant i expt hated: iscust eprillex's .nontcuoly\n"
          ],
          "name": "stdout"
        },
        {
          "output_type": "execute_result",
          "data": {
            "text/plain": [
              "<keras.callbacks.callbacks.History at 0x7ff5ea1f0f28>"
            ]
          },
          "metadata": {
            "tags": []
          },
          "execution_count": 25
        }
      ]
    },
    {
      "cell_type": "code",
      "metadata": {
        "id": "3yT5sNCf6Bla",
        "colab_type": "code",
        "colab": {}
      },
      "source": [
        "model2.save('model_0.h5')"
      ],
      "execution_count": 0,
      "outputs": []
    },
    {
      "cell_type": "code",
      "metadata": {
        "id": "epes9NYyYCNW",
        "colab_type": "code",
        "colab": {
          "base_uri": "https://localhost:8080/",
          "height": 52
        },
        "outputId": "0adef72a-b607-4a24-d840-b96a533ee4a9"
      },
      "source": [
        "for diversity in [0.2, 0.5, 1.0, 1.2]:\n",
        "#     start_index = random.randint(0, len(text) - maxlen - 1)\n",
        "    with open('model_0_output_with_{}_diversity.txt'.format(diversity), 'a') as f:\n",
        "        start_index = 0\n",
        "        f.write('----- diversity:{}\\n'.format(diversity))\n",
        "        for tweet in text:\n",
        "            generated = ''\n",
        "            sentence = tweet[start_index: start_index + maxlen]\n",
        "            generated += sentence\n",
        "            f.write('----- Generating with seed: \"' + sentence + '\"\\n')\n",
        "#             f.write(generated)\n",
        "\n",
        "            for i in range(120):\n",
        "                x_pred = np.zeros((1, maxlen, len(chars)))\n",
        "                for t, char in enumerate(sentence):\n",
        "                    x_pred[0, t, char_indices[char]] = 1.\n",
        "\n",
        "                preds = model2.predict(x_pred, verbose=0)[0]\n",
        "                next_index = sample(preds, diversity)\n",
        "                next_char = indices_char[next_index]\n",
        "\n",
        "                generated += next_char\n",
        "                sentence = sentence[1:] + next_char\n",
        "\n",
        "#                 sys.stdout.write(next_char)\n",
        "#                 sys.stdout.flush()\n",
        "            f.write(generated + '\\n')\n",
        "            "
      ],
      "execution_count": 27,
      "outputs": [
        {
          "output_type": "stream",
          "text": [
            "/usr/local/lib/python3.6/dist-packages/ipykernel_launcher.py:4: RuntimeWarning: divide by zero encountered in log\n",
            "  after removing the cwd from sys.path.\n"
          ],
          "name": "stderr"
        }
      ]
    },
    {
      "cell_type": "code",
      "metadata": {
        "id": "CkCNpji7i-gj",
        "colab_type": "code",
        "colab": {}
      },
      "source": [
        ""
      ],
      "execution_count": 0,
      "outputs": []
    }
  ]
}